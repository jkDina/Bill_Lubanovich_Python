{
 "cells": [
  {
   "cell_type": "markdown",
   "metadata": {},
   "source": [
    "# Тестирование и отладка"
   ]
  },
  {
   "cell_type": "markdown",
   "metadata": {},
   "source": [
    "### Тестируем код\n"
   ]
  },
  {
   "cell_type": "markdown",
   "metadata": {},
   "source": [
    "Время от времени я делаю небольшое изменение в своем коде и говорю себе: «Выглядит неплохо, можно отправлять». \n",
    "\n",
    "А затем все ломается. Ой! Каждый раз, когда\n",
    "я делаю это (к счастью, со временем все реже и реже), я чувствую себя глупцом и клянусь, что в следующий раз напишу еще больше тестов.\n",
    "\n",
    "Самый простой способ протестировать программы, написанные на Python, —добавить команды print(). \n",
    "\n",
    "Read-Evaluate-Print Loop (REPL) интерактивного интерпретатора позволяет вам быстро изменять код и тестировать изменения. \n",
    "\n",
    "Однако в производственном коде выражения print() использовать не стоит, поэтому вам нужно помнить о том, что следует удалять их. \n",
    "\n",
    "К тому же ошибки, связанные с копированием и вставкой, сделать очень легко."
   ]
  },
  {
   "cell_type": "markdown",
   "metadata": {},
   "source": [
    "### pylint, pyflakes и PEP-8"
   ]
  },
  {
   "cell_type": "markdown",
   "metadata": {},
   "source": [
    "Следующим шагом перед созданием настоящих программ для тестирования является использование контролера кода Python. \n",
    "\n",
    "Самыми популярными являются pylint (http://www.pylint.org/) и pyflakes (http://bit.ly/pyflakes). \n",
    "\n",
    "Вы можете установить любой из них (или даже оба) с помощью pip:"
   ]
  },
  {
   "cell_type": "markdown",
   "metadata": {},
   "source": [
    "$ pip install pylint\n",
    "$ pip install pyflakes"
   ]
  },
  {
   "cell_type": "markdown",
   "metadata": {},
   "source": [
    "Они проверяют на наличие реальных ошибок в коде (например, обращения к переменной до присвоения ей значения) и несоответствие стилю (как если бы\n",
    "код носил одновременно одежду в полоску и в клетку). \n",
    "\n",
    "Рассмотрим практически бессмысленную программу, в которой есть логическая и стилистическая ошибки:"
   ]
  },
  {
   "cell_type": "code",
   "execution_count": null,
   "metadata": {},
   "outputs": [],
   "source": [
    "a = 1\n",
    "b = 2\n",
    "print(a)\n",
    "print(b)\n",
    "print(c)"
   ]
  },
  {
   "cell_type": "markdown",
   "metadata": {},
   "source": [
    "Так выглядит выходная информация от pylint:\n"
   ]
  },
  {
   "cell_type": "markdown",
   "metadata": {},
   "source": [
    " pylint style1.py"
   ]
  },
  {
   "cell_type": "markdown",
   "metadata": {},
   "source": [
    "No config file found, using default configuration\n",
    "************* Module style1\n",
    "C: 1,0: Missing docstring\n",
    "C: 1,0: Invalid name \"a\" for type constant\n",
    " (should match (([A-Z_][A-Z0-9_]*)|(__.*__))$)\n",
    "C: 2,0: Invalid name \"b\" for type constant\n",
    " (should match (([A-Z_][A-Z0-9_]*)|(__.*__))$)\n",
    "E: 5,6: Undefined variable 'c'"
   ]
  },
  {
   "cell_type": "markdown",
   "metadata": {},
   "source": [
    "Если пролистать дальше, к разделу Global evaluation, можно увидеть наш счет\n",
    "(10.0 — это высший балл)"
   ]
  },
  {
   "cell_type": "markdown",
   "metadata": {},
   "source": [
    "Your code has been rated at -3.33/10"
   ]
  },
  {
   "cell_type": "markdown",
   "metadata": {},
   "source": [
    "Ой! Сначала исправим ошибку. Строка вывода pylint, которая начинается с E, указывает на то, что найдена ошибка, которая заключается в том, что мы не присвоили значение переменной с до ее вывода на экран. \n",
    "\n",
    "Давайте это исправим:"
   ]
  },
  {
   "cell_type": "code",
   "execution_count": null,
   "metadata": {},
   "outputs": [],
   "source": [
    "a = 1\n",
    "b = 2\n",
    "c = 3\n",
    "print(a)\n",
    "print(b)\n",
    "print(c)\n",
    "$ pylint style2.py"
   ]
  },
  {
   "cell_type": "markdown",
   "metadata": {},
   "source": [
    "No config file found, using default configuration\n",
    "************* Module style2\n",
    "C: 1,0: Missing docstring\n",
    "C: 1,0: Invalid name \"a\" for type constant\n",
    " (should match (([A-Z_][A-Z0-9_]*)|(__.*__))$)\n",
    "C: 2,0: Invalid name \"b\" for type constant\n",
    "(should match (([A-Z_][A-Z0-9_]*)|(__.*__))$)\n",
    "C: 3,0: Invalid name \"c\" for type constant\n",
    " (should match (([A-Z_][A-Z0-9_]*)|(__.*__))$)"
   ]
  },
  {
   "cell_type": "markdown",
   "metadata": {},
   "source": [
    "(should match (([A-Z_][A-Z0-9_]*)|(__.*__))$)\n",
    "Отлично, больше строк, начинающихся с Е, нет. Наш счет увеличился с -3.33\n",
    "до 4.29:"
   ]
  },
  {
   "cell_type": "markdown",
   "metadata": {},
   "source": [
    "Your code has been rated at 4.29/10"
   ]
  },
  {
   "cell_type": "markdown",
   "metadata": {},
   "source": [
    "pylint хочет увидеть строку документации (короткий текстовый фрагмент в верхней части модуля или функции, описывающий код) и считает, что короткие имена переменных вроде a, b и c не очень аккуратны. \n",
    "\n",
    "Сделаем pylint счастливее, а наш код — еще лучше:"
   ]
  },
  {
   "cell_type": "code",
   "execution_count": null,
   "metadata": {},
   "outputs": [],
   "source": [
    "\"Module docstring goes here\"\n",
    "def func():\n",
    "    \"Function docstring goes here. Hi, Mom!\"\n",
    "    first = 1\n",
    "    second = 2\n",
    "    third = 3\n",
    "    print(first)\n",
    "    print(second)\n",
    "    print(third)\n",
    "func()"
   ]
  },
  {
   "cell_type": "code",
   "execution_count": null,
   "metadata": {},
   "outputs": [],
   "source": [
    "$ pylint style3.py\n",
    "No config file found, using default configuration"
   ]
  },
  {
   "cell_type": "markdown",
   "metadata": {},
   "source": [
    "Жалоб нет. А какой у нас счет?"
   ]
  },
  {
   "cell_type": "markdown",
   "metadata": {},
   "source": [
    "Your code has been rated at 10.00/10"
   ]
  },
  {
   "cell_type": "markdown",
   "metadata": {},
   "source": [
    "Не так уж и плохо?\n",
    "Еще одним контролером стиля является PEP-8 (https://pypi.python.org/pypi/pep8),\n",
    "вы можете установить его привычным способом:"
   ]
  },
  {
   "cell_type": "markdown",
   "metadata": {},
   "source": [
    "$ pip install pep8"
   ]
  },
  {
   "cell_type": "markdown",
   "metadata": {},
   "source": [
    "Что он скажет о нашей последней версии кода?"
   ]
  },
  {
   "cell_type": "markdown",
   "metadata": {},
   "source": [
    "$ pep8 style3.py"
   ]
  },
  {
   "cell_type": "markdown",
   "metadata": {},
   "source": [
    "style3.py:3:1: E302 expected 2 blank lines, found 1"
   ]
  },
  {
   "cell_type": "markdown",
   "metadata": {},
   "source": [
    "Чтобы сделать код еще более стильным, он рекомендует добавить пустую строку после начальной строки документации модуля."
   ]
  },
  {
   "cell_type": "markdown",
   "metadata": {},
   "source": [
    "### unittest"
   ]
  },
  {
   "cell_type": "markdown",
   "metadata": {},
   "source": [
    "Мы убедились, что больше не оскорбляем чувство стиля богов кода, поэтому теперь можно перейти к настоящим тестам логики вашей программы.\n",
    "\n",
    "Хорошим тоном является написание и запуск тестовых программ до отправки кода в систему контроля исходного кода. \n",
    "\n",
    "Написание тестов поначалу может быть утомительным, но они действительно помогают вам находить проблемы быстрее,\n",
    "особенно регрессионные тесты (суть которых заключается в том, чтобы сломать то, что раньше работало). \n",
    "\n",
    "Болезненный опыт учит всех разработчиков тому, что\n",
    "даже самое маленькое изменение, которое, по их заверениям, не затрагивает другие области приложения, на самом деле влияет на них. \n",
    "\n",
    "Если вы взглянете на качественные пакеты Python, то заметите, что они поставляются с набором тестов.\n",
    "\n",
    "Стандартная библиотека содержит не один, а целых два пакета для тестирования приложений. \n",
    "\n",
    "Начнем с unittest (https://docs.python.org/3/library/unittest.html). \n",
    "\n",
    "Мы напишем модуль, который записывает слова с прописной буквы. \n",
    "\n",
    "Наша первая версия будет использовать стандартную строковую функцию capitalize(), что, как вы увидите, приведет к неожиданным результатам. \n",
    "\n",
    "Сохраните этот файл под именем cap.py:"
   ]
  },
  {
   "cell_type": "code",
   "execution_count": null,
   "metadata": {},
   "outputs": [],
   "source": [
    "def just_do_it(text):\n",
    "    return text.capitalize()"
   ]
  },
  {
   "cell_type": "markdown",
   "metadata": {},
   "source": [
    "Основная идея тестирования заключается в том, чтобы понять, какой результат вы хотите получить при определенных входных данных (в нашем примере вы\n",
    "хотите получить текст, который ввели, записанным с прописной буквы), отправить результат функции тестирования, а затем проверить, получен ли ожидаемый\n",
    "результат. \n",
    "\n",
    "Ожидаемый результат называется утверждением (assertion), поэтому в рамках пакета unittest вы проверяете результат с помощью методов, чьи имена начинаются со слова assert, например assertEqual, показанного в следующем\n",
    "примере.\n",
    "\n",
    "Сохраните этот сценарий тестирования под именем test_cap.py:"
   ]
  },
  {
   "cell_type": "code",
   "execution_count": null,
   "metadata": {},
   "outputs": [],
   "source": [
    "import unittest\n",
    "import cap\n",
    "class TestCap(unittest.TestCase):\n",
    "    def setUp(self):\n",
    "        pass\n",
    "    def tearDown(self):\n",
    "        pass\n",
    "    def test_one_word(self):\n",
    "        text = 'duck'\n",
    "        result = cap.just_do_it(text)\n",
    "        self.assertEqual(result, 'Duck')\n",
    "    def test_multiple_words(self):\n",
    "        text = 'a veritable flock of ducks'\n",
    "        result = cap.just_do_it(text)\n",
    "        self.assertEqual(result, 'A Veritable Flock Of Ducks')\n",
    "if __name__ == '__main__':\n",
    "    unittest.main()"
   ]
  },
  {
   "cell_type": "markdown",
   "metadata": {},
   "source": [
    "Перед каждым методом тестирования вызывается метод setUp(), а после каждого из методов тестирования — метод tearDown(). \n",
    "\n",
    "Задачей этих методов является выделение и освобождение внешних ресурсов, необходимых для тестов, вроде соединения с базой данных или создания некоторых тестовых данных. \n",
    "\n",
    "В нашем случае тесты автономны, и нам даже ненужно определять методы setUp() и tearDown(), однако создать их пустые версии не повредит. \n",
    "\n",
    "Сердцем наших тестов являются две функции с именами test_one_word() и test_multiple_words(). \n",
    "\n",
    "Каждая из них запускает определенную нами функцию just_do_it() с разными входными параметрами и проверяет, получен ли ожидаемый результат.\n",
    "\n",
    "О’кей, запустим тест. Эта команда вызовет два наших метода тестирования:"
   ]
  },
  {
   "cell_type": "markdown",
   "metadata": {},
   "source": [
    "$ python test_cap.py"
   ]
  },
  {
   "cell_type": "code",
   "execution_count": null,
   "metadata": {},
   "outputs": [],
   "source": [
    "F.\n",
    " ======================================================================\n",
    " FAIL: test_multiple_words (__main__.TestCap)\n",
    " ----------------------------------------------------------------------\n",
    " Traceback (most recent call last):\n",
    " File \"test_cap.py\", line 20, in test_multiple_words\n",
    " self.assertEqual(result, 'A Veritable Flock Of Ducks')\n",
    " AssertionError: 'A veritable flock of ducks' != 'A Veritable Flock Of Ducks'\n",
    "— A veritable flock of ducks\n",
    " ? ^ ^ ^ ^\n",
    " + A Veritable Flock Of Ducks\n",
    " ? ^ ^ ^ ^\n",
    " ----------------------------------------------------------------------\n",
    "Ran 2 tests in 0.001s\n",
    " FAILED (failures=1)"
   ]
  },
  {
   "cell_type": "markdown",
   "metadata": {},
   "source": [
    "Пакет устроил результат первой проверки (test_one_word), но не результат второй (test_multiple_words). \n",
    "\n",
    "Стрелки вверх (^) показывают, какие строки отличаются.\n",
    "\n",
    "Что такого особенного в примере с несколькими словами? \n",
    "\n",
    "После прочтения документации для строковой функции capitalize (https://docs.python.org/3/library/\n",
    "stdtypes.html#str.capitalize) мы поняли причину проблемы: она увеличивает только первую букву первого слова. \n",
    "\n",
    "Возможно, нам сразу нужно было начать с чтения\n",
    "документации.\n",
    "\n",
    "Нам нужна другая функция. После прочтения той страницы мы нашли функцию\n",
    "title( (https://docs.python.org/3/library/stdtypes.html#str.title). \n",
    "\n",
    "Изменим файл cap.py так, чтобы в нем вместо функции capitalize() использовалась функция title():"
   ]
  },
  {
   "cell_type": "markdown",
   "metadata": {},
   "source": [
    "Повторите тесты и взгляните на результат:"
   ]
  },
  {
   "cell_type": "markdown",
   "metadata": {},
   "source": [
    "$ python test_cap.py\n",
    " ..\n",
    " ----------------------------------------------------------------------\n",
    "Ran 2 tests in 0.000s\n",
    "OK"
   ]
  },
  {
   "cell_type": "markdown",
   "metadata": {},
   "source": [
    "Все прошло отлично. Хотя на самом деле нет. Нам нужно добавить в файл\n",
    "test_cap.py как минимум еще один метод:\n"
   ]
  },
  {
   "cell_type": "code",
   "execution_count": null,
   "metadata": {},
   "outputs": [],
   "source": [
    "def test_words_with_apostrophes(self):\n",
    "    text = \"I'm fresh out of ideas\"\n",
    "    result = cap.just_do_it(text)\n",
    "    self.assertEqual(result, \"I'm Fresh Out Of Ideas\")\n"
   ]
  },
  {
   "cell_type": "markdown",
   "metadata": {},
   "source": [
    "Запустите тесты еще раз:"
   ]
  },
  {
   "cell_type": "code",
   "execution_count": null,
   "metadata": {},
   "outputs": [],
   "source": [
    "$ python test_cap.py\n",
    "..F\n",
    " ======================================================================\n",
    " FAIL: test_words_with_apostrophes (__main__.TestCap)\n",
    " ----------------------------------------------------------------------\n",
    " Traceback (most recent call last):\n",
    " File \"test_cap.py\", line 25, in test_words_with_apostrophes\n",
    " self.assertEqual(result, \"I'm Fresh Out Of Ideas\")\n",
    " AssertionError: \"I'M Fresh Out Of Ideas\" != \"I'm Fresh Out Of Ideas\"\n",
    "— I'M Fresh Out Of Ideas\n",
    " ? ^\n",
    " + I'm Fresh Out Of Ideas\n",
    " ? ^\n",
    " ----------------------------------------------------------------------\n",
    "Ran 3 tests in 0.001s\n",
    " FAILED (failures=1)"
   ]
  },
  {
   "cell_type": "markdown",
   "metadata": {},
   "source": [
    "Наша функция увеличила букву m в конструкции I'm. \n",
    "\n",
    "В документации к функции title() мы обнаружили, что она плохо работает с апострофами. \n",
    "\n",
    "Нам действительно стоило сначала прочитать ее текст целиком.\n",
    "\n",
    "В самом конце документации стандартной библиотеки, касающейся строк, мы находим еще одного кандидата — вспомогательную функцию с именем capwords().\n",
    "\n",
    "Используем ее в файле cap.py:"
   ]
  },
  {
   "cell_type": "code",
   "execution_count": null,
   "metadata": {},
   "outputs": [],
   "source": [
    "def just_do_it(text):\n",
    "    from string import capwords\n",
    "    return capwords(text)"
   ]
  },
  {
   "cell_type": "markdown",
   "metadata": {},
   "source": [
    "$ python test_cap.py"
   ]
  },
  {
   "cell_type": "code",
   "execution_count": null,
   "metadata": {},
   "outputs": [],
   "source": [
    " ...\n",
    " ----------------------------------------------------------------------\n",
    "Ran 3 tests in 0.004s\n",
    "OK"
   ]
  },
  {
   "cell_type": "markdown",
   "metadata": {},
   "source": [
    "Наконец-то мы это сделали! Э-э-э, на самом деле нет. Нужно добавить еще один тест в файл test_cap.py:"
   ]
  },
  {
   "cell_type": "code",
   "execution_count": null,
   "metadata": {},
   "outputs": [],
   "source": [
    "def test_words_with_quotes(self):\n",
    "    text = \"\\\"You're despicable,\\\" said Daffy Duck\"\n",
    "    result = cap.just_do_it(text)\n",
    "    self.assertEqual(result, \"\\\"You're Despicable,\\\" Said Daffy Duck\")"
   ]
  },
  {
   "cell_type": "markdown",
   "metadata": {},
   "source": [
    "Сработало?"
   ]
  },
  {
   "cell_type": "code",
   "execution_count": null,
   "metadata": {},
   "outputs": [],
   "source": [
    "$ python test_cap.py\n",
    " ...F\n",
    " ======================================================================\n",
    " FAIL: test_words_with_quotes (__main__.TestCap)\n",
    " ----------------------------------------------------------------------\n",
    " Traceback (most recent call last):\n",
    " File \"test_cap.py\", line 30, in test_words_with_quotes\n",
    " self.assertEqual(result, \"\\\"You're\n",
    " Despicable,\\\" Said Daffy Duck\")\n",
    " AssertionError: '\"you\\'re Despicable,\" Said Daffy Duck'\n",
    " != '\"You\\'re Despicable,\" Said Daffy Duck'\n",
    "— \"you're Despicable,\" Said Daffy Duck\n",
    " ? ^\n",
    " + \"You're Despicable,\" Said Daffy Duck\n",
    " ? ^\n",
    " ----------------------------------------------------------------------\n",
    "Ran 4 tests in 0.004s\n",
    " FAILED (failures=1)"
   ]
  },
  {
   "cell_type": "markdown",
   "metadata": {},
   "source": [
    "Выглядит так, будто первая двойная кавычка смутила даже функцию capwords, нашего текущего фаворита. \n",
    "\n",
    "Она попробовала увеличить символ \" и уменьшить все\n",
    "остальное (You're). Нам также нужно проверить, оставила ли функция-увеличитель остальную часть строки нетронутой.\n",
    "\n",
    "Люди, которые зарабатывают тестированием на жизнь, способны замечать такие крайние случаи, но разработчики часто забывают о таких ситуациях, когда речь\n",
    "идет об их собственном коде.\n",
    "\n",
    "Пакет unittest предоставляет небольшой, но мощный набор операторов, позволяющих вам проверять значения, убеждаться в том, что вы имеете необходимый\n",
    "класс, определять, сгенерировалась ли ошибка, и т. д."
   ]
  },
  {
   "cell_type": "markdown",
   "metadata": {},
   "source": [
    "### Пакет doctest"
   ]
  },
  {
   "cell_type": "markdown",
   "metadata": {},
   "source": [
    "Вторым пакетом для тестирования стандартной библиотеки является doctest (http://bit.ly/py-doctest). \n",
    "\n",
    "С помощью этого пакета вы можете писать тесты внутри\n",
    "строки документации, которые и сами будут служить документацией. \n",
    "\n",
    "Он выглядит как интерактивный интерпретатор: символы >>>, за которыми следует вызов, а затем результаты в следующей строке. \n",
    "\n",
    "Вы можете запустить некоторые тесты в интерактивном интерпретаторе и просто вставить результат в свой тестовый файл.\n",
    "\n",
    "Мы модифицируем файл cap.py (убрав тот проблемный тест с кавычками):"
   ]
  },
  {
   "cell_type": "code",
   "execution_count": null,
   "metadata": {},
   "outputs": [],
   "source": [
    "def just_do_it(text):\n",
    "    \"\"\"\n",
    "    >>> just_do_it('duck')\n",
    "    'Duck'\n",
    "    >>> just_do_it('a veritable flock of ducks')\n",
    "    'A Veritable Flock Of Ducks'\n",
    "    >>> just_do_it(\"I'm fresh out of ideas\")\n",
    "    \"I'm Fresh Out Of Ideas\"\n",
    "    \"\"\"\n",
    "    from string import capwords\n",
    "    return capwords(text)\n",
    "if __name__ == '__main__':\n",
    "    import doctest\n",
    "    doctest.testmod()\n"
   ]
  },
  {
   "cell_type": "markdown",
   "metadata": {},
   "source": [
    "Когда вы его запустите, в случае успеха он не выведет ничего:"
   ]
  },
  {
   "cell_type": "markdown",
   "metadata": {},
   "source": [
    "$ python cap.py"
   ]
  },
  {
   "cell_type": "markdown",
   "metadata": {},
   "source": [
    "Запустите его с опцией -v (verbose, verbose), чтобы увидеть, что произошло на\n",
    "самом деле:"
   ]
  },
  {
   "cell_type": "markdown",
   "metadata": {},
   "source": [
    "$ python cap.py -v"
   ]
  },
  {
   "cell_type": "markdown",
   "metadata": {},
   "source": [
    " Trying:\n",
    " just_do_it('duck')\n",
    " Expecting:\n",
    " 'Duck'\n",
    " ok\n",
    " Trying:\n",
    " just_do_it('a veritable flock of ducks')\n",
    " Expecting:\n",
    " 'A Veritable Flock Of Ducks'\n",
    " ok\n",
    " Trying:\n",
    " just_do_it(\"I'm fresh out of ideas\")\n",
    " Expecting:\n",
    " \"I'm Fresh Out Of Ideas\"\n",
    " ok\n",
    " 1 items had no tests:\n",
    " __main__\n",
    " 1 items passed all tests:\n",
    " 3 tests in __main__.just_do_it\n",
    " 3 tests in 2 items.\n",
    "3 passed and 0 failed.\n",
    "Test passed."
   ]
  },
  {
   "cell_type": "markdown",
   "metadata": {},
   "source": [
    "### Пакет nose"
   ]
  },
  {
   "cell_type": "markdown",
   "metadata": {},
   "source": [
    "https://github.com/nose-devs/nose2"
   ]
  },
  {
   "cell_type": "markdown",
   "metadata": {},
   "source": [
    "Сторонний пакет nose (https://nose.readthedocs.org/en/latest/) — это еще одна альтернатива пакету unittest. Команда, позволяющая установить его, выглядит так:"
   ]
  },
  {
   "cell_type": "markdown",
   "metadata": {},
   "source": [
    "$ pip install nose"
   ]
  },
  {
   "cell_type": "markdown",
   "metadata": {},
   "source": [
    "Вам не нужно создавать класс, который содержит тестовые методы, как мы делали при работе с unittest. \n",
    "\n",
    "Любая функция, содержащая в своем имени слово\n",
    "test, будет запущена. \n",
    "\n",
    "Модифицируем нашего последнего тестировщика Unittest\n",
    "и сохраним его под именем test_cap_nose.py:"
   ]
  },
  {
   "cell_type": "code",
   "execution_count": null,
   "metadata": {},
   "outputs": [],
   "source": [
    "import cap\n",
    "from nose.tools import eq_\n",
    "def test_one_word():\n",
    "    text = 'duck'\n",
    "    result = cap.just_do_it(text)\n",
    "    eq_(result, 'Duck')\n",
    "def test_multiple_words():\n",
    "    text = 'a veritable flock of ducks'\n",
    "    result = cap.just_do_it(text)\n",
    "    eq_(result, 'A Veritable Flock Of Ducks')\n",
    "def test_words_with_apostrophes():\n",
    "    text = \"I'm fresh out of ideas\"\n",
    "    result = cap.just_do_it(text)\n",
    "    eq_(result, \"I'm Fresh Out Of Ideas\")\n",
    "def test_words_with_quotes():\n",
    "    text = \"\\\"You're despicable,\\\" said Daffy Duck\"\n",
    "    result = cap.just_do_it(text)\n",
    "    eq_(result, \"\\\"You're Despicable,\\\" Said Daffy Duck\")\n"
   ]
  },
  {
   "cell_type": "markdown",
   "metadata": {},
   "source": [
    "Запустим тесты:"
   ]
  },
  {
   "cell_type": "code",
   "execution_count": null,
   "metadata": {},
   "outputs": [],
   "source": [
    "$ nosetests test_cap_nose.py\n",
    " ...F\n",
    " ======================================================================\n",
    " FAIL: test_cap_nose.test_words_with_quotes\n",
    " ----------------------------------------------------------------------\n",
    " Traceback (most recent call last):\n",
    " File \"/Users/.../site-packages/nose/case.py\", line 198, in runTest\n",
    " self.test(*self.arg)\n",
    " File \"/Users/.../book/test_cap_nose.py\", line 23, in test_words_with_quotes\n",
    " eq_(result, \"\\\"You're Despicable,\\\" Said Daffy Duck\")\n",
    " AssertionError: '\"you\\'re Despicable,\" Said Daffy Duck'\n",
    " != '\"You\\'re Despicable,\" Said Daffy Duck'\n",
    "----------------------------------------------------------------------\n",
    "Ran 4 tests in 0.005s\n",
    " FAILED (failures=1)"
   ]
  },
  {
   "cell_type": "markdown",
   "metadata": {},
   "source": [
    "Мы нашли ту же ошибку, что и при использовании unittest, к счастью, в конце этой главы приводится упражнение, в котором вам предстоит ее исправить."
   ]
  },
  {
   "cell_type": "markdown",
   "metadata": {},
   "source": [
    "### Другие фреймворки для тестирования"
   ]
  },
  {
   "cell_type": "markdown",
   "metadata": {},
   "source": [
    "По некоторой причине людям нравится писать тестовые фреймворки для Python.\n",
    "\n",
    "Если вам любопытно, можете взглянуть на другие популярные решения вроде tox и py.test."
   ]
  },
  {
   "cell_type": "markdown",
   "metadata": {},
   "source": [
    "### Постоянная интеграция"
   ]
  },
  {
   "cell_type": "markdown",
   "metadata": {},
   "source": [
    "Когда ваша группа генерирует много кода каждый день, полезно автоматизировать тесты по мере появления изменений. \n",
    "\n",
    "Вы можете автоматизировать системы контроля версий так, чтобы тесты запускались по мере появления нового кода.\n",
    "\n",
    "Таким образом, каждый будет знать, что кто-то сломал билд и убежал обедать пораньше.\n",
    "\n",
    "Эти системы велики, и я не буду рассматривать детали их установки и использования. \n",
    "\n",
    "Если они вам когда-нибудь понадобятся, вы будете знать, где их искать.\n",
    "\n",
    " buildbot (http://buildbot.net/). Эта система контроля версий, написанная на Python, автоматизирует построение, тестирование и выпуск кода.\n",
    "\n",
    " jenkins (http://jenkins-ci.org/). Система написана на Java, она выглядит наиболее предпочтительным инструментом для постоянной интеграции в данный момент.\n",
    "\n",
    " travis-ci (http://travis-ci.com/). Эта система автоматизирует проекты, размещенные на GitHub, она бесплатна для проектов с открытым исходным кодом."
   ]
  },
  {
   "cell_type": "markdown",
   "metadata": {},
   "source": [
    "# Отлаживаем свой код"
   ]
  },
  {
   "cell_type": "markdown",
   "metadata": {},
   "source": [
    "Всегда тестируйте свой код. Чем лучше тесты, тем меньше вам предстоит работы в дальнейшем. \n",
    "\n",
    "Однако ошибки случаются, и их нужно исправлять. Самый простой способ выполнять отладку в Python — построчно выполнять код. \n",
    "\n",
    "Полезно отображать результат работы функции vars(), которая извлекает значения ваших локальных переменных, включая аргументы функций:"
   ]
  },
  {
   "cell_type": "markdown",
   "metadata": {},
   "source": [
    "https://pythonz.net/references/named/vars/"
   ]
  },
  {
   "cell_type": "code",
   "execution_count": 1,
   "metadata": {},
   "outputs": [
    {
     "name": "stdout",
     "output_type": "stream",
     "text": [
      "{'args': (1, 2, 3), 'kwargs': {}}\n"
     ]
    }
   ],
   "source": [
    "def func(*args, **kwargs):\n",
    "    print(vars())\n",
    "func(1, 2, 3)"
   ]
  },
  {
   "cell_type": "code",
   "execution_count": 2,
   "metadata": {},
   "outputs": [
    {
     "name": "stdout",
     "output_type": "stream",
     "text": [
      "{'args': (['a', 'b', 'argh'],), 'kwargs': {}}\n"
     ]
    }
   ],
   "source": [
    "func(['a', 'b', 'argh'])"
   ]
  },
  {
   "cell_type": "markdown",
   "metadata": {},
   "source": [
    "Как вы уже знаете из раздела «Декораторы» главы 4, декоратор может вызывать код, располагающийся до или после функции, не модифицируя код внутри самой\n",
    "функции. \n",
    "\n",
    "Это значит, что вы можете использовать декоратор, чтобы выполнить какое-либо действие до или после вызова любой функции, а не только тех, которые написали вы. \n",
    "\n",
    "Определим декоратор dump, который позволяет вывести на экран входные аргументы и выводимые значения любой функции по мере ее вызова (дизайнеры знают, что выходные данные нужно декорировать):"
   ]
  },
  {
   "cell_type": "code",
   "execution_count": 3,
   "metadata": {},
   "outputs": [],
   "source": [
    "def dump(func):\n",
    "    \"Print input arguments and output value(s)\"\n",
    "    def wrapped(*args, **kwargs):\n",
    "        print(\"Function name: %s\" % func.__name__)\n",
    "        print(\"Input arguments: %s\" % ' '.join(map(str, args)))\n",
    "        print(\"Input keyword arguments: %s\" % kwargs.items())\n",
    "        output = func(*args, **kwargs)\n",
    "        print(\"Output:\", output)\n",
    "        return output\n",
    "    return wrapped"
   ]
  },
  {
   "cell_type": "markdown",
   "metadata": {},
   "source": [
    "Перейдем к декорируемой части. Это функция с именем double(), которая принимает именованные или безымянные числовые аргументы и возвращает их удвоенные значения в списке:"
   ]
  },
  {
   "cell_type": "code",
   "execution_count": 4,
   "metadata": {},
   "outputs": [
    {
     "name": "stdout",
     "output_type": "stream",
     "text": [
      "Function name: double\n",
      "Input arguments: 3 5\n",
      "Input keyword arguments: dict_items([('first', 100), ('next', 98.6), ('last', -40)])\n",
      "Output: ([6, 10], {'first': 200, 'next': 197.2, 'last': -80})\n"
     ]
    }
   ],
   "source": [
    "@dump\n",
    "def double(*args, **kwargs):\n",
    "    \"Double every argument\"\n",
    "    output_list = [ 2 * arg for arg in args ]\n",
    "    output_dict = { k:2*v for k,v in kwargs.items() }\n",
    "    return output_list, output_dict\n",
    "\n",
    "output = double(3, 5, first=100, next=98.6, last=-40)\n"
   ]
  },
  {
   "cell_type": "markdown",
   "metadata": {},
   "source": [
    "# Отлаживаем с помощью pdb"
   ]
  },
  {
   "cell_type": "markdown",
   "metadata": {},
   "source": [
    "Эти приемы полезны, но иногда ничто не сможет заменить настоящий отладчик.\n",
    "\n",
    "Большинство IDE содержат отладчики, чьи возможности и пользовательские интерфейсы могут варьироваться. \n",
    "\n",
    "В этом разделе я опишу использование стандартного отладчика Python pdb (https://docs.python.org/3/library/pdb.html)."
   ]
  },
  {
   "cell_type": "markdown",
   "metadata": {},
   "source": [
    "Рассмотрим программу с ошибкой, которая зависит от входных данных, — такую ошибку может быть особенно трудно найти. \n",
    "\n",
    "Это реальная ошибка, возникшая в ранние дни программирования, она довольно долго сбивала с толку\n",
    "программистов.\n",
    "\n",
    "Мы собираемся считать файл, содержащий названия стран и их столиц, разделенные запятыми, и вывести их на экран в формате «столица, страна». \n",
    "\n",
    "Учтите, что прописные буквы в словах могут быть неправильно расставлены, поэтому нам нужно исправить это при выводе на экран. \n",
    "\n",
    "В файле также могут быть лишние пробелы, вам нужно избавиться и от них. \n",
    "\n",
    "Наконец, несмотря на то что было бы логично считать весь файл до конца, по какой-то причине наш менеджер сказал нам остановиться, если мы встретим слово quit (состоящее из смеси прописных и строчных букв). \n",
    "\n",
    "Так выглядит файл с данными:"
   ]
  },
  {
   "cell_type": "markdown",
   "metadata": {},
   "source": [
    "France, Paris\n",
    "venuzuela,caracas\n",
    " LithuniA,vilnius\n",
    " quit"
   ]
  },
  {
   "cell_type": "markdown",
   "metadata": {},
   "source": [
    "Разработаем алгоритм (способ решения задачи). \n",
    "\n",
    "Это псевдокод, он выглядит как программа, но является лишь способом выразить логику простым языком до преобразования его в настоящую программу. \n",
    "\n",
    "Одна из причин, по которым программисты любят Python, — он выглядит очень похожим на псевдокод, поэтому\n",
    "его не так трудно преобразовать в рабочую программу:"
   ]
  },
  {
   "cell_type": "markdown",
   "metadata": {},
   "source": [
    "для каждой строки в текстовом файле\n",
    "считать строку\n",
    "удалить пробелы в начале и конце строки\n",
    "если найдена строка \"quit\" в строке, записанной в нижнем регистре\n",
    "остановиться\n",
    "иначе\n",
    "разделить страну и столицу символом запятой\n",
    "удалить пробелы в начале и конце\n",
    "записать страну и столицу с прописной буквы\n",
    "вывести на экран столицу, запятую и страну"
   ]
  },
  {
   "cell_type": "markdown",
   "metadata": {},
   "source": [
    "Нам нужно удалить из имен начальные и конечные пробелы, поскольку это является требованием к программе. Аналогично мы поступаем со сравнением со строкой quit и записью названий страны и города с прописной буквы. \n",
    "\n",
    "Имея это в виду, напишем файл capitals.py, который точно будет работать корректно:"
   ]
  },
  {
   "cell_type": "code",
   "execution_count": 5,
   "metadata": {},
   "outputs": [
    {
     "name": "stdout",
     "output_type": "stream",
     "text": [
      "Paris,France\n",
      "Caracas,Venuzuela\n",
      "Vilnius,Lithunia\n"
     ]
    }
   ],
   "source": [
    "def process_cities(filename):\n",
    "    with open(filename, 'rt') as file:\n",
    "        for line in file:\n",
    "            line = line.strip()\n",
    "            if 'quit' in line.lower():\n",
    "                return\n",
    "            country, city = line.split(',')\n",
    "            city = city.strip()\n",
    "            country = country.strip()\n",
    "            print(city.title(), country.title(), sep=',')\n",
    "\n",
    "import sys\n",
    "process_cities('read_this1.txt')"
   ]
  },
  {
   "cell_type": "markdown",
   "metadata": {},
   "source": [
    "Выглядит отлично! Программа прошла один тест, поэтому отправим ее на производство обрабатывать столицы и страны со всего мира, пока она не ошибется на данном файле:"
   ]
  },
  {
   "cell_type": "markdown",
   "metadata": {},
   "source": [
    "Программа завершается после вывода всего пяти строк, несмотря на то что\n",
    "в файле их было 15, как показано здесь:"
   ]
  },
  {
   "cell_type": "markdown",
   "metadata": {},
   "source": [
    "python capitals.py read_this2.txt"
   ]
  },
  {
   "cell_type": "markdown",
   "metadata": {},
   "source": [
    "Buenos Aires,Argentina\n",
    "La Paz,Bolivia\n",
    "Brazilia,Brazil\n",
    "Santiago,Chile\n",
    "Bogotá,Colombia"
   ]
  },
  {
   "cell_type": "markdown",
   "metadata": {},
   "source": [
    "Программа завершается после вывода всего пяти строк, несмотря на то что в файле их было 15, как показано здесь:"
   ]
  },
  {
   "cell_type": "markdown",
   "metadata": {},
   "source": [
    "Что случилось? Мы можем продолжать редактировать файл capitals.py, размещая выражения print() в тех местах, где может возникнуть ошибка, но посмотрим, сможет ли нам помочь отладчик."
   ]
  },
  {
   "cell_type": "markdown",
   "metadata": {},
   "source": [
    "Для того чтобы использовать отладчик, импортируйте модуль pdb из командной строки, введя –m pdb, например, так:"
   ]
  },
  {
   "cell_type": "code",
   "execution_count": null,
   "metadata": {},
   "outputs": [],
   "source": [
    "$ python -m pdb capitals.py read_this2.txt"
   ]
  },
  {
   "cell_type": "markdown",
   "metadata": {},
   "source": [
    "> /Users/williamlubanovic/book/capitals.py(1)<module>()\n",
    "-> def process_cities(filename):\n",
    "(Pdb)"
   ]
  },
  {
   "cell_type": "markdown",
   "metadata": {},
   "source": [
    "Это запустит программу и разместит вас на первой строке. Если вы введете символ с (от слова continue — «продолжить»), программа будет работать, пока не завершится либо естественным образом, либо из-за ошибки:"
   ]
  },
  {
   "cell_type": "markdown",
   "metadata": {},
   "source": [
    "(Pdb) c\n",
    "Buenos Aires,Argentina\n",
    "La Paz,Bolivia\n",
    "Brazilia,Brazil\n",
    "Santiago,Chile\n",
    "Bogotá,Colombia\n",
    "The program finished and will be restarted\n",
    "> /Users/williamlubanovic/book/capitals.py(1)<module>()\n",
    "-> def process_cities(filename):\n"
   ]
  },
  {
   "cell_type": "markdown",
   "metadata": {},
   "source": [
    "Программа завершилась нормально, точно так же, как и раньше, когда мы запускали ее вне отладчика. \n",
    "\n",
    "Попробуем запустить ее снова, использовав специальные\n",
    "команды, чтобы сузить место поиска проблемы. \n",
    "\n",
    "Похоже, имеет место логическая ошибка, а не синтаксическая проблема или исключение (из-за них мы бы увидели сообщение об ошибке).\n",
    "\n",
    "Введите s (step — «шаг»), чтобы пройти по отдельным строкам кода. \n",
    "\n",
    "Это позволит пройти по всем строкам — вашим, стандартной библиотеки и любых других используемых вами модулей. \n",
    "\n",
    "Когда вы применяете команду s, вы также входите\n",
    "во все функции и проходите каждую построчно. \n",
    "\n",
    "Введите n (next — «следующий»), чтобы идти по шагам, но не заходить внутрь функций: когда вы находитесь на\n",
    "строке, где вызывается функция, эта команда выполняет всю функцию и вы оказываетесь на следующей строке. \n",
    "\n",
    "Используйте s, если вы не уверены в том, где\n",
    "конкретно есть проблема, а n — если уверены, что некоторая функция проблем не вызывает, особенно если это длинная функция. \n",
    "\n",
    "Зачастую вы будете проходить построчно весь свой код и пропускать библиотечный, поскольку подразумевается,\n",
    "что он хорошо протестирован. \n",
    "\n",
    "Мы используем s, чтобы начать двигаться от начала\n",
    "программы к функции process_cities():"
   ]
  },
  {
   "cell_type": "markdown",
   "metadata": {},
   "source": [
    " > /Users/williamlubanovic/book/capitals.py(12)<module>()\n",
    " -> if __name__ == '__main__':\n",
    "(Pdb) s\n",
    " > /Users/williamlubanovic/book/capitals.py(13)<module>()\n",
    " -> import sys\n",
    "(Pdb) s\n",
    " > /Users/williamlubanovic/book/capitals.py(14)<module>()\n",
    " -> process_cities(sys.argv[1])\n",
    "(Pdb) s\n",
    " --Call--\n",
    " > /Users/williamlubanovic/book/capitals.py(1)process_cities()\n",
    " -> def process_cities(filename):\n",
    " (Pdb) s\n",
    " > /Users/williamlubanovic/book/capitals.py(2)process_cities()\n",
    " -> with open(filename, 'rt') as file:"
   ]
  },
  {
   "cell_type": "markdown",
   "metadata": {},
   "source": [
    "Введите l (list — «перечислить»), чтобы увидеть следующие несколько строк\n",
    "своей программы"
   ]
  },
  {
   "cell_type": "markdown",
   "metadata": {},
   "source": [
    "(Pdb) l\n",
    " 1 def process_cities(filename):\n",
    " 2 -> with open(filename, 'rt') as file:\n",
    " 3 for line in file:\n",
    " 4 line = line.strip()\n",
    " 5 if 'quit' in line.lower():\n",
    " 6 return\n",
    " 7 country, city = line.split(',')\n",
    " 8 city = city.strip()\n",
    " 9 country = country.strip()\n",
    "10 print(city.title(), country.title(), sep=',')\n",
    "11\n",
    "(Pdb)"
   ]
  },
  {
   "cell_type": "markdown",
   "metadata": {},
   "source": [
    "Стрелка (->) указывает на текущую строку.\n",
    "\n",
    "Мы могли бы и дальше применять команды s или n в надежде что-то найти, но давайте использовать одну из главных особенностей отладчика — точки останова.\n",
    "\n",
    "Точка останова останавливает выполнение программы на указанной вами строке.\n",
    "\n",
    "В данном случае мы хотим узнать, почему функция process_cities() вызывает завершение программы до прочтения всех введенных строк. \n",
    "\n",
    "Строка 3 (for line in file:) будет считывать каждую строку входного файла, поэтому она выглядит невинно. \n",
    "\n",
    "Единственное место, где мы можем вернуться из функции до прочтения всех данных, — это строка 6 (return). \n",
    "\n",
    "Поставим точку останова на строке 6:"
   ]
  },
  {
   "cell_type": "markdown",
   "metadata": {},
   "source": [
    "(Pdb) b 6"
   ]
  },
  {
   "cell_type": "markdown",
   "metadata": {},
   "source": [
    "Breakpoint 1 at /Users/williamlubanovic/book/capitals.py:6\n"
   ]
  },
  {
   "cell_type": "markdown",
   "metadata": {},
   "source": [
    "Далее продолжим выполнение программы до тех пор, пока она либо не достигнет точки останова, либо не завершится обычным образом:"
   ]
  },
  {
   "cell_type": "markdown",
   "metadata": {},
   "source": [
    "(Pdb) c"
   ]
  },
  {
   "cell_type": "markdown",
   "metadata": {},
   "source": [
    " Buenos Aires,Argentina\n",
    " La Paz,Bolivia\n",
    " Brasilia,Brazil\n",
    " Santiago,Chile\n",
    " Bogotá,Colombia\n",
    "> /Users/williamlubanovic/book/capitals.py(6)process_cities()\n",
    "-> return\n"
   ]
  },
  {
   "cell_type": "markdown",
   "metadata": {},
   "source": [
    "Ага, она остановилась на точке останова в строке 6. Это показывает, что программа хочет завершиться после прочтения страны, которая идет вслед за Колумбией. Выведем значение переменной line, чтобы увидеть, что мы только что считали:"
   ]
  },
  {
   "cell_type": "markdown",
   "metadata": {},
   "source": [
    "(Pdb) p line"
   ]
  },
  {
   "cell_type": "markdown",
   "metadata": {},
   "source": [
    "'ecuador,quito'"
   ]
  },
  {
   "cell_type": "markdown",
   "metadata": {},
   "source": [
    "Что такого особенного… а, забудьте.\n",
    "Серьезно? Столица называется *quit*o? Наш менеджер не ожидал, что строка\n",
    "quit станет частью входных данных, поэтому показалось логичным использовать\n",
    "ее в качестве контрольного значения (индикатора конца). Вам следует отправиться прямо к нему и сказать все как на духу, я подожду.\n",
    "Если после этого у вас все еще есть работа, можете просмотреть все точки останова с помощью команды b:"
   ]
  },
  {
   "cell_type": "markdown",
   "metadata": {},
   "source": [
    "(Pdb) b"
   ]
  },
  {
   "cell_type": "markdown",
   "metadata": {},
   "source": [
    "Num Type Disp Enb Where\n",
    "1 breakpoint keep yes at /Users/williamlubanovic/book/capitals.py:6\n",
    " breakpoint already hit 1 time"
   ]
  },
  {
   "cell_type": "markdown",
   "metadata": {},
   "source": [
    "Команда l покажет вам строки кода, текущую строку (->) и все имеющиеся точки останова (B). \n",
    "\n",
    "Вызов команды l без аргументов выведет все строки, начиная с точки предыдущего вызова команды l, поэтому включите в вызов опциональный параметр — стартовую строку (в нашем примере начнем с 1):"
   ]
  },
  {
   "cell_type": "markdown",
   "metadata": {},
   "source": [
    "(Pdb) l 1"
   ]
  },
  {
   "cell_type": "markdown",
   "metadata": {},
   "source": [
    " 1 def process_cities(filename):\n",
    " 2 with open(filename, 'rt') as file:\n",
    " 3 for line in file:\n",
    " 4 line = line.strip()\n",
    " 5 if 'quit' in line.lower():\n",
    " 6 B-> return\n",
    " 7 country, city = line.split(',')\n",
    " 8 city = city.strip()\n",
    " 9 country = country.strip()\n",
    "10 print(city.title(), country.title(), sep=',')"
   ]
  },
  {
   "cell_type": "markdown",
   "metadata": {},
   "source": [
    "Теперь модифицируем наш тест так, чтобы выполнялась проверка на полное совпадение со строкой quit, без всяких других символов:"
   ]
  },
  {
   "cell_type": "code",
   "execution_count": null,
   "metadata": {},
   "outputs": [],
   "source": [
    "def process_cities(filename):\n",
    "    with open(filename, 'rt') as file:\n",
    "        for line in file:\n",
    "            line = line.strip()\n",
    "            if 'quit' == line.lower():\n",
    "                return\n",
    "            country, city = line.split(',')\n",
    "            city = city.strip()\n",
    "            country = country.strip()\n",
    "            print(city.title(), country.title(), sep=',')\n",
    "\n",
    "import sys\n",
    "process_cities(sys.argv[1])"
   ]
  },
  {
   "cell_type": "markdown",
   "metadata": {},
   "source": [
    "Запустим программу еще раз:"
   ]
  },
  {
   "cell_type": "code",
   "execution_count": null,
   "metadata": {},
   "outputs": [],
   "source": [
    "$ python capitals2.py cities2.csv"
   ]
  },
  {
   "cell_type": "code",
   "execution_count": null,
   "metadata": {},
   "outputs": [],
   "source": [
    "Buenos Aires,Argentina\n",
    "La Paz,Bolivia\n",
    "Brasilia,Brazil\n",
    "Santiago,Chile\n",
    "Bogotá,Colombia\n",
    "Quito,Ecuador\n",
    "Stanley,Falkland Islands\n",
    "Cayenne,French Guiana\n",
    "Georgetown,Guyana\n",
    "Asunción,Paraguay\n",
    "Lima,Peru\n",
    "Paramaribo,Suriname\n",
    "Montevideo,Uruguay\n",
    "Caracas,Venezuela"
   ]
  },
  {
   "cell_type": "markdown",
   "metadata": {},
   "source": [
    "Только что мы кратко рассмотрели отладчик — этого достаточно, чтобы показать\n",
    "вам, что вы можете сделать и какие команды будете использовать большую часть\n",
    "времени.\n",
    "Помните: больше тестов — меньше отладки."
   ]
  },
  {
   "cell_type": "markdown",
   "metadata": {},
   "source": [
    "# Записываем в журнал сообщения об ошибках"
   ]
  },
  {
   "cell_type": "markdown",
   "metadata": {},
   "source": [
    "В какой-то момент вам может понадобиться перейти от использования выражений print() к записи сообщений в журнал. \n",
    "\n",
    "Журнал, как правило, представляет собой системный файл, в котором накапливаются сообщения, содержащие полезную информацию вроде временной метки или имени пользователя, запустившего программу. \n",
    "\n",
    "Зачастую журналы ежедневно ротируются (переименовываются) и сжимаются, благодаря чему они не переполняют ваш диск и не создают проблем. \n",
    "\n",
    "Если у вашей программы что-то пошло не так, вы можете просмотреть соответствующий файл журнала, чтобы увидеть, что произошло. \n",
    "\n",
    "Содержимое исключений особенно полезно записывать в журнал, поскольку оно подсказывает вам номер строки, после выполнения которой программа завершилась, и причину\n",
    "такого завершения.\n",
    "\n",
    "Для журналирования используется модуль стандартной библиотеки logging (http://bit.ly/py-logging). \n",
    "\n",
    "Большинство его описаний я считаю немного непонятными.\n",
    "\n",
    "Спустя некоторое время эти описания будут казаться осмысленными, но в первый раз они выглядят чересчур сложными. \n",
    "\n",
    "Модуль logging содержит следующие концепции:\n",
    "\n",
    " сообщение, которое вы хотите сохранить в журнал;\n",
    "\n",
    " уровни приоритета и соответствующие функции — debug(), info(), warn(), error() и critical();\n",
    "\n",
    " один или несколько объектов журналирования для основной связи с модулем;\n",
    "\n",
    " обработчики, которые направляют значение в терминал, файл, базу данных или куда-нибудь еще;\n",
    "\n",
    " средства форматирования выходных данных;\n",
    "\n",
    " фильтры, которые принимают решения в зависимости от входных данных.\n",
    "\n",
    "Рассмотрим простейший пример журналирования — просто импортируем модуль и воспользуемся некоторыми из его функций:"
   ]
  },
  {
   "cell_type": "code",
   "execution_count": 7,
   "metadata": {},
   "outputs": [
    {
     "name": "stderr",
     "output_type": "stream",
     "text": [
      "C:\\Users\\user\\Anaconda3\\lib\\site-packages\\ipykernel_launcher.py:4: DeprecationWarning: The 'warn' function is deprecated, use 'warning' instead\n",
      "  after removing the cwd from sys.path.\n",
      "WARNING:root:Did I hear thunder?\n"
     ]
    }
   ],
   "source": [
    "import logging\n",
    "logging.debug(\"Looks like rain\")\n",
    "logging.info(\"And hail\")\n",
    "logging.warn(\"Did I hear thunder?\")\n"
   ]
  },
  {
   "cell_type": "code",
   "execution_count": 8,
   "metadata": {},
   "outputs": [
    {
     "name": "stderr",
     "output_type": "stream",
     "text": [
      "ERROR:root:Was that lightning?\n"
     ]
    }
   ],
   "source": [
    "logging.error(\"Was that lightning?\")"
   ]
  },
  {
   "cell_type": "code",
   "execution_count": 9,
   "metadata": {},
   "outputs": [
    {
     "name": "stderr",
     "output_type": "stream",
     "text": [
      "CRITICAL:root:Stop fencing and get inside!\n"
     ]
    }
   ],
   "source": [
    "logging.critical(\"Stop fencing and get inside!\")\n"
   ]
  },
  {
   "cell_type": "markdown",
   "metadata": {},
   "source": [
    "Вы заметили, что вызовы debug() и info() не сделали ничего, а два других вывели на экран строку УРОВЕНЬ:root:перед каждым сообщением? \n",
    "\n",
    "Пока они выглядят как выражение print(), имеющее несколько личностей.\n",
    "\n",
    "Но это полезно. Вы можете выполнить поиск определенного значения уровня в журнале, чтобы найти определенные сообщения, сравнить временные метки и увидеть, что случилось перед тем, как упал ваш сервер, и т. д.\n",
    "\n",
    "Усиленные раскопки в документации отвечают на первую загадку (на вторую мы ответим уже через пару страниц): \n",
    "\n",
    "уровень приоритета по умолчанию — WARNING,\n",
    "он будет записан в журнал, когда мы вызовем первую функцию (logging.debug()).\n",
    "\n",
    "Мы можем указать уровень по умолчанию с помощью функции basicConfig().\n",
    "\n",
    "Самый низкий уровень — DEBUG, это дает возможность поймать более высокие уровни:"
   ]
  },
  {
   "cell_type": "code",
   "execution_count": 11,
   "metadata": {},
   "outputs": [],
   "source": [
    "import logging\n",
    "logging.basicConfig(level=logging.DEBUG)\n",
    "logging.debug(\"It's raining again\")"
   ]
  },
  {
   "cell_type": "markdown",
   "metadata": {},
   "source": [
    "DEBUG:root:It's raining again"
   ]
  },
  {
   "cell_type": "code",
   "execution_count": 12,
   "metadata": {},
   "outputs": [],
   "source": [
    "logging.info(\"With hail the size of hailstones\")"
   ]
  },
  {
   "cell_type": "markdown",
   "metadata": {},
   "source": [
    "INFO:root:With hail the size of hailstones"
   ]
  },
  {
   "cell_type": "markdown",
   "metadata": {},
   "source": [
    "Мы сделали это с помощью стандартных функций журналирования, не создавая специализированный объект.\n",
    "\n",
    "Каждый объект журналирования имеет имя. \n",
    "\n",
    "Создадим объект, который называется bunyan:"
   ]
  },
  {
   "cell_type": "code",
   "execution_count": null,
   "metadata": {},
   "outputs": [],
   "source": [
    "import logging\n",
    "logging.basicConfig(level='DEBUG')\n",
    "logger = logging.getLogger('bunyan')\n",
    "logger.debug('Timber!')"
   ]
  },
  {
   "cell_type": "markdown",
   "metadata": {},
   "source": [
    "DEBUG:bunyan:Timber!"
   ]
  },
  {
   "cell_type": "markdown",
   "metadata": {},
   "source": [
    "Если имя объекта журналирования содержит точки, они разделяют уровни иерархии таких объектов, каждый из которых потенциально имеет разные приоритеты. \n",
    "\n",
    "Это означает, что объект с именем quark выше, чем объект с именем quark.charmed. \n",
    "\n",
    "На вершине иерархии находится корневой объект журналирования с именем ' '.\n",
    "\n",
    "До этого момента мы только выводили сообщения, что практически не отличается от функции print().\n",
    "\n",
    "Чтобы направить сообщения в разные места назначения,\n",
    "используем обработчики. \n",
    "\n",
    "Самым распространенным местом назначения является\n",
    "файл журнала, направить туда сообщения можно так:"
   ]
  },
  {
   "cell_type": "code",
   "execution_count": 13,
   "metadata": {},
   "outputs": [
    {
     "name": "stderr",
     "output_type": "stream",
     "text": [
      "C:\\Users\\user\\Anaconda3\\lib\\site-packages\\ipykernel_launcher.py:5: DeprecationWarning: The 'warn' method is deprecated, use 'warning' instead\n",
      "  \"\"\"\n",
      "WARNING:bunyan:I need my axe\n"
     ]
    }
   ],
   "source": [
    "import logging\n",
    "logging.basicConfig(level='DEBUG', filename='blue_ox.log')\n",
    "logger = logging.getLogger('bunyan')\n",
    "logger.debug(\"Where's my axe?\")\n",
    "logger.warn(\"I need my axe\")\n"
   ]
  },
  {
   "cell_type": "code",
   "execution_count": null,
   "metadata": {},
   "outputs": [],
   "source": [
    "Ага, строки больше не показываются на экране, вместо этого они попадают\n",
    "в файл blue_ox.log:"
   ]
  },
  {
   "cell_type": "markdown",
   "metadata": {},
   "source": [
    "DEBUG:bunyan:Where's my axe?\n",
    "WARNING:bunyan:I need my axe"
   ]
  },
  {
   "cell_type": "markdown",
   "metadata": {},
   "source": [
    "Вызов функции basicConfig() и передача имени файла в качестве аргумента создали для вас объект типа FileHandler и сделали его доступным объекту журналирования. \n",
    "\n",
    "Модуль журналирования содержит как минимум 15 обработчиков для отправки сообщений в разные места вроде электронной почты, веб-серверов, экранов и файлов.\n",
    "\n",
    "Наконец, вы можете управлять форматом сообщений журнала.\n",
    "\n",
    "В нашем первом примере мы использовали формат, применяемый по умолчанию, в результате чего\n",
    "появилась следующая строка:"
   ]
  },
  {
   "cell_type": "markdown",
   "metadata": {},
   "source": [
    "WARNING:root:Message.."
   ]
  },
  {
   "cell_type": "markdown",
   "metadata": {},
   "source": [
    "Если вы предоставите строку format функции basicConfig(), то можете изменить формат по собственному желанию:"
   ]
  },
  {
   "cell_type": "code",
   "execution_count": 14,
   "metadata": {},
   "outputs": [
    {
     "name": "stderr",
     "output_type": "stream",
     "text": [
      "ERROR:bunyan:Where's my other plaid shirt?\n"
     ]
    }
   ],
   "source": [
    "import logging\n",
    "fmt = '%(asctime)s %(levelname)s %(lineno)s %(message)s'\n",
    "logging.basicConfig(level='DEBUG', format=fmt)\n",
    "logger = logging.getLogger('bunyan')\n",
    "logger.error(\"Where's my other plaid shirt?\")"
   ]
  },
  {
   "cell_type": "markdown",
   "metadata": {},
   "source": [
    "2014-04-08 23:13:59,899 ERROR 1 Where's my other plaid shirt?"
   ]
  },
  {
   "cell_type": "markdown",
   "metadata": {},
   "source": [
    "Мы позволили объекту журналирования снова отправить выходные данные на экран, но изменили их формат. \n",
    "\n",
    "Модуль logging распознал количество имен переменных в строке формата fmt. \n",
    "\n",
    "Мы использовали asctime (дата и время как строка \n",
    "ISO 8601), levelname, lineno (номер строки) и само сообщение в переменной message.\n",
    "\n",
    "Существуют и другие встроенные переменные, вы можете предоставить и свои собственные переменные.\n",
    "\n",
    "Пакет logging содержит гораздо больше особенностей, чем можно описать в этом небольшом обзоре. \n",
    "\n",
    "Вы можете писать в несколько журналов одновременно, указывая разные приоритеты и форматы. Этот пакет довольно гибок, но иногда это достигается за счет простоты."
   ]
  }
 ],
 "metadata": {
  "kernelspec": {
   "display_name": "Python 3",
   "language": "python",
   "name": "python3"
  },
  "language_info": {
   "codemirror_mode": {
    "name": "ipython",
    "version": 3
   },
   "file_extension": ".py",
   "mimetype": "text/x-python",
   "name": "python",
   "nbconvert_exporter": "python",
   "pygments_lexer": "ipython3",
   "version": "3.7.0"
  }
 },
 "nbformat": 4,
 "nbformat_minor": 2
}
