{
 "cells": [
  {
   "cell_type": "markdown",
   "metadata": {},
   "source": [
    "# Глава 8 Данные должны куда-то попадать"
   ]
  },
  {
   "cell_type": "markdown",
   "metadata": {},
   "source": [
    "Активная программа работает с данными, которые хранятся в запоминающем\n",
    "устройстве с произвольным доступом (Random Access Memory (RAM)). RAM —\n",
    "очень быстрая память, но она дорога и требует постоянного питания; если питание\n",
    "пропадет, то все данные, которые в ней хранятся, будут утеряны. Жесткие диски\n",
    "медленнее оперативной памяти, но они более емкие, стоят дешевле и могут хранить\n",
    "данные даже после того, как кто-то выдернет шнур питания. Поэтому много усилий\n",
    "при создании компьютерных систем направлено на поиск лучшего соотношения\n",
    "между хранением данных на диске и в оперативной памяти. Как программистам,\n",
    "нам нужна стойкость: хранение и получение данных с помощью энергонезависимых медиа вроде дисков.\n",
    "Эта глава посвящена разнообразным способам хранения данных, каждый из\n",
    "которых оптимизирован для разных целей: плоским файлам, структурированным\n",
    "файлам и базам данных. Операции с файлами, не касающиеся ввода-вывода, рассматриваются в разделе «Файлы» главы 10."
   ]
  },
  {
   "cell_type": "markdown",
   "metadata": {},
   "source": [
    "# Ввод информации в файлы и ее вывод из них"
   ]
  },
  {
   "cell_type": "markdown",
   "metadata": {},
   "source": [
    "Самый простой пример стойкого хранилища — это старый добрый файл, иногда его еще называют плоским файлом. \n",
    "\n",
    "Он представляет собой последовательность байтов, которая хранится под именем файла. \n",
    "\n",
    "Вы считываете данные из файлав память и записываете данные из памяти в файл. \n",
    "\n",
    "Python позволяет делать это довольно легко. \n",
    "\n",
    "Операции с файлами, присутствующие в этом языке программирования, были смоделированы на основе знакомых и популярных аналогов, имеющихся в Unix.\n",
    "\n",
    "Перед тем как что-то записать в файл или считать из него, вам нужно открыть его:\n",
    "\n",
    "fileobj = open(filename, mode)\n",
    "\n",
    "Кратко поясню фрагменты этого вызова:\n",
    "\n",
    " fileobj — это объект файла, возвращаемый функцией open();\n",
    "\n",
    " filename — это строка, представляющая собой имя файла;\n",
    "\n",
    " mode — это строка, указывающая на тип файла и действия, которые вы хотите над ним произвести.\n",
    "\n",
    "Первая буква строки mode указывает на операцию:\n",
    "\n",
    " r означает чтение;\n",
    "\n",
    " w означает запись. \n",
    "\n",
    "Если файла не существует, он будет создан. \n",
    "\n",
    "Если файл существует, он будет перезаписан;\n",
    "\n",
    " x означает запись, но только если файла еще не существует;\n",
    "\n",
    " a означает добавление данных в конец файла, если он существует.\n",
    "\n",
    "Вторая буква строки mode указывает на тип файла:\n",
    "\n",
    " t (или ничего) означает, что файл текстовый;\n",
    "\n",
    " b означает, что файл бинарный.\n",
    "\n",
    "После открытия файла вы вызываете функции для чтения или записи данных, они будут показаны в следующих примерах.\n",
    "\n",
    "Наконец, вам нужно закрыть файл.\n",
    "\n",
    "Создадим файл, содержащий одну строку, в одной программе и считаем его в другой.\n"
   ]
  },
  {
   "cell_type": "markdown",
   "metadata": {},
   "source": [
    "## Запись в текстовый файл с помощью функции write()"
   ]
  },
  {
   "cell_type": "markdown",
   "metadata": {},
   "source": [
    "По какой-то причине существует не так уж много лимериков о специальной теории относительности. \n",
    "\n",
    "В качестве источника данных придется использовать всего один:"
   ]
  },
  {
   "cell_type": "code",
   "execution_count": null,
   "metadata": {},
   "outputs": [],
   "source": [
    "poem = '''There was a young lady named Bright,\n",
    "... Whose speed was far faster than light;\n",
    "... She started one day\n",
    "... In a relative way,\n",
    "... And returned on the previous night.'''"
   ]
  },
  {
   "cell_type": "code",
   "execution_count": null,
   "metadata": {},
   "outputs": [],
   "source": [
    "len(poem)"
   ]
  },
  {
   "cell_type": "markdown",
   "metadata": {},
   "source": [
    "Следующий код записывает это стихотворение в файл 'relativity' с помощью\n",
    "всего одного вызова:"
   ]
  },
  {
   "cell_type": "code",
   "execution_count": null,
   "metadata": {},
   "outputs": [],
   "source": [
    "fout = open('relativity', 'wt')\n",
    "fout.write(poem)"
   ]
  },
  {
   "cell_type": "code",
   "execution_count": null,
   "metadata": {},
   "outputs": [],
   "source": [
    "fout.close()"
   ]
  },
  {
   "cell_type": "markdown",
   "metadata": {},
   "source": [
    "Функция write() возвращает число записанных байтов. \n",
    "\n",
    "Она не добавляет никаких пробелов или символов новой строки, как это делает функция print(). \n",
    "\n",
    "С помощью функции print() вы также можете записывать данные в текстовый файл:"
   ]
  },
  {
   "cell_type": "code",
   "execution_count": null,
   "metadata": {},
   "outputs": [],
   "source": [
    "fout = open('relativity', 'wt')\n",
    "print(poem, file=fout)\n",
    "fout.close()"
   ]
  },
  {
   "cell_type": "markdown",
   "metadata": {},
   "source": [
    "Отсюда возникает вопрос: какую функцию использовать — write() или print()?\n",
    "\n",
    "По умолчанию функция print() добавляет пробел после каждого аргумента и символ новой строки в конце. \n",
    "\n",
    "В предыдущем примере она добавила символ новой\n",
    "строки в файл relativity. \n",
    "\n",
    "Для того чтобы функция print() работала как функция\n",
    "write(), передайте ей два следующих аргумента:\n",
    "\n",
    " sep (разделитель, по умолчанию это пробел, ' ');\n",
    "\n",
    " end (символ конца файла, по умолчанию это символ новой строки, '\\n').\n",
    "\n",
    "Функция print() использует значения по умолчанию, если только вы не передадите ей что-то еще. \n",
    "\n",
    "Мы передадим ей пустые строки, чтобы подавить все лишние\n",
    "детали, обычно добавляемые функцией print():"
   ]
  },
  {
   "cell_type": "code",
   "execution_count": null,
   "metadata": {},
   "outputs": [],
   "source": [
    "fout = open('relativity', 'wt')\n",
    "print(poem, file=fout, sep='', end='')\n",
    "fout.close()"
   ]
  },
  {
   "cell_type": "markdown",
   "metadata": {},
   "source": [
    "Если исходная строка большая, вы можете записывать в файл ее фрагменты до тех пор, пока не запишете ее всю:"
   ]
  },
  {
   "cell_type": "code",
   "execution_count": null,
   "metadata": {},
   "outputs": [],
   "source": [
    "fout = open('relativity', 'wt')\n",
    "size = len(poem)\n",
    "offset = 0\n",
    "chunk = 100\n",
    "while True:\n",
    "    if offset > size:\n",
    "        break\n",
    "    fout.write(poem[offset:offset+chunk])\n",
    "    offset += chunk\n",
    "fout.close()"
   ]
  },
  {
   "cell_type": "markdown",
   "metadata": {},
   "source": [
    "Этот код записал 100 символов за первую попытку и последние 50 символов — за следующую.\n",
    "\n",
    "Если файл relativity нам очень дорог, проверим, спасет ли режим х от его перезаписывания:"
   ]
  },
  {
   "cell_type": "code",
   "execution_count": null,
   "metadata": {},
   "outputs": [],
   "source": [
    "fout = open('relativity', 'xt')"
   ]
  },
  {
   "cell_type": "markdown",
   "metadata": {},
   "source": [
    "Вы можете использовать этот код вместе с обработчиком исключений:\n"
   ]
  },
  {
   "cell_type": "code",
   "execution_count": null,
   "metadata": {},
   "outputs": [],
   "source": [
    "try:\n",
    "    fout = open('relativity', 'xt')]\n",
    "    fout.write('stomp stomp stomp')\n",
    "except FileExistsError:\n",
    "    print('relativity already exists!. That was a close one.')\n"
   ]
  },
  {
   "cell_type": "markdown",
   "metadata": {},
   "source": [
    "## Считываем данные из текстового файла с помощью функций read(), readline() и readlines()\n"
   ]
  },
  {
   "cell_type": "markdown",
   "metadata": {},
   "source": [
    "Вы можете вызвать функцию read() без аргументов, чтобы проглотить весь файл целиком, как показано в следующем примере. \n",
    "\n",
    "Будьте осторожны, делая это с крупными файлами, файл размером 1 Гбайт потребит 1 Гбайт памяти:"
   ]
  },
  {
   "cell_type": "code",
   "execution_count": null,
   "metadata": {},
   "outputs": [],
   "source": [
    "fin = open('relativity', 'rt' )\n",
    "poem = fin.read()\n",
    "fin.close()\n",
    "len(poem)"
   ]
  },
  {
   "cell_type": "markdown",
   "metadata": {},
   "source": [
    "Вы можете указать максимальное количество символов, которое функция read() вернет за один вызов. \n",
    "\n",
    "Давайте считывать по 100 символов за раз и присоединять\n",
    "каждый фрагмент к строке poem, чтобы воссоздать оригинал:"
   ]
  },
  {
   "cell_type": "code",
   "execution_count": null,
   "metadata": {},
   "outputs": [],
   "source": [
    "poem = ''\n",
    "fin = open('relativity', 'rt' )\n",
    "chunk = 100\n",
    "while True:\n",
    "    fragment = fin.read(chunk)\n",
    "    if not fragment:\n",
    "        break\n",
    "    poem += fragment\n",
    "\n",
    "fin.close()\n",
    "len(poem)"
   ]
  },
  {
   "cell_type": "markdown",
   "metadata": {},
   "source": [
    "После того как вы считали весь файл, дальнейшие вызовы функции read() будут возвращать пустую строку (' '), которая будет оценена как False в проверке if not\n",
    "fragment. \n",
    "\n",
    "Это позволит выйти из цикла while True.\n",
    "\n",
    "Вы также можете считывать файл по одной строке за раз с помощью функции readline(). \n",
    "\n",
    "В следующем примере мы будем присоединять каждую строку к строке poem, чтобы воссоздать оригинал:"
   ]
  },
  {
   "cell_type": "code",
   "execution_count": null,
   "metadata": {},
   "outputs": [],
   "source": [
    "poem = ''\n",
    "fin = open('relativity', 'rt' )\n",
    "while True:\n",
    "    line = fin.readline()\n",
    "    if not line:\n",
    "        break\n",
    "    poem += line\n",
    "\n",
    "fin.close()\n",
    "len(poem)"
   ]
  },
  {
   "cell_type": "markdown",
   "metadata": {},
   "source": [
    "Для текстового файла даже пустая строка имеет длину, равную 1 (символ новой строки), такая строка будет считаться True. \n",
    "\n",
    "Когда весь файл будет считан, функция readline() (как и функция read()) возвратит пустую строку, которая будет считаться False.\n",
    "\n",
    "Самый простой способ считать текстовый файл — использовать итератор.\n",
    "\n",
    "Он будет возвращать по одной строке за раз. Этот пример похож на предыдущий, но кода в нем меньше:"
   ]
  },
  {
   "cell_type": "code",
   "execution_count": null,
   "metadata": {},
   "outputs": [],
   "source": [
    "poem = ''\n",
    "fin = open('relativity', 'rt' )\n",
    "for line in fin:\n",
    "    poem += line\n",
    "\n",
    "fin.close()\n",
    "len(poem)"
   ]
  },
  {
   "cell_type": "markdown",
   "metadata": {},
   "source": [
    "Во всех предыдущих примерах в результате получалась одна строка poem.\n",
    "\n",
    "Функция readline() считывает по одной строке за раз и возвращает список этих строк:"
   ]
  },
  {
   "cell_type": "code",
   "execution_count": null,
   "metadata": {},
   "outputs": [],
   "source": [
    "fin = open('relativity', 'rt' )\n",
    "lines = fin.readlines()\n",
    "fin.close()\n",
    "print(len(lines), 'lines read')"
   ]
  },
  {
   "cell_type": "code",
   "execution_count": null,
   "metadata": {},
   "outputs": [],
   "source": [
    "for line in lines:\n",
    "    print(line, end='')"
   ]
  },
  {
   "cell_type": "markdown",
   "metadata": {},
   "source": [
    "Мы указали функции print() не добавлять автоматически символы новой строки, поскольку первые четыре строки сами их имеют. \n",
    "\n",
    "В последней строке этого символа не было, что заставило интерактивное приглашение появиться сразу после\n",
    "последней строки."
   ]
  },
  {
   "cell_type": "markdown",
   "metadata": {},
   "source": [
    "## Записываем данные в бинарный файл с помощью функции write()"
   ]
  },
  {
   "cell_type": "markdown",
   "metadata": {},
   "source": [
    "Если вы включите символ 'b' в строку режима, файл будет открыт в бинарном режиме. \n",
    "\n",
    "В этом случае вы вместо чтения и записи строк будете работать с байтами.\n",
    "\n",
    "У нас под рукой нет бинарного стихотворения, поэтому мы просто сгенерируем 256 байтовых значений от 0 до 255:"
   ]
  },
  {
   "cell_type": "code",
   "execution_count": null,
   "metadata": {},
   "outputs": [],
   "source": [
    "bdata = bytes(range(0, 256))\n",
    "len(bdata)"
   ]
  },
  {
   "cell_type": "markdown",
   "metadata": {},
   "source": [
    "Откроем файл для записи в бинарном режиме и запишем все данные сразу:"
   ]
  },
  {
   "cell_type": "code",
   "execution_count": null,
   "metadata": {},
   "outputs": [],
   "source": [
    "fout = open('bfile', 'wb')\n",
    "fout.write(bdata)\n",
    "fout.close()\n"
   ]
  },
  {
   "cell_type": "markdown",
   "metadata": {},
   "source": [
    "И вновь функция write() возвращает количество записанных байтов.\n",
    "\n",
    "Как и в случае с текстом, вы можете записывать бинарные данные фрагментами:"
   ]
  },
  {
   "cell_type": "code",
   "execution_count": null,
   "metadata": {},
   "outputs": [],
   "source": [
    "fout = open('bfile', 'wb')\n",
    "size = len(bdata)\n",
    "offset = 0\n",
    "chunk = 100\n",
    "while True:\n",
    "    if offset > size:\n",
    "        break\n",
    "    fout.write(bdata[offset:offset+chunk])\n",
    "    offset += chunk\n",
    "\n",
    "fout.close()"
   ]
  },
  {
   "cell_type": "markdown",
   "metadata": {},
   "source": [
    "## Читаем бинарные файлы с помощью функции read()"
   ]
  },
  {
   "cell_type": "markdown",
   "metadata": {},
   "source": [
    "Это просто: все, что вам нужно, — открыть файл в режиме 'rb':"
   ]
  },
  {
   "cell_type": "code",
   "execution_count": null,
   "metadata": {},
   "outputs": [],
   "source": [
    "fin = open('bfile', 'rb')\n",
    "bdata = fin.read()\n",
    "len(bdata)\n",
    "fin.close()"
   ]
  },
  {
   "cell_type": "markdown",
   "metadata": {},
   "source": [
    "## Закрываем файлы автоматически с помощью ключевого слова with"
   ]
  },
  {
   "cell_type": "markdown",
   "metadata": {},
   "source": [
    "Если вы забудете закрыть за собой файл, его закроет Python после того, как будет удалена последняя ссылка на него. \n",
    "\n",
    "Это означает, что, если вы откроете файл и не\n",
    "закроете его явно, он будет закрыт автоматически по завершении функции. \n",
    "\n",
    "Но вы можете открыть файл внутри длинной функции или даже основного раздела программы. \n",
    "\n",
    "Файл должен быть закрыт, чтобы все оставшиеся операции записи были завершены.\n",
    "\n",
    "У Python имеются менеджеры контекста для очистки объектов вроде открытых файлов. \n",
    "\n",
    "Вы можете использовать конструкцию with выражение as переменная:\n"
   ]
  },
  {
   "cell_type": "code",
   "execution_count": null,
   "metadata": {},
   "outputs": [],
   "source": [
    "with open('relativity', 'wt') as fout:\n",
    "    fout.write(poem)"
   ]
  },
  {
   "cell_type": "markdown",
   "metadata": {},
   "source": [
    "Вот и все. \n",
    "\n",
    "После того как блок кода, расположенный под менеджером контекста (в этом случае одна строка), завершится (или нормально, или путем генерации исключения), файл будет закрыт автоматически."
   ]
  },
  {
   "cell_type": "markdown",
   "metadata": {},
   "source": [
    "## Меняем позицию с помощью функции seek()\n"
   ]
  },
  {
   "cell_type": "markdown",
   "metadata": {},
   "source": [
    "По мере чтения и записи Python отслеживает ваше местоположение в файле. Функция tell() возвращает ваше текущее смещение от начала файла в байтах. Функция\n",
    "seek() позволяет вам перейти к другому смещению в файле. Это значит, что вам\n",
    "не обязательно читать каждый байт файла, чтобы добраться до последнего, — вы\n",
    "можете использовать функцию seek(), чтобы сместиться к последнему байту и считать его.\n",
    "Для примера воспользуемся 256-байтным бинарным файлом 'bfile', который\n",
    "мы создали ранее:"
   ]
  },
  {
   "cell_type": "code",
   "execution_count": null,
   "metadata": {},
   "outputs": [],
   "source": [
    "fin = open('bfile', 'rb')\n",
    "fin.tell()"
   ]
  },
  {
   "cell_type": "markdown",
   "metadata": {},
   "source": [
    "Используем функцию seek(), чтобы перейти к предпоследнему байту файла:"
   ]
  },
  {
   "cell_type": "code",
   "execution_count": null,
   "metadata": {},
   "outputs": [],
   "source": [
    "fin.seek(255)"
   ]
  },
  {
   "cell_type": "markdown",
   "metadata": {},
   "source": [
    "Считаем все данные от текущей позиции до конца файла:"
   ]
  },
  {
   "cell_type": "code",
   "execution_count": null,
   "metadata": {},
   "outputs": [],
   "source": [
    "bdata = fin.read()\n",
    "len(bdata)"
   ]
  },
  {
   "cell_type": "code",
   "execution_count": null,
   "metadata": {},
   "outputs": [],
   "source": [
    "bdata[0]"
   ]
  },
  {
   "cell_type": "markdown",
   "metadata": {},
   "source": [
    "Функция seek() также возвращает текущее смещение.\n",
    "Вы также можете вызвать функцию seek(), передав ей второй аргумент: seek(offset, origin):\n",
    "\n",
    " если значение origin равно 0 (по умолчанию), сместиться на offset байт с начала файла;\n",
    "\n",
    " если значение origin равно 1, сместиться на offset байт с текущей позиции;\n",
    "\n",
    " если значение origin равно 2, сместиться на offset байт с конца файла.\n",
    "\n",
    "Эти значения также определены в стандартном модуле os:\n"
   ]
  },
  {
   "cell_type": "code",
   "execution_count": null,
   "metadata": {},
   "outputs": [],
   "source": [
    "import os\n",
    "os.SEEK_SET"
   ]
  },
  {
   "cell_type": "code",
   "execution_count": null,
   "metadata": {},
   "outputs": [],
   "source": [
    "os.SEEK_CUR"
   ]
  },
  {
   "cell_type": "code",
   "execution_count": null,
   "metadata": {},
   "outputs": [],
   "source": [
    "os.SEEK_END"
   ]
  },
  {
   "cell_type": "markdown",
   "metadata": {},
   "source": [
    "Благодаря этому мы можем считать последний байт разными способами:"
   ]
  },
  {
   "cell_type": "code",
   "execution_count": null,
   "metadata": {},
   "outputs": [],
   "source": [
    "fin = open('bfile', 'rb')"
   ]
  },
  {
   "cell_type": "markdown",
   "metadata": {},
   "source": [
    "Один байт перед концом файла:"
   ]
  },
  {
   "cell_type": "code",
   "execution_count": null,
   "metadata": {},
   "outputs": [],
   "source": [
    "fin.seek(-1, 2)"
   ]
  },
  {
   "cell_type": "code",
   "execution_count": null,
   "metadata": {},
   "outputs": [],
   "source": [
    "fin.tell()"
   ]
  },
  {
   "cell_type": "markdown",
   "metadata": {},
   "source": [
    "Считать данные до конца файла:"
   ]
  },
  {
   "cell_type": "code",
   "execution_count": null,
   "metadata": {},
   "outputs": [],
   "source": [
    "bdata = fin.read()\n",
    "len(bdata)"
   ]
  },
  {
   "cell_type": "code",
   "execution_count": null,
   "metadata": {},
   "outputs": [],
   "source": [
    "bdata[0]"
   ]
  },
  {
   "cell_type": "markdown",
   "metadata": {},
   "source": [
    "Вам не нужно вызывать функцию tell(), чтобы работала функция seek(). \n",
    "\n",
    "Я только хотел показать, что обе эти функции возвращают одинаковое смещение."
   ]
  },
  {
   "cell_type": "markdown",
   "metadata": {},
   "source": [
    "Рассмотрим случай, когда мы вызываем функцию seek(), чтобы сместиться с текущей позиции:"
   ]
  },
  {
   "cell_type": "code",
   "execution_count": null,
   "metadata": {},
   "outputs": [],
   "source": [
    "fin = open('bfile', 'rb')"
   ]
  },
  {
   "cell_type": "markdown",
   "metadata": {},
   "source": [
    "Следующий пример переносит позицию за 2 байта до конца файла:"
   ]
  },
  {
   "cell_type": "code",
   "execution_count": null,
   "metadata": {},
   "outputs": [],
   "source": [
    "fin.seek(254, 0)"
   ]
  },
  {
   "cell_type": "code",
   "execution_count": null,
   "metadata": {},
   "outputs": [],
   "source": [
    "fin.tell()"
   ]
  },
  {
   "cell_type": "markdown",
   "metadata": {},
   "source": [
    "Теперь перейдем вперед на 1 байт:"
   ]
  },
  {
   "cell_type": "code",
   "execution_count": null,
   "metadata": {},
   "outputs": [],
   "source": [
    "fin.seek(1, 1)"
   ]
  },
  {
   "cell_type": "code",
   "execution_count": null,
   "metadata": {},
   "outputs": [],
   "source": [
    "fin.tell()"
   ]
  },
  {
   "cell_type": "markdown",
   "metadata": {},
   "source": [
    "Наконец, считаем все данные до конца файла:"
   ]
  },
  {
   "cell_type": "code",
   "execution_count": null,
   "metadata": {},
   "outputs": [],
   "source": [
    "bdata = fin.read()\n",
    "len(bdata)"
   ]
  },
  {
   "cell_type": "code",
   "execution_count": null,
   "metadata": {},
   "outputs": [],
   "source": [
    "bdata[0]"
   ]
  },
  {
   "cell_type": "markdown",
   "metadata": {},
   "source": [
    "Эти функции наиболее полезны при работе с бинарными файлами. \n",
    "\n",
    "Вы можете использовать их и для работы с текстовыми файлами, но если файл содержит в себе не только символы формата ASCII (занимающие по одному байту в памяти), вам будет трудно определить смещение. \n",
    "\n",
    "Оно будет зависеть от кодировки текста, самая\n",
    "популярная кодировка (UTF-8) использует разное количество байтов для разных символов."
   ]
  },
  {
   "cell_type": "markdown",
   "metadata": {},
   "source": [
    "## Структурированные текстовые файлы"
   ]
  },
  {
   "cell_type": "markdown",
   "metadata": {},
   "source": [
    "Для простых текстовых файлов единственным уровнем организации является строка. \n",
    "\n",
    "Но иногда вам может понадобиться более структурированный файл.\n",
    "\n",
    "Вы можете захотеть сохранить данные своей программы для дальнейшего использования или отправить их другой программе.\n",
    "\n",
    "Существует множество форматов, которые можно различить по следующим особенностям.\n",
    "\n",
    " Разделитель, символ вроде табуляции ('\\t'), запятой (',') или вертикальной черточки ('|'). \n",
    "\n",
    "Это пример формата со значениями, разделенными запятой,\n",
    "(CSV).\n",
    "\n",
    " Символы '<' и '>', окружающие теги. Примеры включают в себя XML и HTML.\n",
    "\n",
    " Знаки препинания. Примером является JavaScript Object Notation (JSON).\n",
    "\n",
    " Выделение пробелами. \n",
    "\n",
    "Примером является YAML (что в зависимости от источника может означать YAML Ain’t Markup Language —«Не язык разметки», вам придется исследовать его самостоятельно).\n",
    "\n",
    " Прочие файлы, например конфигурационные.\n",
    "\n",
    "Каждый из этих форматов структурированных файлов может быть считан и записан с помощью как минимум одного модуля Python."
   ]
  },
  {
   "cell_type": "markdown",
   "metadata": {},
   "source": [
    "## CSV"
   ]
  },
  {
   "cell_type": "markdown",
   "metadata": {},
   "source": [
    "Файлы с разделителями часто используются в качестве формата обмена данными для электронных таблиц и баз данных. \n",
    "\n",
    "Вы можете считать файл CSV вручную, по одной строке за раз, разделяя каждую строку на поля, расставляя запятые и добавляя результат в структуру данных вроде списка или словаря. \n",
    "\n",
    "Но лучшим решением будет использовать стандартный модуль csv, поскольку парсинг этих файлов\n",
    "может оказаться сложнее, чем вы думаете.\n",
    "\n",
    " Некоторые файлы имеют альтернативные разделители вместо запятой: самыми популярными являются '|' и '\\t'.\n",
    "\n",
    " Некоторые файлы имеют управляющие последовательности. Если символ-разделитель встречается внутри поля, все поле может быть окружено символами кавычек или же перед ним будет находиться управляющая последовательность.\n",
    "\n",
    " Файлы имеют разные символы конца строк. В Unix используется '\\n', в Microsoft — '\\r \\n', а Apple раньше применяла символ '\\r', но теперь перешла на\n",
    "использование '\\n'.\n",
    "\n",
    " В первой строке могут содержаться названия колонок.\n",
    "Для начала взглянем, как читать и записывать список строк, каждая из которых содержит список колонок:"
   ]
  },
  {
   "cell_type": "code",
   "execution_count": null,
   "metadata": {},
   "outputs": [],
   "source": [
    "import csv\n",
    "villains = [\n",
    "    ['Doctor', 'No'],\n",
    "    ['Rosa', 'Klebb'],\n",
    "    ['Mister', 'Big'],\n",
    "    ['Auric', 'Goldfinger'],\n",
    "    ['Ernst', 'Blofeld'],\n",
    "]\n",
    "with open('villains', 'wt') as fout: # менеджер контекста\n",
    "    csvout = csv.writer(fout)\n",
    "    csvout.writerows(villains)\n"
   ]
  },
  {
   "cell_type": "markdown",
   "metadata": {},
   "source": [
    "Этот код создает пять записей:"
   ]
  },
  {
   "cell_type": "markdown",
   "metadata": {},
   "source": [
    "Doctor,No\n",
    "Rosa,Klebb\n",
    "Mister,Big\n",
    "Auric,Goldfinger\n",
    "Ernst,Blofeld"
   ]
  },
  {
   "cell_type": "markdown",
   "metadata": {},
   "source": [
    "Теперь попробуем считать их обратно:"
   ]
  },
  {
   "cell_type": "code",
   "execution_count": null,
   "metadata": {},
   "outputs": [],
   "source": [
    "import csv\n",
    "with open('villains', 'rt') as fin: # менеджер контекста\n",
    "    cin = csv.reader(fin)\n",
    "    villains = [row for row in cin] # Здесь используется включение списка\n",
    "\n",
    "print(villains)"
   ]
  },
  {
   "cell_type": "markdown",
   "metadata": {},
   "source": [
    "[['Doctor', 'No'], ['Rosa', 'Klebb'], ['Mister', 'Big'],\n",
    "['Auric', 'Goldfinger'], ['Ernst', 'Blofeld']]"
   ]
  },
  {
   "cell_type": "markdown",
   "metadata": {},
   "source": [
    "Подумайте немного о включениях списка (в любой момент вы можете обратиться к разделу «Включения» главы 4, чтобы вспомнить синтаксис). \n",
    "\n",
    "Мы воспользовались структурой, созданной функцией reader(). \n",
    "\n",
    "Она услужливо создала в объекте cin ряды, которые мы можем извлечь с помощью цикла for.\n",
    "\n",
    "Используя функции reader() и writer() с их стандартными опциями, мы получим колонки, которые разделены запятыми, и ряды, разделенные символами перевода строки.\n",
    "\n",
    "Данные могут иметь формат списка словарей, а не списка списков. \n",
    "\n",
    "Снова считаем файл villains, в этот раз используя новую функцию DictReader() и указывая имена колонок:"
   ]
  },
  {
   "cell_type": "code",
   "execution_count": null,
   "metadata": {},
   "outputs": [],
   "source": [
    "import csv\n",
    "with open('villains', 'rt') as fin:\n",
    "    cin = csv.DictReader(fin, fieldnames=['first', 'last'])\n",
    "    villains = [row for row in cin]\n",
    "\n",
    "print(villains)"
   ]
  },
  {
   "cell_type": "markdown",
   "metadata": {},
   "source": [
    "[{'last': 'No', 'first': 'Doctor'},\n",
    "{'last': 'Klebb', 'first': 'Rosa'},\n",
    "{'last': 'Big', 'first': 'Mister'},\n",
    "{'last': 'Goldfinger', 'first': 'Auric'},\n",
    "{'last': 'Blofeld', 'first': 'Ernst'}]"
   ]
  },
  {
   "cell_type": "markdown",
   "metadata": {},
   "source": [
    "Перепишем CSV-файл с помощью новой функции DictWriter(). \n",
    "\n",
    "Мы также вызовем функцию writeheader(), чтобы записать начальную строку, содержащую имена колонок, в CSV-файл:"
   ]
  },
  {
   "cell_type": "code",
   "execution_count": null,
   "metadata": {},
   "outputs": [],
   "source": [
    "import csv\n",
    "villains = [\n",
    "    {'first': 'Doctor', 'last': 'No'},\n",
    "    {'first': 'Rosa', 'last': 'Klebb'},\n",
    "    {'first': 'Mister', 'last': 'Big'},\n",
    "    {'first': 'Auric', 'last': 'Goldfinger'},\n",
    "    {'first': 'Ernst', 'last': 'Blofeld'},\n",
    " ]\n",
    "with open('villains', 'wt') as fout:\n",
    "    cout = csv.DictWriter(fout, ['first', 'last'])\n",
    "    cout.writeheader()\n",
    "    cout.writerows(villains)"
   ]
  },
  {
   "cell_type": "markdown",
   "metadata": {},
   "source": [
    "Этот код создает файл villains со строкой заголовка:"
   ]
  },
  {
   "cell_type": "markdown",
   "metadata": {},
   "source": [
    "first,last\n",
    "Doctor,No\n",
    "Rosa,Klebb\n",
    "Mister,Big\n",
    "Auric,Goldfinger\n",
    "Ernst,Blofeld"
   ]
  },
  {
   "cell_type": "markdown",
   "metadata": {},
   "source": [
    "Теперь считаем его обратно. Опуская аргумент fieldnames в вызове DictReader(),\n",
    "мы указываем функции использовать значения первой строки файла (first, last)\n",
    "как имена колонок и соответствующие ключи словаря:"
   ]
  },
  {
   "cell_type": "code",
   "execution_count": null,
   "metadata": {},
   "outputs": [],
   "source": [
    "import csv \n",
    "with open('villains', 'rt') as fin:\n",
    "    cin = csv.DictReader(fin)\n",
    "    villains = [row for row in cin]\n",
    "\n",
    "print(villains)"
   ]
  },
  {
   "cell_type": "markdown",
   "metadata": {},
   "source": [
    "[{'last': 'No', 'first': 'Doctor'},\n",
    "{'last': 'Klebb', 'first': 'Rosa'},\n",
    "{'last': 'Big', 'first': 'Mister'},\n",
    "{'last': 'Goldfinger', 'first': 'Auric'},\n",
    "{'last': 'Blofeld', 'first': 'Ernst'}]"
   ]
  },
  {
   "cell_type": "markdown",
   "metadata": {},
   "source": [
    "## XML"
   ]
  },
  {
   "cell_type": "markdown",
   "metadata": {},
   "source": [
    "Файлы с разделителями охватывают только два измерения: ряды (строки) и колонки (поля внутри строк). \n",
    "\n",
    "Если вы хотите обмениваться структурами данных\n",
    "между программами, вам нужен способ кодировать иерархии, последовательности, множества и другие структуры с помощью текста.\n",
    "\n",
    "XML является самым известным форматом разметки, который можно применять в этом случае. \n",
    "\n",
    "Для разделения данных он использует теги, как показано\n",
    "в следующем примере (файл menu.xml):"
   ]
  },
  {
   "cell_type": "code",
   "execution_count": null,
   "metadata": {},
   "outputs": [],
   "source": [
    "<?xml version=\"1.0\"?>\n",
    "<menu>\n",
    "    <breakfast hours=\"7-11\">\n",
    "        <item price=\"$6.00\">breakfast burritos</item>\n",
    "        <item price=\"$4.00\">pancakes</item>\n",
    "    </breakfast>\n",
    "    <lunch hours=\"11-3\">\n",
    "        <item price=\"$5.00\">hamburger</item>\n",
    "    </lunch>\n",
    "    <dinner hours=\"3-10\">\n",
    "        <item price=\"8.00\">spaghetti</item>\n",
    "    </dinner>\n",
    "</menu>"
   ]
  },
  {
   "cell_type": "markdown",
   "metadata": {},
   "source": [
    "Рассмотрим основные характеристики формата XML.\n",
    "\n",
    " Теги начинаются с символа <. В этом примере использованы теги menu, breakfast, lunch, dinner и item.\n",
    "\n",
    " Пробелы игнорируются.\n",
    "\n",
    " Обычно после начального тега вроде <menu> следует остальной контент, а затем соответствующий конечный тег вроде </menu>.\n",
    "\n",
    " Теги могут быть вложены в другие теги на любой глубине. \n",
    "\n",
    "В этом примере теги item являются потомками тегов breakfast, lunch и dinner, которые, в свою очередь,\n",
    "являются потомками тега menu.\n",
    "\n",
    " Внутри стартового тега могут встретиться опциональные атрибуты. \n",
    "\n",
    "В этом примере price является опциональным атрибутом тега item.\n",
    "\n",
    " Теги могут содержать значения. \n",
    "\n",
    "В этом примере каждый тег item имеет значение\n",
    "вроде pancakes у второго элемента тега breakfast.\n",
    "\n",
    " Если у тега с именем thing нет значений или потомков, он может быть оформлен как единственный тег путем включения прямого слеша прямо перед закрывающей угловой скобкой (<thing/>), вместо того чтобы использовать начальный и конечный теги <thing> и </thing>.\n",
    "\n",
    " Место размещения данных — атрибуты, значения или теги-потомки — является в какой-то мере произвольным. Например, мы могли бы написать последний тег item как <item price=\"$8.00\" food=\"spaghetti\"/>.\n",
    "\n",
    "XML часто используется в каналах данных и сообщениях и имеет подформаты вроде RSS и Atom. \n",
    "\n",
    "В некоторых отраслях, например в области бизнеса, имеются специализированные форматы XML (http://bit.ly/xml-finance).\n",
    "\n",
    "Сверхгибкость формата XML вдохновила многих людей на создание библиотек для Python, каждая из которых отличается от других подходом и возможностями.\n",
    "\n",
    "Самый простой способ проанализировать XML в Python — использовать библиотеку ElementTree. \n",
    "\n",
    "Рассмотрим небольшую программу, которая анализирует\n",
    "файл menu.xml и выводит на экран некоторые теги и атрибуты:"
   ]
  },
  {
   "cell_type": "code",
   "execution_count": null,
   "metadata": {},
   "outputs": [],
   "source": [
    "import xml.etree.ElementTree as et\n",
    "tree = et.ElementTree(file='menu.xml')\n",
    "root = tree.getroot()\n",
    "root.tag"
   ]
  },
  {
   "cell_type": "code",
   "execution_count": null,
   "metadata": {},
   "outputs": [],
   "source": [
    "for child in root:\n",
    "    print('tag:', child.tag, 'attributes:', child.attrib)\n",
    "for grandchild in child:\n",
    "    print('\\ttag:', grandchild.tag, 'attributes:', grandchild.attri"
   ]
  },
  {
   "cell_type": "markdown",
   "metadata": {},
   "source": [
    "tag: breakfast attributes: {'hours': '7-11'}\n",
    "tag: item attributes: {'price': '$6.00'}\n",
    "tag: item attributes: {'price': '$4.00'}\n",
    "tag: lunch attributes: {'hours': '11-3'}\n",
    "tag: item attributes: {'price': '$5.00'}\n",
    "tag: dinner attributes: {'hours': '3-10'}\n",
    "tag: item attributes: {'price': '8.00'}"
   ]
  },
  {
   "cell_type": "code",
   "execution_count": null,
   "metadata": {},
   "outputs": [],
   "source": [
    "len(root) # количество разделов menu"
   ]
  },
  {
   "cell_type": "code",
   "execution_count": null,
   "metadata": {},
   "outputs": [],
   "source": [
    "len(root[0]) # количество элементов breakfast"
   ]
  },
  {
   "cell_type": "markdown",
   "metadata": {},
   "source": [
    "Для каждого элемента вложенных списков tag — это строка тега, а attrib — это словарь его атрибутов. \n",
    "\n",
    "Библиотека ElementTree имеет множество других способов поиска данных, организованных в формате XML, модификации этих данных и даже записи XML-файлов. \n",
    "\n",
    "Все детали изложены в документации библиотеки\n",
    "ElementTree (http://bit.ly/elementtree).\n",
    "\n",
    "Среди других библиотек для работы с XML в Python можно отметить следующие:\n",
    " xml.dom. The Document Object Model (DOM), знакомая разработчикам на JavaScript, представляет веб-документы как иерархические структуры. \n",
    "\n",
    "Этот модуль загружает XML-файл в память целиком и позволяет вам получать доступ ко всем его частям;\n",
    "\n",
    " xml.sax. Simple API for XML, или SAX, разбирает XML на ходу, поэтому он не загружает в память сразу весь документ. \n",
    "\n",
    "Он может стать хорошим выбором, если вам нужно обработать очень большие потоки XML."
   ]
  },
  {
   "cell_type": "markdown",
   "metadata": {},
   "source": [
    "## HTML\n"
   ]
  },
  {
   "cell_type": "markdown",
   "metadata": {},
   "source": [
    "Огромные объемы данных сохраняются в формате гипертекстового языка разметки (Hypertext Markup Language, HTML), это основной формат документов в сети\n",
    "Интернет. \n",
    "\n",
    "Проблема заключается в том, что значительная часть этих документов не соответствует правилам формата HTML, поэтому его трудно разобрать.\n",
    "\n",
    "Помимо этого, большая часть HTML предназначена для того, чтобы форматировать выводимую информацию, а не обмениваться данными. \n",
    "\n",
    "Поскольку эта глава предназначена для того, чтобы описать относительно хорошо определенные форматы\n",
    "данных, я вынес рассмотрение HTML в главу 9."
   ]
  },
  {
   "cell_type": "markdown",
   "metadata": {},
   "source": [
    "## JSON"
   ]
  },
  {
   "cell_type": "markdown",
   "metadata": {},
   "source": [
    "JavaScript Object Notation (JSON)(http://www.json.org/) стал очень популярным форматом обмена данными, вышедшим за пределы языка JavaScript. \n",
    "\n",
    "Формат JSON является частью языка JavaScript и часто содержит легальный с точки зрения\n",
    "Python синтаксис. \n",
    "\n",
    "Он хорошо подходит Python, что делает его хорошим выбором при определении формата данных для обмена между программами. \n",
    "\n",
    "Вы увидите множество примеров использования JSON при веб-разработке в главе 9."
   ]
  },
  {
   "cell_type": "markdown",
   "metadata": {},
   "source": [
    "В отличие от XML, для которого написано множество модулей, для JSON существует всего один модуль с простым именем json. \n",
    "\n",
    "Эта программа кодирует (выгружает) данные в строку JSON и декодирует (загружает) строку JSON обратно.\n",
    "\n",
    "В следующем примере мы создадим структуру данных, содержащую данные из предыдущего примера, где описывался формат XML:"
   ]
  },
  {
   "cell_type": "code",
   "execution_count": null,
   "metadata": {},
   "outputs": [],
   "source": [
    "menu = {\n",
    "    \"breakfast\": {\n",
    "        \"hours\": \"7-11\",\n",
    "        \"items\": {\n",
    "            \"breakfast burritos\": \"$6.00\",\n",
    "            \"pancakes\": \"$4.00\"\n",
    "        }\n",
    "    },\n",
    "    \n",
    "    \"lunch\" : {\n",
    "        \"hours\": \"11-3\",\n",
    "        \"items\": {\n",
    "            \"hamburger\": \"$5.00\"\n",
    "        }\n",
    "    },\n",
    "    \n",
    "    \"dinner\": {\n",
    "        \"hours\": \"3-10\",\n",
    "        \"items\": {\n",
    "            \"spaghetti\": \"$8.00\"\n",
    "        }\n",
    "    }\n",
    "}"
   ]
  },
  {
   "cell_type": "markdown",
   "metadata": {},
   "source": [
    "Далее закодируемструктуру данных (menu) в строку JSON (menu_json) с помощью функции dumps():"
   ]
  },
  {
   "cell_type": "code",
   "execution_count": null,
   "metadata": {},
   "outputs": [],
   "source": [
    "import json\n",
    "menu_json = json.dumps(menu)\n",
    "menu_json"
   ]
  },
  {
   "cell_type": "markdown",
   "metadata": {},
   "source": [
    "А теперь превратим строку JSON menu_json обратно в структуру данных (menu2) с помощью функции loads():"
   ]
  },
  {
   "cell_type": "code",
   "execution_count": null,
   "metadata": {},
   "outputs": [],
   "source": [
    "menu2 = json.loads(menu_json)\n",
    "menu2"
   ]
  },
  {
   "cell_type": "markdown",
   "metadata": {},
   "source": [
    "{'breakfast': {'items': {'breakfast burritos': '$6.00', 'pancakes':\n",
    "'$4.00'}, 'hours': '7-11'}, 'lunch': {'items': {'hamburger': '$5.00'},\n",
    "'hours': '11-3'}, 'dinner': {'items': {'spaghetti': '$8.00'}, 'hours': '3-10'}}"
   ]
  },
  {
   "cell_type": "markdown",
   "metadata": {},
   "source": [
    "menu и menu2 являются словарями с одинаковыми ключами и значениями. \n",
    "\n",
    "Как всегда, в случае обычных словарей порядок, в котором вы получаете ключи, различается.\n",
    "\n",
    "Вы можете получить исключение, пытаясь закодировать или декодировать некоторые объекты, включая такие объекты, как datetime (этот вопрос детально рассматривается в разделе «Календари и часы» главы 10), как показано здесь:"
   ]
  },
  {
   "cell_type": "code",
   "execution_count": null,
   "metadata": {},
   "outputs": [],
   "source": [
    "import datetime\n",
    "now = datetime.datetime.utcnow()\n",
    "now"
   ]
  },
  {
   "cell_type": "code",
   "execution_count": null,
   "metadata": {},
   "outputs": [],
   "source": [
    "json.dumps(now)"
   ]
  },
  {
   "cell_type": "markdown",
   "metadata": {},
   "source": [
    "Это может случиться, поскольку стандарт JSON не определяет типы даты или времени — он ожидает, что вы укажете ему, как с ними работать. \n",
    "\n",
    "Вы можете преобразовать формат datetime во что-то, что JSON понимает, вроде строки или значения времени epoch (его мы рассмотрим в главе 10):\n"
   ]
  },
  {
   "cell_type": "code",
   "execution_count": null,
   "metadata": {},
   "outputs": [],
   "source": [
    "now_str = str(now)\n",
    "json.dumps(now_str)"
   ]
  },
  {
   "cell_type": "code",
   "execution_count": null,
   "metadata": {},
   "outputs": [],
   "source": [
    "from time import mktime\n",
    "now_epoch = int(mktime(now.timetuple()))\n",
    "json.dumps(now_epoch)"
   ]
  },
  {
   "cell_type": "markdown",
   "metadata": {},
   "source": [
    "Если значение datetime встретится между нормальными сконвертированными типами данных, может быть неприятно выполнять такие особые преобразования. \n",
    "\n",
    "Вы можете изменить то, как JSON будет закодирован, с помощью наследования, что описано в разделе «Наследование» главы 6. \n",
    "\n",
    "Документация JSON для Python содержит пример такого переопределения для комплексных чисел, что также заставляет JSON притвориться мертвым. \n",
    "\n",
    "Напишем переопределение для datetime:"
   ]
  },
  {
   "cell_type": "code",
   "execution_count": null,
   "metadata": {},
   "outputs": [],
   "source": [
    "class DTEncoder(json.JSONEncoder):\n",
    "    def default(self, obj):\n",
    "        # isinstance() checks the type of obj\n",
    "        if isinstance(obj, datetime.datetime):\n",
    "            return int(mktime(obj.timetuple()))\n",
    "        # else it's something the normal decoder knows:\n",
    "        return json.JSONEncoder.default(self, obj)\n"
   ]
  },
  {
   "cell_type": "code",
   "execution_count": null,
   "metadata": {},
   "outputs": [],
   "source": [
    "json.dumps(now, cls=DTEncoder)"
   ]
  },
  {
   "cell_type": "markdown",
   "metadata": {},
   "source": [
    "Новый класс DTEncoder является подклассом, или классом-потомком, класса JSONEncoder. \n",
    "\n",
    "Нам нужно лишь переопределить его метод default(), добавив обработку datetime. \n",
    "\n",
    "Наследование гарантирует, что все остальное будет обработано родительским классом.\n",
    "\n",
    "Функция isinstance() проверяет, является ли объект obj объектом класса datetime.datetime. \n",
    "\n",
    "Поскольку вPython все является объектом, функция isinstance() работает везде:"
   ]
  },
  {
   "cell_type": "code",
   "execution_count": null,
   "metadata": {},
   "outputs": [],
   "source": [
    "type(now)"
   ]
  },
  {
   "cell_type": "code",
   "execution_count": null,
   "metadata": {},
   "outputs": [],
   "source": [
    "isinstance(now, datetime.datetime)"
   ]
  },
  {
   "cell_type": "code",
   "execution_count": null,
   "metadata": {},
   "outputs": [],
   "source": [
    "type(234)"
   ]
  },
  {
   "cell_type": "code",
   "execution_count": null,
   "metadata": {},
   "outputs": [],
   "source": [
    "isinstance(234, int)"
   ]
  },
  {
   "cell_type": "code",
   "execution_count": null,
   "metadata": {},
   "outputs": [],
   "source": [
    "type('hey')"
   ]
  },
  {
   "cell_type": "code",
   "execution_count": null,
   "metadata": {},
   "outputs": [],
   "source": [
    "isinstance('hey', str)"
   ]
  },
  {
   "cell_type": "markdown",
   "metadata": {},
   "source": [
    "Для JSON и других структурированных текстовых форматов вы можете загрузить файл в память и разместить его в структуре данных, не зная о самих структурах заранее. \n",
    "\n",
    "Далее вы можете с помощью функции isinstance() пройти по структурам и соответствующим типам методам, чтобы проверить их значения. \n",
    "\n",
    "Например, если один из элементов является словарем, вы можете извлечь его содержимое с помощью функций keys(), values() и items()."
   ]
  },
  {
   "cell_type": "markdown",
   "metadata": {},
   "source": [
    "## YAML"
   ]
  },
  {
   "cell_type": "markdown",
   "metadata": {},
   "source": [
    "Как и JSON, YAML (http://www.yaml.org/) имеет ключи и значения, но обрабатывает большее количество типов данных, включая дату и время. Стандартная библиотека Python не содержит модулей, работающих с YAML, поэтому вам нужно установить стороннюю библиотеку yaml (http://pyyaml.org/wiki/PyYAML). Функция load()\n",
    "преобразует строку в формате YAML к данным Python, а функция dump() предназначена для противоположного действия.\n",
    "Следующий YAML-файл, mcintyre.yaml, содержит информацию о канадском поэте Джеймсе Макинтайре (James McIntyre), в том числе два его стихотворения:"
   ]
  },
  {
   "cell_type": "code",
   "execution_count": null,
   "metadata": {},
   "outputs": [],
   "source": [
    "name:\n",
    " first: James\n",
    " last: McIntyre\n",
    "dates:\n",
    " birth: 1828-05-25\n",
    "     death: 1906-03-31\n",
    "details:\n",
    " bearded: true\n",
    " themes: [cheese, Canada]\n",
    "books:\n",
    " url: http://www.gutenberg.org/files/36068/36068-h/36068-h.htm\n",
    "poems:\n",
    "— title: 'Motto'\n",
    " text: |\n",
    " Politeness, perseverance and pluck,\n",
    " To their possessor will bring good luck.\n",
    "— title: 'Canadian Charms'\n",
    " text: |\n",
    " Here industry is not in vain,\n",
    " For we have bounteous crops of grain,\n",
    " And you behold on every field\n",
    " Of grass and roots abundant yield,\n",
    " But after all the greatest charm\n",
    " Is the snug home upon the farm,\n",
    " And stone walls now keep cattle warm.\n"
   ]
  },
  {
   "cell_type": "markdown",
   "metadata": {},
   "source": [
    "Значения вроде true, false, on и off преобразуются в булевы переменные. Целые\n",
    "числа и строки преобразуются в их эквиваленты в Python. Для прочего синтаксиса создаются списки и словари:"
   ]
  },
  {
   "cell_type": "code",
   "execution_count": null,
   "metadata": {},
   "outputs": [],
   "source": [
    "import yaml\n",
    "with open('mcintyre.yaml', 'rt') as fin:\n",
    "text = fin.read()\n",
    "data = yaml.load(text)\n",
    "data['details']"
   ]
  },
  {
   "cell_type": "code",
   "execution_count": null,
   "metadata": {},
   "outputs": [],
   "source": [
    "len(data['poems'])"
   ]
  },
  {
   "cell_type": "markdown",
   "metadata": {},
   "source": [
    "Создаваемые структуры данных совпадают со структурами YAML-файла, которые в данном случае имеют глубину более одного уровня. \n",
    "\n",
    "Вы можете получить заголовок второго стихотворения с помощью следующей ссылки:"
   ]
  },
  {
   "cell_type": "code",
   "execution_count": null,
   "metadata": {},
   "outputs": [],
   "source": [
    "data['poems'][1]['title']"
   ]
  },
  {
   "cell_type": "markdown",
   "metadata": {},
   "source": [
    "PyYAML может загружать объекты Python из строк, и это опасно. \n",
    "\n",
    "Используйте метод safe_load() вместо метода load(), если импортируете данные в формате YAML, которым не доверяете. \n",
    "\n",
    "А лучше всегда используйте метод safe_load(). \n",
    "\n",
    "Прочтите статью War is peace (http://\n",
    "nedbatchelder.com/blog/201302/war_is_peace.html), чтобы узнать о том, как незащищенная загрузка YAML скомпрометировала платформу Ruby on Rails."
   ]
  },
  {
   "cell_type": "markdown",
   "metadata": {},
   "source": [
    "### Безопасность"
   ]
  },
  {
   "cell_type": "markdown",
   "metadata": {},
   "source": [
    "Вы можете использовать любой формат, описанный в этой главе, для сохранения объектов в файлы и их считывания. \n",
    "\n",
    "Однако существует вероятность внедриться\n",
    "в этот процесс и вызвать проблемы с безопасностью.\n",
    "\n",
    "Например, в следующем фрагменте XML-файла, состоящем из миллиарда усмешек, страница «Википедии» определяет десять вложенных сущностей, каждая из которых распространяется на более низкий уровень десять раз, порождая в сумме один миллиард сущностей:"
   ]
  },
  {
   "cell_type": "code",
   "execution_count": null,
   "metadata": {},
   "outputs": [],
   "source": [
    "<?xml version=\"1.0\"?>\n",
    "<!DOCTYPE lolz [\n",
    " <!ENTITY lol \"lol\">\n",
    "<!ENTITY lol1 \"&lol;&lol;&lol;&lol;&lol;&lol;&lol;&lol;&lol;&lol;\">\n",
    "<!ENTITY lol2 \"&lol1;&lol1;&lol1;&lol1;&lol1;&lol1;&lol1;&lol1;&lol1;&lol1;\">\n",
    "<!ENTITY lol3 \"&lol2;&lol2;&lol2;&lol2;&lol2;&lol2;&lol2;&lol2;&lol2;&lol2;\">\n",
    "<!ENTITY lol4 \"&lol3;&lol3;&lol3;&lol3;&lol3;&lol3;&lol3;&lol3;&lol3;&lol3;\">\n",
    "<!ENTITY lol5 \"&lol4;&lol4;&lol4;&lol4;&lol4;&lol4;&lol4;&lol4;&lol4;&lol4;\">\n",
    "<!ENTITY lol6 \"&lol5;&lol5;&lol5;&lol5;&lol5;&lol5;&lol5;&lol5;&lol5;&lol5;\">\n",
    "<!ENTITY lol7 \"&lol6;&lol6;&lol6;&lol6;&lol6;&lol6;&lol6;&lol6;&lol6;&lol6;\">\n",
    "<!ENTITY lol8 \"&lol7;&lol7;&lol7;&lol7;&lol7;&lol7;&lol7;&lol7;&lol7;&lol7;\">\n",
    "<!ENTITY lol9 \"&lol8;&lol8;&lol8;&lol8;&lol8;&lol8;&lol8;&lol8;&lol8;&lol8;\">\n",
    "]>\n",
    "<lolz>&lol9;</lolz>"
   ]
  },
  {
   "cell_type": "markdown",
   "metadata": {},
   "source": [
    "Плохая новость: миллиард усмешек подорвет работоспособность всех XMLбиблиотек, упомянутых в предыдущем разделе. \n",
    "\n",
    "На ресурсе Defused XML (https://\n",
    "bitbucket.org/tiran/defusedxml) эта и другие атаки перечислены наряду с уязвимостями библиотек Python. \n",
    "\n",
    "Перейдя по этой ссылке, вы увидите, как изменять настройки многих библиотек так, чтобы избежать этих проблем. \n",
    "\n",
    "Вы также можете использовать библиотеку defusedxml как внешний интерфейс безопасности для других\n",
    "библиотек:"
   ]
  },
  {
   "cell_type": "code",
   "execution_count": null,
   "metadata": {},
   "outputs": [],
   "source": [
    "# insecure:\n",
    "from xml.etree.ElementTree import parse\n",
    "et = parse(xmlfile)\n",
    "# protected:\n",
    "from defusedxml.ElementTree import parse\n",
    "et = parse(xmlfile)"
   ]
  },
  {
   "cell_type": "markdown",
   "metadata": {},
   "source": [
    "### Конфигурационные файлы"
   ]
  },
  {
   "cell_type": "markdown",
   "metadata": {},
   "source": [
    "Большинство программ предлагают различные параметры или настройки. \n",
    "\n",
    "Динамические настройки могут быть переданы как аргументы программы, но долговременные настройки должны где-то храниться. \n",
    "\n",
    "Искушение определить собственный формат конфигурационного файла быстро и неаккуратно очень сильно, но вы должны устоять. \n",
    "\n",
    "Как правило, результат получаем неаккуратно, но не очень быстро. \n",
    "\n",
    "Вам нужно обслуживать как программу-писатель, так и программу-читатель(которая иногда называется парсером).\n",
    "\n",
    "Существуют хорошие альтернативы, которые вы можете добавить в свою программу, включая те, что были показаны в предыдущих разделах.\n",
    "\n",
    "Здесь мы используем стандартный модуль configparser, который обрабатывает файлы с расширением .ini, характерные для Windows. \n",
    "\n",
    "Такие файлы имеют разделы, содержащие определения ключ = значение. \n",
    "\n",
    "Так выглядит минимальный файл settings.cfg:"
   ]
  },
  {
   "cell_type": "code",
   "execution_count": null,
   "metadata": {},
   "outputs": [],
   "source": [
    "[english]\n",
    "greeting = Hello\n",
    "[french]\n",
    "greeting = Bonjour\n",
    "[files]\n",
    "home = /usr/local\n",
    "# simple interpolation:\n",
    "bin = %(home)s/bin"
   ]
  },
  {
   "cell_type": "markdown",
   "metadata": {},
   "source": [
    "А так выглядит код, который позволяет считать его и разместить в структурах\n",
    "данных:"
   ]
  },
  {
   "cell_type": "code",
   "execution_count": null,
   "metadata": {},
   "outputs": [],
   "source": [
    "import configparser\n",
    "cfg = configparser.ConfigParser()\n",
    "cfg.read('settings.cfg')"
   ]
  },
  {
   "cell_type": "code",
   "execution_count": null,
   "metadata": {},
   "outputs": [],
   "source": [
    "cfg"
   ]
  },
  {
   "cell_type": "code",
   "execution_count": null,
   "metadata": {},
   "outputs": [],
   "source": [
    "cfg['french']"
   ]
  },
  {
   "cell_type": "code",
   "execution_count": null,
   "metadata": {},
   "outputs": [],
   "source": [
    "cfg['french']['greeting']"
   ]
  },
  {
   "cell_type": "code",
   "execution_count": null,
   "metadata": {},
   "outputs": [],
   "source": [
    "cfg['files']['bin']"
   ]
  },
  {
   "cell_type": "markdown",
   "metadata": {},
   "source": [
    "Доступны и другие опции, включая более мощную интерполяцию. \n",
    "\n",
    "Обратитесь к документации configparser (http://bit.ly/configparser). \n",
    "\n",
    "Если вам нужно более двух уровней вложенности, попробуйте использовать YAML или JSON."
   ]
  },
  {
   "cell_type": "markdown",
   "metadata": {},
   "source": [
    "## Другие форматы обмена данными\n"
   ]
  },
  {
   "cell_type": "markdown",
   "metadata": {},
   "source": [
    "Такие бинарные форматы обмена данными, как \n",
    "MsgPack (http://msgpack.org/),\n",
    "\n",
    "Protocol Buffers (https://code.google.com/p/protobuf/), \n",
    "\n",
    "Avro (http://avro.apache.org/docs/current/), \n",
    "\n",
    "Thrift (http://thrift.apache.org/), обычно компактнее и быстрее, чем XML или JSON. \n",
    "\n",
    "Поскольку они бинарные, ни один из них не может быть изменен человеком, вооружившимся текстовым редактором."
   ]
  },
  {
   "cell_type": "markdown",
   "metadata": {},
   "source": [
    "### Сериализация с помощью pickle"
   ]
  },
  {
   "cell_type": "markdown",
   "metadata": {},
   "source": [
    "Сохранение структур данных в файл называется сериализацией.\n",
    "\n",
    "Форматы вроде JSON могут требовать наличия пользовательских преобразователей для сериализации всех типов данных программы, написанной на Python. \n",
    "\n",
    "Python предоставляет модуль pickle, позволяющий сохранить и восстановить любой объект в специальном бинарном формате.\n",
    "\n",
    "Помните, как JSON сошел с ума, когда встретил объект datetime? \n",
    "\n",
    "Для pickle это не проблема:"
   ]
  },
  {
   "cell_type": "code",
   "execution_count": null,
   "metadata": {},
   "outputs": [],
   "source": [
    "import pickle\n",
    "import datetime\n",
    "now1 = datetime.datetime.utcnow()\n",
    "pickled = pickle.dumps(now1)\n",
    "now2 = pickle.loads(pickled)\n",
    "now1"
   ]
  },
  {
   "cell_type": "code",
   "execution_count": null,
   "metadata": {},
   "outputs": [],
   "source": [
    "now2"
   ]
  },
  {
   "cell_type": "markdown",
   "metadata": {},
   "source": [
    "pickle работает также с вашими собственными классами и объектами. Мы определим небольшой класс, который называется Tiny и возвращает слово 'tiny', когда\n",
    "он используется как строка:"
   ]
  },
  {
   "cell_type": "code",
   "execution_count": null,
   "metadata": {},
   "outputs": [],
   "source": [
    "import pickle\n",
    "class Tiny():\n",
    "    def __str__(self):\n",
    "        return 'tiny'\n",
    "    \n",
    "obj1 = Tiny()\n",
    "obj1"
   ]
  },
  {
   "cell_type": "code",
   "execution_count": null,
   "metadata": {},
   "outputs": [],
   "source": [
    "str(obj1)"
   ]
  },
  {
   "cell_type": "code",
   "execution_count": null,
   "metadata": {},
   "outputs": [],
   "source": [
    "pickled = pickle.dumps(obj1)\n",
    "pickled"
   ]
  },
  {
   "cell_type": "code",
   "execution_count": null,
   "metadata": {},
   "outputs": [],
   "source": [
    "obj2 = pickle.loads(pickled)\n",
    "obj2"
   ]
  },
  {
   "cell_type": "code",
   "execution_count": null,
   "metadata": {},
   "outputs": [],
   "source": [
    "str(obj2)"
   ]
  },
  {
   "cell_type": "markdown",
   "metadata": {},
   "source": [
    "pickled — это обработанная pickle бинарная строка, созданная из объекта obj1.\n",
    "\n",
    "Мы преобразовали ее в объект obj2, чтобы сделать копию объекта obj1. \n",
    "\n",
    "Используйте функцию dump(), чтобы pickle сохранил данные в файл, и функцию load(), чтобы pickle загрузил данные из файла."
   ]
  },
  {
   "cell_type": "markdown",
   "metadata": {},
   "source": [
    "Поскольку pickle может создавать объекты Python, к нему применимы предупреждения о безопасности, которые были рассмотрены ранее. \n",
    "\n",
    "Не загружайте в pickle данные, которым\n",
    "не доверяете."
   ]
  },
  {
   "cell_type": "markdown",
   "metadata": {},
   "source": [
    "## Структурированные бинарные файлы\n"
   ]
  },
  {
   "cell_type": "markdown",
   "metadata": {},
   "source": [
    "Некоторые файловые форматы были разработаны для того, чтобы хранить определенные структуры данных, и они не являются ни реляционными, ни базами данных NoSQL. \n",
    "\n",
    "В следующих разделах рассказывается о некоторых из них"
   ]
  },
  {
   "cell_type": "markdown",
   "metadata": {},
   "source": [
    "## Электронные таблицы"
   ]
  },
  {
   "cell_type": "markdown",
   "metadata": {},
   "source": [
    "Электронные таблицы, в частности Microsoft Excel, — это широко распространенный формат данных. \n",
    "\n",
    "Если вы можете сохранить свою таблицу в CSV-файл, то можете считать его с помощью стандартного модуля csv, который был описан ранее.\n",
    "\n",
    "Если у вас есть бинарный файл xls, для его считывания и записи можете использовать стороннюю библиотеку xlrd."
   ]
  },
  {
   "cell_type": "markdown",
   "metadata": {},
   "source": [
    "## HDF5"
   ]
  },
  {
   "cell_type": "markdown",
   "metadata": {},
   "source": [
    "HDF5 (http://www.hdfgroup.org/why_hdf) — это бинарный формат данных, предназначенный для хранения многомерных или иерархических числовых данных. \n",
    "\n",
    "Обычно он используется в научных целях, где быстрый случайный доступ к крупным наборам данных (от гигабайтов до терабайтов) является распространенным требованием.\n",
    "\n",
    "Несмотря на то что HDF5 в некоторых случаях мог бы стать хорошей альтернативой базам данных, по каким-то причинам этот формат практически неизвестен в современном мире. Он лучше всего подходит для приложений вида WORM (write once/\n",
    "read many — «запиши однажды — считай много раз»), которые не нуждаются в защите от конфликтующих записей. \n",
    "\n",
    "Вы можете счесть полезными следующие модули:\n",
    " h5py — является интерфейсом низкого уровня с широкими возможностями.\n",
    "\n",
    "Прочтите его документацию (http://www.h5py.org/) и код (https://github.com/h5py/\n",
    "h5py);\n",
    "\n",
    " PyTables — это интерфейс немного более высокого уровня, имеющий некоторые особенности, характерные для баз данных. Прочтите его документацию (http://www.pytables.org/) и код (http://pytables.github.com/).\n",
    "\n",
    "Оба этих формата рассматриваются в приложении В с точки зрения применения в научных приложениях, написанных на Python. \n",
    "\n",
    "Здесь я упоминаю об HDF5 затем, чтобы у вас был под рукой нестандартный вариант на случай, когда вам нужно сохранять и вычитывать крупные объемы данных. \n",
    "\n",
    "Хорошим примером использования этого формата является Million Song Dataset (http://bit.ly/millionsong), содержащий\n",
    "информацию о песнях."
   ]
  },
  {
   "cell_type": "markdown",
   "metadata": {},
   "source": [
    "## Реляционные базы данных"
   ]
  },
  {
   "cell_type": "markdown",
   "metadata": {},
   "source": [
    "Реляционным базам данных всего около 40 лет, но в компьютерном мире они используются повсеместно. \n",
    "\n",
    "Вам практически наверняка придется поработать с ними.\n",
    "\n",
    "В эти моменты вы сможете оценить следующие их преимущества.\n",
    "\n",
    " Доступ к данным возможен для нескольких пользователей одновременно.\n",
    "\n",
    " Действует защита от повреждения данных пользователями.\n",
    "\n",
    " Существуют эффективные методы сохранения и считывания данных.\n",
    "\n",
    " Данные определяются схемами, их можно ограничить.\n",
    "\n",
    " Объединения позволяют найти отношения между различными типами данных.\n",
    "\n",
    " Декларативный (в противоположность императивному) язык запросов SQL(Structured Query Language, структурированный язык запросов).\n",
    "\n",
    "Такие базы данных называются реляционными, поскольку они показывают отношения между различными типами данных, представленными в форме таблиц(в наши дни они называются именно так). \n",
    "\n",
    "Например, в нашем примере в менюсуществовало бы отношение между каждым элементом и его ценой.\n",
    "\n",
    "Таблица представляет собой сетку с рядами и графами, похожую на электронную таблицу. \n",
    "\n",
    "Чтобы создать таблицу, необходимо указать ее имя ипорядок, имена итипы ее граф.\n",
    "\n",
    "Каждый ряд имеет одинаковые графы, однако графа может быть определена так, что в ней можно ничего не размещать (null).\n",
    "\n",
    "В примере с меню вы могли бы создать таблицу, содержащую по одному ряду для каждого продаваемого элемента.\n",
    "\n",
    "Каждый элемент имеет одинаковые графы, включая ту, которая хранит цену.\n",
    "\n",
    "Первичным ключом таблицы является графа или группа граф, их значения должны быть уникальными. \n",
    "\n",
    "Это предотвращает ввод одинаковых данных в таблицу.\n",
    "\n",
    "Этот ключ индексируется для более быстрого поиска по время выполнения запроса. \n",
    "\n",
    "Работа индекса немного похожа на алфавитный указатель, что позволяет быстро найти определенный ряд.\n",
    "\n",
    "Каждая таблица находится внутри родительской базы данных, что напоминает файлы в каталоге. \n",
    "\n",
    "Два уровня иерархии позволяют немного лучше организовывать\n",
    "данные."
   ]
  },
  {
   "cell_type": "markdown",
   "metadata": {},
   "source": [
    "Да, словосочетание «база данных» используется в нескольких случаях: когда разговор идет о сервере, о хранилище таблиц и о данных, которые там хранятся. \n",
    "\n",
    "Если вам нужно упомянуть их одновременно, можно назвать их сервером базы данных, базой данных и данными"
   ]
  },
  {
   "cell_type": "markdown",
   "metadata": {},
   "source": [
    "Если вам нужно найти ряды по некоторому неключевому значению, определите для столбца вторичный индекс. \n",
    "\n",
    "В противном случае база данных должна будет\n",
    "выполнить сканирование таблицы — поиск нужного значения перебором всех рядов.\n",
    "\n",
    "Таблицы могут быть связаны друг с другом с помощью внешних ключей, и значения граф могут быть ограничены этими ключами."
   ]
  },
  {
   "cell_type": "markdown",
   "metadata": {},
   "source": [
    "## SQL"
   ]
  },
  {
   "cell_type": "markdown",
   "metadata": {},
   "source": [
    "SQL не является API или протоколом. \n",
    "\n",
    "Это декларативный язык: вы говорите, что вам нужно, вместо того, как это сделать. \n",
    "\n",
    "Это универсальный язык реляционных баз данных. \n",
    "\n",
    "Запросы SQL являются текстовыми строками, которые клиент отсылает серверу базы данных, определяющему, что с ними делать дальше.\n",
    "\n",
    "Существует несколько стандартов определения SQL, но все поставщики баз данных добавили свои модификации и расширения, что вылилось в возникновение\n",
    "множества диалектов SQL. \n",
    "\n",
    "Если вы храните данные в реляционной базе данных,\n",
    "SQL дает вам некоторую переносимость данных. \n",
    "\n",
    "Однако наличие диалектов и операционных различий может усложнить перенос данных в другую базу.\n",
    "\n",
    "Существуют две основные категории утверждений SQL: DDL (Data Definition Language, язык определения данных), который обрабатывает создание, удаление, ограничения и разрешения для таблиц, баз данных и использует DML (Data Manipulation Language, язык манипулирования данными), который обрабатывает добавление данных, их выборку, обновление и удаление.\n",
    "\n",
    "В табл. 8.1 перечислены основные команды SQL DDL"
   ]
  },
  {
   "cell_type": "markdown",
   "metadata": {},
   "source": [
    "##### Основные команды SQL DDL"
   ]
  },
  {
   "cell_type": "markdown",
   "metadata": {},
   "source": [
    "Операция                Шаблон SQL                Пример SQL\n",
    "\n",
    "Создание базы данных    CREATE DATABASE dbname    CREATE DATABASE d\n",
    "\n",
    "Выбор текущей базы данных USE dbname              USE d\n",
    "\n",
    "\n",
    "Удаление базы данных \n",
    "и ее таблиц             DROP DATABASE dbname      DROP   \n",
    "                                                  DATABASE d\n",
    "                                                \n",
    "Создание таблицы        CREATE TABLE tbname(coldefs) CREATE TABLE t (id INT,\n",
    "                                                     count INT)\n",
    "                                                     \n",
    "Удаление таблицы        DROP TABLE tbname          DROP TABLE t\n",
    "\n",
    "Удаление_всех строк_табл TRUNCATE TABLE tbname     TRUNCATE TABLE t"
   ]
  },
  {
   "cell_type": "markdown",
   "metadata": {},
   "source": [
    "Почему все пишется БОЛЬШИМИ БУКВАМИ? Язык SQL не зависит от регистра, но по традиции (не спрашивайте меня почему) ключевые слова ВЫКРИКИВАЮТСЯ, чтобы можно было\n",
    "отличить их от имен граф."
   ]
  },
  {
   "cell_type": "markdown",
   "metadata": {},
   "source": [
    "Основные операции DML реляционной базы данных можно запомнить с помощью акронима CRUD:\n",
    "\n",
    " Create — создание с помощью оператора SQL INSERT;\n",
    "\n",
    " Read — чтение с помощью SELECT;\n",
    "\n",
    " Update — обновление с помощью UPDATE;\n",
    "\n",
    " Delete — удаление с помощью DELETE"
   ]
  },
  {
   "cell_type": "markdown",
   "metadata": {},
   "source": [
    "##### Основные команды SQL DML"
   ]
  },
  {
   "cell_type": "markdown",
   "metadata": {},
   "source": [
    "Операция:                                              \n",
    "\n",
    "Добавление ряда   \n",
    "\n",
    "Шаблон SQL:\n",
    "\n",
    "INSERT INTO tbname VALUES(…)\n",
    "\n",
    "Пример SQL:\n",
    "\n",
    "INSERT INTO t VALUES(7, 40)\n"
   ]
  },
  {
   "cell_type": "markdown",
   "metadata": {},
   "source": [
    "Операция:                                              \n",
    "\n",
    "Выборка всех рядов и граф \n",
    "\n",
    "Шаблон SQL:\n",
    "\n",
    "SELECT * FROM tbname\n",
    "\n",
    "Пример SQL:\n",
    "\n",
    "SELECT * FROM t\n"
   ]
  },
  {
   "cell_type": "markdown",
   "metadata": {},
   "source": [
    "Операция:                                              \n",
    "\n",
    "Выборка всех рядов и некоторых граф \n",
    "\n",
    "Шаблон SQL:\n",
    "\n",
    "SELECT cols FROM tbname\n",
    "\n",
    "Пример SQL:\n",
    "\n",
    "SELECT id, count FROM t\n"
   ]
  },
  {
   "cell_type": "markdown",
   "metadata": {},
   "source": [
    "Операция:                                              \n",
    "\n",
    "Выборка некоторых рядов\n",
    "и некоторых граф\n",
    "\n",
    "Шаблон SQL:\n",
    "\n",
    "SELECT cols FROM tbname\n",
    "\n",
    "Пример SQL:\n",
    "\n",
    "WHERE condition SELECT id, count from t WHERE count > 5 AND id = 9"
   ]
  },
  {
   "cell_type": "markdown",
   "metadata": {},
   "source": [
    "Операция:                                              \n",
    "\n",
    "Изменение некоторых рядов\n",
    "в графе\n",
    "\n",
    "Шаблон SQL:\n",
    "\n",
    "UPDATE tbname SET col = value\n",
    "WHERE condition\n",
    "\n",
    "Пример SQL:\n",
    "\n",
    "UPDATE t SET count = 3 WHERE id = 5"
   ]
  },
  {
   "cell_type": "markdown",
   "metadata": {},
   "source": [
    "Операция:                                              \n",
    "\n",
    "Удаление некоторых рядов\n",
    "\n",
    "Шаблон SQL:\n",
    "\n",
    "DELETE FROM tbname WHERE condition\n",
    "\n",
    "Пример SQL:\n",
    "\n",
    "DELETE FROM t WHERE count <= 10 OR id = 16\n"
   ]
  },
  {
   "cell_type": "markdown",
   "metadata": {},
   "source": [
    "### DB-API"
   ]
  },
  {
   "cell_type": "markdown",
   "metadata": {},
   "source": [
    "Программный интерфейс приложения (Application Programming Interface, API) — это набор функций, которые вы можете вызвать, чтобы получить доступ к какойлибо услуге. \n",
    "\n",
    "DB-API (http://bit.ly/db-api) — это стандартный API в Python, предназначенный для получения доступа к реляционным базам данных. \n",
    "\n",
    "С его помощью вы можете написать одну программу, которая работает с несколькими видами реляционных баз данных, вместо того чтобы писать несколько программ для работы с каждым видом баз данных по отдельности. \n",
    "\n",
    "Этот API похож на JDBC в Java или dbi вPerl.\n",
    "\n",
    "Рассмотрим его основные функции.\n",
    "\n",
    " connect() — создание соединения с базой данных. \n",
    "\n",
    "Этот вызов может включать\n",
    "в себя аргументы вроде имени пользователя, пароля, адреса сервера и пр.\n",
    "\n",
    " cursor() — создание объекта курсора, предназначенного для работы с запросами.\n",
    "\n",
    " execute() и executemany() — запуск одной или более команд SQL.\n",
    "\n",
    " fetchone(), fetchmany() и fetchall() — получение результатов работы функции execute.\n",
    "\n",
    "Модули работы с базами данных в Python, которые будут рассмотрены в следующих разделах, соответствуют DB-API, часто имея некоторые расширения или разницу в деталях."
   ]
  },
  {
   "cell_type": "markdown",
   "metadata": {},
   "source": [
    "## SQLite"
   ]
  },
  {
   "cell_type": "markdown",
   "metadata": {},
   "source": [
    "SQLite (http://www.sqlite.org/) — это хорошая легковесная реляционная база данных с открытым исходным кодом. \n",
    "\n",
    "Она реализована как стандартная библиотека\n",
    "Python и хранит базы данных в обычных файлах. \n",
    "\n",
    "Эти файлы можно переносить на другие машины и в операционные системы, что делает SQLite очень портативным решением для создания простых реляционных баз данных. \n",
    "\n",
    "У нее не так много возможностей, как у MySQL или PostgreSQL, но она поддерживает SQL и позволяет нескольким пользователям работать с ней одновременно. \n",
    "\n",
    "Браузеры, смартфоны и другие операционные системы используют SQLite как встроенную базу данных.\n",
    "\n",
    "Работа с базой данных начинается с вызова connect() для установки соединения с локальным файлом базы данных, который вы хотите создать или использовать.\n",
    "\n",
    "Этот файл эквивалентен похожей на каталог базе данных, которая хранит таблицы на других серверах. \n",
    "\n",
    "С помощью специальной строки ':memory:' можно создать базу\n",
    "данных только в памяти — это быстро и полезно для тестирования, но данные будут потеряны при завершении программы или выключении компьютера.\n",
    "\n",
    "Для следующего примера создадим базу данных enterprise.db и таблицу zoo, чтобы управлять нашим увлекательным бизнесом по содержанию придорожного контактного зоопарка. \n",
    "\n",
    "В таблице будут содержаться следующие графы:\n",
    "\n",
    " critter — строка переменной длины, наш первичный ключ;\n",
    "\n",
    " count — целочисленное количество единиц используемого инвентаря для этого животного;\n",
    "\n",
    " damages — количество долларов, потерянных из-за взаимодействий людей с животными:"
   ]
  },
  {
   "cell_type": "code",
   "execution_count": null,
   "metadata": {},
   "outputs": [],
   "source": [
    "import sqlite3\n",
    "conn = sqlite3.connect('enterprise.db')\n",
    "curs = conn.cursor()\n",
    "curs.execute('''CREATE TABLE zoo \n",
    "(critter VARCHAR(20) PRIMARY KEY,\n",
    " count INT,\n",
    " damages FLOAT)''')"
   ]
  },
  {
   "cell_type": "markdown",
   "metadata": {},
   "source": [
    "Тройные кавычки в Python очень полезны при создании длинных строк вроде запросов SQL.\n",
    "\n",
    "Теперь добавим в зоопарк несколько животных:"
   ]
  },
  {
   "cell_type": "code",
   "execution_count": null,
   "metadata": {},
   "outputs": [],
   "source": [
    "curs.execute('INSERT INTO zoo VALUES(\"duck\", 5, 0.0)')\n"
   ]
  },
  {
   "cell_type": "code",
   "execution_count": null,
   "metadata": {},
   "outputs": [],
   "source": [
    "curs.execute('INSERT INTO zoo VALUES(\"bear\", 2, 1000.0)')"
   ]
  },
  {
   "cell_type": "markdown",
   "metadata": {},
   "source": [
    "Существует более безопасный способ добавить данные — использовать заполнитель:"
   ]
  },
  {
   "cell_type": "code",
   "execution_count": null,
   "metadata": {},
   "outputs": [],
   "source": [
    "ins = 'INSERT INTO zoo (critter, count, damages) VALUES(?, ?, ?)'\n",
    "curs.execute(ins, ('weasel', 1, 2000.0))"
   ]
  },
  {
   "cell_type": "markdown",
   "metadata": {},
   "source": [
    "В этот раз мы использовали в запросе три вопросительных знака, чтобы показать,\n",
    "что планируем добавить три значения, а затем добавить эти значения списком\n",
    "в функции execute(). Заполнители помогают нам справляться с нудными деталями\n",
    "вроде расстановки кавычек. Они защищают от SQL-инъекций — внешней атаки,\n",
    "распространенной в Сети, которая внедряет в систему вредные команды SQL.\n",
    "Теперь проверим, сможем ли мы получить назад список наших животных:"
   ]
  },
  {
   "cell_type": "code",
   "execution_count": null,
   "metadata": {},
   "outputs": [],
   "source": [
    "curs.execute('SELECT * FROM zoo')"
   ]
  },
  {
   "cell_type": "code",
   "execution_count": null,
   "metadata": {},
   "outputs": [],
   "source": [
    "rows = curs.fetchall()\n",
    "print(rows)"
   ]
  },
  {
   "cell_type": "markdown",
   "metadata": {},
   "source": [
    "Получим их снова, но на этот раз упорядочим список по количеству животных:"
   ]
  },
  {
   "cell_type": "code",
   "execution_count": null,
   "metadata": {},
   "outputs": [],
   "source": [
    "curs.execute('SELECT * from zoo ORDER BY count')"
   ]
  },
  {
   "cell_type": "code",
   "execution_count": null,
   "metadata": {},
   "outputs": [],
   "source": [
    "curs.fetchall()"
   ]
  },
  {
   "cell_type": "markdown",
   "metadata": {},
   "source": [
    "Эй, мы хотели получить список в нисходящем порядке:\n"
   ]
  },
  {
   "cell_type": "code",
   "execution_count": null,
   "metadata": {},
   "outputs": [],
   "source": [
    "curs.execute('SELECT * from zoo ORDER BY count DESC')"
   ]
  },
  {
   "cell_type": "code",
   "execution_count": null,
   "metadata": {},
   "outputs": [],
   "source": [
    "curs.fetchall()"
   ]
  },
  {
   "cell_type": "markdown",
   "metadata": {},
   "source": [
    "Какие животные обходятся нам дороже всего?"
   ]
  },
  {
   "cell_type": "code",
   "execution_count": null,
   "metadata": {},
   "outputs": [],
   "source": [
    "curs.execute('''SELECT * FROM zoo WHERE damages = (SELECT MAX(damages) FROM zoo)''')"
   ]
  },
  {
   "cell_type": "code",
   "execution_count": null,
   "metadata": {},
   "outputs": [],
   "source": [
    "curs.fetchall()"
   ]
  },
  {
   "cell_type": "markdown",
   "metadata": {},
   "source": [
    "Вы могли бы подумать, что это медведи. \n",
    "\n",
    "Лучше всегда проверять актуальные данные.\n",
    "\n",
    "Перед тем как оставить в покое SQLite, нам нужно прибраться.\n",
    "\n",
    "Если мы открывали соединение и курсор, нужно закрыть их после того, как работа будет закончена:"
   ]
  },
  {
   "cell_type": "code",
   "execution_count": null,
   "metadata": {},
   "outputs": [],
   "source": [
    "curs.close()\n",
    "conn.close()"
   ]
  },
  {
   "cell_type": "markdown",
   "metadata": {},
   "source": [
    "## MySQL"
   ]
  },
  {
   "cell_type": "markdown",
   "metadata": {},
   "source": [
    "MySQL (http://www.mysql.com/) — это очень популярная реляционная база данных\n",
    "с открытым исходным кодом. В отличие от SQLite она является настоящим сервером, поэтому клиенты могут получать к ней доступ с разных устройств всей\n",
    "сети.\n",
    "MysqlDB (http://sourceforge.net/projects/mysql-python) является самым популярным драйвером для MySQL, но его еще не портировали в Python 3. В табл. 8.3 перечислены драйверы, которые вы можете использовать для того, чтобы получить\n",
    "доступ к MySQL из Python"
   ]
  },
  {
   "cell_type": "markdown",
   "metadata": {},
   "source": [
    "###### Драйверы MySQL"
   ]
  },
  {
   "cell_type": "markdown",
   "metadata": {},
   "source": [
    "Название           MySQL Connector\n",
    "\n",
    "Ссылка             http://bit.ly/mysql-cpdg \n",
    "\n",
    "Пакет PyPi         mysql-connectorpython\n",
    "\n",
    "Импортировать как  mysql.connector\n",
    "\n",
    "Примечание         -"
   ]
  },
  {
   "cell_type": "markdown",
   "metadata": {},
   "source": [
    "Название           PYMySQL\n",
    "\n",
    "Ссылка             https://github.com/petehunt/PyMySQL/\n",
    "\n",
    "\n",
    "Пакет PyPi         pymysql\n",
    "\n",
    "Импортировать как  pymysql \n",
    "\n",
    "Примечание         -"
   ]
  },
  {
   "cell_type": "markdown",
   "metadata": {},
   "source": [
    "Название           oursql \n",
    "\n",
    "\n",
    "Ссылка             http://pythonhosted.org/oursql/\n",
    "\n",
    "Пакет PyPi         oursql\n",
    "\n",
    "Импортировать как  oursql\n",
    "\n",
    "Примечание         Требует наличия\n",
    "                   клиентской библиотеки MySQL C"
   ]
  },
  {
   "cell_type": "markdown",
   "metadata": {},
   "source": [
    "### PostgreSQL"
   ]
  },
  {
   "cell_type": "markdown",
   "metadata": {},
   "source": [
    "PostgreSQL (http://www.postgresql.org/) — реляционная база данных с открытым исходным кодом, имеющая широкие возможности и гораздо более продвинутая, чем MySQL. \n",
    "\n",
    "В табл. 8.4 показаны драйверы Python, которые вы можете использовать для того, чтобы получить к ней доступ.\n"
   ]
  },
  {
   "cell_type": "markdown",
   "metadata": {},
   "source": [
    "###### Драйверы PostgreSQL\n"
   ]
  },
  {
   "cell_type": "markdown",
   "metadata": {},
   "source": [
    "Название           psycopg2 \n",
    "\n",
    "Ссылка             http://initd.org/psycopg/ \n",
    "\n",
    "Пакет PyPi         psycopg2\n",
    "\n",
    "Импортировать как  psycopg2\n",
    "\n",
    "Примечание         Необходим pg_config из клиентских инструментов PostgreSQL\n"
   ]
  },
  {
   "cell_type": "markdown",
   "metadata": {},
   "source": [
    "Название           py-postgresql \n",
    "\n",
    "Ссылка             http://python.projects.pgfoundry.org/\n",
    "\n",
    "Пакет PyPi         py-postgresql\n",
    "\n",
    "Импортировать как  postgresql\n",
    "\n",
    "Примечание         -"
   ]
  },
  {
   "cell_type": "markdown",
   "metadata": {},
   "source": [
    "## SQLAlchemy"
   ]
  },
  {
   "cell_type": "markdown",
   "metadata": {},
   "source": [
    "SQL не во всех реляционных базах данных одинаков, и DB-API дает вам ограниченный набор возможностей. \n",
    "\n",
    "Каждая база данных реализует определенный диалект, отражая свои особенности и философию. \n",
    "\n",
    "Многие библиотеки пытаются тем или иным способом компенсировать эти различия. \n",
    "\n",
    "Самая популярная библиотека для работы с разными базами данных — SQLAlchemy (http://www.sqlalchemy.org/)."
   ]
  },
  {
   "cell_type": "markdown",
   "metadata": {},
   "source": [
    "Эта библиотека не является стандартной, но она широко известна и используется многими людьми. \n",
    "\n",
    "Вы можете установить ее в свою систему с помощью следующей команды:"
   ]
  },
  {
   "cell_type": "code",
   "execution_count": null,
   "metadata": {},
   "outputs": [],
   "source": [
    "$ pip install sqlalchemy"
   ]
  },
  {
   "cell_type": "markdown",
   "metadata": {},
   "source": [
    "Можете использовать SQLAlchemy на нескольких уровнях.\n",
    "\n",
    " На самом низком уровне она работает с пулами соединений к базе данных, выполняет команды SQL и возвращает результат. \n",
    "\n",
    "Этот уровень очень похож на DB-API.\n",
    "\n",
    " Следующий уровень — язык выражений SQL, построитель SQL в Python.\n",
    "\n",
    " Самый высокий уровень — это слой ORM (Object Relational Model, объектнореляционное отображение), который использует язык выражений SQL Expression Language и связывает код приложения с реляционными структурами\n",
    "данных.\n",
    "\n",
    "По мере углубления вматериал вы поймете, что означают эти термины. \n",
    "\n",
    "SQLAlchemy работает с драйверами базы данных, задокументированными в предыдущих разделах. \n",
    "\n",
    "Вам не нужно импортировать драйвер — он будет определен с помощью строки соединения, которую вы предоставляете SQLAlchemy. \n",
    "\n",
    "Эта строка выглядит примерно так:"
   ]
  },
  {
   "cell_type": "markdown",
   "metadata": {},
   "source": [
    "dialect + driver :// user : password @ host : port / dbname"
   ]
  },
  {
   "cell_type": "markdown",
   "metadata": {},
   "source": [
    "В эту строку нужно поместить следующие значения:\n",
    "\n",
    " dialect — тип базы данных;\n",
    "\n",
    " driver — драйвер, который вы хотите использовать для этой базы данных;\n",
    "\n",
    " user и password — строки аутентификации для этой базы данных;\n",
    "\n",
    " host и port — расположение сервера базы данных (значение port нужно указывать только в том случае, если вы используете нестандартный порт);\n",
    "\n",
    " dbname — имя базы данных, к которой нужно подключиться.\n",
    "В табл. 8.5 перечислены диалекты и драйверы."
   ]
  },
  {
   "cell_type": "markdown",
   "metadata": {},
   "source": [
    "##### Соединение с SQLAlchemy"
   ]
  },
  {
   "cell_type": "markdown",
   "metadata": {},
   "source": [
    "Диалект               Драйвер\n",
    "\n",
    "sqlite                pysqlite (можно опустить)\n",
    "\n",
    "mysql                 mysqlconnector\n",
    "\n",
    "mysql                 pymysql\n",
    "\n",
    "mysql                 oursql\n",
    "\n",
    "postgresql            psycopg2\n",
    "\n",
    "postgresql            pypostgresql"
   ]
  },
  {
   "cell_type": "markdown",
   "metadata": {},
   "source": [
    "#### Уровень движка"
   ]
  },
  {
   "cell_type": "markdown",
   "metadata": {},
   "source": [
    "Сначала мы попробуем поработать с самым низким уровнем SQLAlchemy, возможности которого почти не отличаются от функций DB-API.\n",
    "\n",
    "\n",
    "Попробуем поработать с SQLite, поскольку его поддержка уже встроена в Python. \n",
    "\n",
    "Строка соединения для SQLite опускает значения параметров host, port, user и password.dbname информирует SQLite о том, какой файл использовать для хранения вашей базы данных. \n",
    "\n",
    "Если вы опустите параметр dbname, SQLite создаст\n",
    "базу данных в памяти. \n",
    "\n",
    "Если значение параметра dbname начинается со слеша (/),\n",
    "оно является абсолютным именем файла на вашем компьютере (как в Linux и OS X). \n",
    "\n",
    "В противном случае оно является относительным именем текущего каталога.\n",
    "\n",
    "Следующие сегменты являются частью одной программы, разделенной на части для удобства объяснения.\n",
    "\n",
    "Для начала нужно импортировать все, что нам понадобится.\n",
    "\n",
    "Следующая строка является примером импортирования псевдонима, который позволяет использовать строку sa для того, чтобы ссылаться на методы SQLAlchemy. \n",
    "\n",
    "Я делаю это в основном потому, что sa написать гораздо проще, чем sqlalchemy:"
   ]
  },
  {
   "cell_type": "code",
   "execution_count": null,
   "metadata": {},
   "outputs": [],
   "source": [
    "import sqlalchemy as sa"
   ]
  },
  {
   "cell_type": "markdown",
   "metadata": {},
   "source": [
    "Соединимся с базой данных и создадим хранилище в памяти (строка аргументов 'sqlite:///:memory: ' также сработает):"
   ]
  },
  {
   "cell_type": "code",
   "execution_count": null,
   "metadata": {},
   "outputs": [],
   "source": [
    "conn = sa.create_engine('sqlite://')"
   ]
  },
  {
   "cell_type": "markdown",
   "metadata": {},
   "source": [
    "Создадим таблицу, которая называется zoo и содержит три графы:"
   ]
  },
  {
   "cell_type": "code",
   "execution_count": null,
   "metadata": {},
   "outputs": [],
   "source": [
    "conn.execute('''CREATE TABLE zoo\n",
    "    (critter VARCHAR(20) PRIMARY KEY,\n",
    "    count INT,\n",
    "    damages FLOAT)''')"
   ]
  },
  {
   "cell_type": "markdown",
   "metadata": {},
   "source": [
    "Вызов conn.execute() возвращает объект SQLAlchemy, который называется ResultProxy. \n",
    "\n",
    "Скоро вы увидите, что с ним можно сделать.\n",
    "\n",
    "Кстати, если вы раньше никогда не создавали базы данных, примите мои поздравления. \n",
    "\n",
    "Можете вычеркнуть этот пункт из своего списка дел, которые обязательно нужно реализовать в жизни.\n",
    "\n",
    "Далее вставьте три набора данных в новую пустую таблицу:"
   ]
  },
  {
   "cell_type": "code",
   "execution_count": null,
   "metadata": {},
   "outputs": [],
   "source": [
    "ins = 'INSERT INTO zoo (critter, count, damages) VALUES (?, ?, ?)'"
   ]
  },
  {
   "cell_type": "code",
   "execution_count": null,
   "metadata": {},
   "outputs": [],
   "source": [
    "conn.execute(ins, 'duck', 10, 0.0)"
   ]
  },
  {
   "cell_type": "code",
   "execution_count": null,
   "metadata": {},
   "outputs": [],
   "source": [
    "conn.execute(ins, 'bear', 2, 1000.0)"
   ]
  },
  {
   "cell_type": "code",
   "execution_count": null,
   "metadata": {},
   "outputs": [],
   "source": [
    "conn.execute(ins, 'weasel', 1, 2000.0)"
   ]
  },
  {
   "cell_type": "markdown",
   "metadata": {},
   "source": [
    "Далее сделайте выборку того, что только что разместили в базе:"
   ]
  },
  {
   "cell_type": "code",
   "execution_count": null,
   "metadata": {},
   "outputs": [],
   "source": [
    "rows = conn.execute('SELECT * FROM zoo')"
   ]
  },
  {
   "cell_type": "markdown",
   "metadata": {},
   "source": [
    "В SQLAlchemy rows не является списком — это специальный объект ResultProxy, который мы не можем отобразить непосредственно:\n"
   ]
  },
  {
   "cell_type": "code",
   "execution_count": null,
   "metadata": {},
   "outputs": [],
   "source": [
    "print(rows)"
   ]
  },
  {
   "cell_type": "markdown",
   "metadata": {},
   "source": [
    "Однако вы можете итерировать по нему, как по списку, и получать по одному ряду за раз:"
   ]
  },
  {
   "cell_type": "code",
   "execution_count": null,
   "metadata": {},
   "outputs": [],
   "source": [
    "for row in rows:\n",
    "    print(row)"
   ]
  },
  {
   "cell_type": "markdown",
   "metadata": {},
   "source": [
    "Этот пример очень похож на другой, где использовался SQLite DB-API. \n",
    "\n",
    "Единственное преимущество этого подхода заключается в том, что нам не нужно импортировать драйвер — SQLAlchemy сам определил драйвер на основе строки соединения. \n",
    "\n",
    "Простое изменение строки соединения позволит перенести этот код на базу данных другого типа. \n",
    "\n",
    "Еще один плюс SQLAlchemy заключается в наличии пула\n",
    "соединений, о котором вы можете прочитать на сайте http://bit.ly/conn-pooling, содержащем документацию."
   ]
  },
  {
   "cell_type": "markdown",
   "metadata": {},
   "source": [
    "## Язык выражений SQL"
   ]
  },
  {
   "cell_type": "markdown",
   "metadata": {},
   "source": [
    "Следующий уровень SQLAlchemy — это язык выражений SQL. Он предоставляет\n",
    "функции, которые позволяют создать SQL для разных операций. Язык выражений\n",
    "обрабатывает большее количество различий в диалектах, чем низкоуровневый слой\n",
    "движка. Он может оказаться полезным промежуточным решением для приложений, работающих с реляционными базами данных.\n",
    "Рассмотрим создание и наполнение таблицы zoo. Вновь все последующие фрагменты принадлежат одной программе.\n",
    "Импортирование и подключение не изменяются:"
   ]
  },
  {
   "cell_type": "code",
   "execution_count": null,
   "metadata": {},
   "outputs": [],
   "source": [
    "import sqlalchemy as sa\n",
    "conn = sa.create_engine('sqlite://')"
   ]
  },
  {
   "cell_type": "markdown",
   "metadata": {},
   "source": [
    "Для того чтобы определить таблицу zoo, вместо SQL начнем использовать язык\n",
    "выражений:"
   ]
  },
  {
   "cell_type": "code",
   "execution_count": null,
   "metadata": {},
   "outputs": [],
   "source": [
    "meta = sa.MetaData()\n",
    "zoo = sa.Table('zoo', meta,\n",
    "               sa.Column('critter', sa.String, primary_key=True),\n",
    "               sa.Column('count', sa.Integer),\n",
    "               sa.Column('damages', sa.Float))\n",
    "meta.create_all(conn)"
   ]
  },
  {
   "cell_type": "markdown",
   "metadata": {},
   "source": [
    "Обратите внимание на круглые скобки в операции, которая занимает несколько строк в предыдущем примере. \n",
    "\n",
    "Структура метода Table() совпадает со структурой\n",
    "таблицы. \n",
    "\n",
    "Поскольку наша таблица содержит три графы, в методе Table() расположены три вызова метода Column().\n",
    "\n",
    "zoo представляет собой некий волшебный объект, который соединяет мир баз данных SQL и мир структур данных Python.\n",
    "\n",
    "Запишите в таблицу данные с помощью новых функций языка выражений:"
   ]
  },
  {
   "cell_type": "markdown",
   "metadata": {},
   "source": [
    "... conn.execute(zoo.insert(('bear', 2, 1000.0)))\n",
    "<sqlalchemy.engine.result.ResultProxy object at 0x1017ea910>\n",
    ">>> conn.execute(zoo.insert(('weasel', 1, 2000.0)))\n",
    "<sqlalchemy.engine.result.ResultProxy object at 0x1017eab10>\n",
    ">>> conn.execute(zoo.insert(('duck', 10, 0)))\n",
    "<sqlalchemy.engine.result.ResultProxy object at 0x1017eac50>"
   ]
  },
  {
   "cell_type": "markdown",
   "metadata": {},
   "source": [
    "Далее создадим оператор SELECT (zoo.select() делает выборку всего, что содержится в таблице, представленной объектом zoo, как это сделала бы инструкция\n",
    "\n",
    "SELECT * FROM zoo \n",
    "\n",
    "в простом SQL):"
   ]
  },
  {
   "cell_type": "code",
   "execution_count": null,
   "metadata": {},
   "outputs": [],
   "source": [
    "result = conn.execute(zoo.select())"
   ]
  },
  {
   "cell_type": "markdown",
   "metadata": {},
   "source": [
    "Наконец, получим результат:"
   ]
  },
  {
   "cell_type": "code",
   "execution_count": null,
   "metadata": {},
   "outputs": [],
   "source": [
    "rows = result.fetchall()"
   ]
  },
  {
   "cell_type": "code",
   "execution_count": null,
   "metadata": {},
   "outputs": [],
   "source": [
    "print(rows)"
   ]
  },
  {
   "cell_type": "markdown",
   "metadata": {},
   "source": [
    "## The Object-Relational Mapper\n"
   ]
  },
  {
   "cell_type": "markdown",
   "metadata": {},
   "source": [
    "В предыдущем разделе объект zoo являлся промежуточным звеном между SQL и Python. \n",
    "\n",
    "В самом верхнем слое SQLAlchemy объектно-реляционное отображение (Object-Relational Mapper, ORM) использует язык выражений SQL, но старается сделать реальные механизмы базы данных невидимыми. \n",
    "\n",
    "Вы определяете классы, а ORM обрабатывает способ, с помощью которого они получают данные из базы данных и возвращают их обратно. \n",
    "\n",
    "Основная идея, на которой базируется сложный\n",
    "термин «объектно-реляционное отображение», заключается в том, что вы можете ссылаться на объекты в своем коде и поэтому придерживаться принципов работы с Python, но при этом использовать реляционную базу данных.\n",
    "\n",
    "Мы определим класс Zoo и свяжем его с ORM. \n",
    "\n",
    "В этот раз укажем SQLite использовать файл zoo.db, чтобы убедиться, что ORM работает."
   ]
  },
  {
   "cell_type": "markdown",
   "metadata": {},
   "source": [
    "Как и в предыдущих двух разделах, следующие сниппеты являются частью одной программы, разбитой на фрагменты, которые я объясню. Не переживайте, если чего-то не поймете. \n",
    "\n",
    "В документации к SQLAlchemy содержатся все необходимые детали, работа с SQLALchemy может оказаться довольно сложной.\n",
    "\n",
    "Я хочу показать вам, что нужно сделать, чтобы ORM работал, чтобы вы могли определить, какой из подходов, рассмотренных в этой главе, годится для вас больше других.\n",
    "\n",
    "Импорт остается неизменным, но в этот раз нам нужно кое-что еще:\n"
   ]
  },
  {
   "cell_type": "code",
   "execution_count": null,
   "metadata": {},
   "outputs": [],
   "source": [
    "import sqlalchemy as sa\n",
    "from sqlalchemy.ext.declarative import declarative_base"
   ]
  },
  {
   "cell_type": "markdown",
   "metadata": {},
   "source": [
    "Вот так создается соединение:"
   ]
  },
  {
   "cell_type": "code",
   "execution_count": null,
   "metadata": {},
   "outputs": [],
   "source": [
    " conn = sa.create_engine('sqlite:///zoo.db')\n"
   ]
  },
  {
   "cell_type": "markdown",
   "metadata": {},
   "source": [
    "Теперь мы начинаем работать с SQLAlchemy ORM. \n",
    "\n",
    "Определяем класс Zoo и связываем его атрибуты с графами таблицы:"
   ]
  },
  {
   "cell_type": "code",
   "execution_count": null,
   "metadata": {},
   "outputs": [],
   "source": [
    "Base = declarative_base()\n",
    "class Zoo(Base):\n",
    "    __tablename__ = 'zoo'\n",
    "    critter = sa.Column('critter', sa.String, primary_key=True)\n",
    "    count = sa.Column('count', sa.Integer)\n",
    "    damages = sa.Column('damages', sa.Float)\n",
    "    def __init__(self, critter, count, damages):\n",
    "        self.critter = critter\n",
    "        self.count = count\n",
    "        self.damages = damages\n",
    "    def __repr__(self):\n",
    "        return \"<Zoo({}, {}, {})>\".format(self.critter, self.count, self.damages)"
   ]
  },
  {
   "cell_type": "markdown",
   "metadata": {},
   "source": [
    "Следующая строка как по волшебству создает базу данных и таблицу:"
   ]
  },
  {
   "cell_type": "code",
   "execution_count": null,
   "metadata": {},
   "outputs": [],
   "source": [
    "Base.metadata.create_all(conn)"
   ]
  },
  {
   "cell_type": "code",
   "execution_count": null,
   "metadata": {},
   "outputs": [],
   "source": [
    "Вы можете добавить в таблицу данные путем создания объектов Python.\n",
    "ORM управляет данными изнутри:"
   ]
  },
  {
   "cell_type": "code",
   "execution_count": null,
   "metadata": {},
   "outputs": [],
   "source": [
    "first = Zoo('duck', 10, 0.0)\n",
    "second = Zoo('bear', 2, 1000.0)\n",
    "third = Zoo('weasel', 1, 2000.0)\n",
    "first"
   ]
  },
  {
   "cell_type": "markdown",
   "metadata": {},
   "source": [
    "Далее мы указываем ORM отвезти нас в страну SQL. \n",
    "\n",
    "Создаем сессию, чтобы беседовать с базой данных:"
   ]
  },
  {
   "cell_type": "code",
   "execution_count": null,
   "metadata": {},
   "outputs": [],
   "source": [
    "from sqlalchemy.orm import sessionmaker\n",
    "Session = sessionmaker(bind=conn)\n",
    "session = Session()"
   ]
  },
  {
   "cell_type": "markdown",
   "metadata": {},
   "source": [
    "Внутри сессии записываем три созданных нами объекта в базу данных. \n",
    "\n",
    "Функция add() добавляет один объект, а функция add_all() добавляет список:"
   ]
  },
  {
   "cell_type": "code",
   "execution_count": null,
   "metadata": {},
   "outputs": [],
   "source": [
    "session.add(first)\n",
    "session.add_all([second, third])"
   ]
  },
  {
   "cell_type": "markdown",
   "metadata": {},
   "source": [
    "Наконец, нам нужно завершить сессию:"
   ]
  },
  {
   "cell_type": "code",
   "execution_count": null,
   "metadata": {},
   "outputs": [],
   "source": [
    "session.commit()"
   ]
  },
  {
   "cell_type": "markdown",
   "metadata": {},
   "source": [
    "Сработало? Файл zoo.db был создан в текущем каталоге. \n",
    "\n",
    "Вы можете использовать программу командной строки sqlite3, чтобы убедиться в этом:"
   ]
  },
  {
   "cell_type": "markdown",
   "metadata": {},
   "source": [
    "$ sqlite3 zoo.db"
   ]
  },
  {
   "cell_type": "markdown",
   "metadata": {},
   "source": [
    "SQLite version 3.6.12\n",
    "Enter \".help\" for instructions\n",
    "Enter SQL statements terminated with a \";\"\n",
    "sqlite> .tables\n",
    "zoo\n",
    "sqlite> select * from zoo;\n",
    "duck|10|0.0\n",
    "bear|2|1000.0\n",
    "weasel|1|2000.0"
   ]
  },
  {
   "cell_type": "markdown",
   "metadata": {},
   "source": [
    "Цель этого раздела заключается в том, чтобы показать, что такое ORM и как он работает на высоком уровне. \n",
    "\n",
    "Автор SQLAlchemy написал полное руководство к нему (http://bit.ly/obj-rel-tutorial). \n",
    "\n",
    "После прочтения этого раздела определитесь, какой из следующих уровней лучше подходит для ваших нужд:\n",
    "\n",
    " простой DB-API, показанный ранее в подразделе «SQLite»;\n",
    "\n",
    " движок SQLAlchemy;\n",
    "\n",
    " язык выражений SQLAlchemy;\n",
    "\n",
    " SQLAlchemy ORM.\n",
    "\n",
    "Естественным выбором выглядит применение ORM, что позволит избежать всех сложностей SQL. \n",
    "\n",
    "Стоит ли им пользоваться? \n",
    "\n",
    "Некоторые люди считают, что\n",
    "ORM следует избегать (http://bit.ly/obj-rel-map), а другие полагают, что его критикуют незаслуженно (http://bit.ly/fowler-orm). \n",
    "\n",
    "Независимо от того, кто прав, ORM — это абстракция, а все абстракции в какой-то момент разрушаются — они допускают\n",
    "утечки памяти. \n",
    "\n",
    "Если ORM не делает того, что вам нужно, вы должны понять, как он работает, а затем разобраться, как исправить это с помощью SQL. \n",
    "\n",
    "Перефразируя интернет-мем, некоторые люди, столкнувшись с проблемой, думают: «Точно, использую ORM». \n",
    "\n",
    "Теперь у них две проблемы. \n",
    "\n",
    "Старайтесь использовать ORM реже и, как правило, для простых приложений. \n",
    "\n",
    "Но если приложение кажется простым, то вам, возможно, стоит использовать простой SQL (или язык выражений SQL).\n",
    "\n",
    "Или же вы можете попробовать еще более простой способ — dataset (https://dataset.readthedocs.org/). \n",
    "\n",
    "Он создан на основе SQLAlchemy и предоставляет простой\n",
    "ORM для хранилищ SQL, JSON и CSV."
   ]
  },
  {
   "cell_type": "markdown",
   "metadata": {},
   "source": [
    "### Хранилища данных NoSQL"
   ]
  },
  {
   "cell_type": "markdown",
   "metadata": {},
   "source": [
    "Некоторые базы данных не являются реляционными и не поддерживают SQL.\n",
    "\n",
    "Они были созданы для работы с очень крупными наборами данных, позволяют более гибко определять данные и поддерживают пользовательские операции с данными. \n",
    "\n",
    "Такие базы данных называют NoSQL (раньше это означало «не SQL», теперь же расшифровка звучит как «не только SQL»)."
   ]
  },
  {
   "cell_type": "markdown",
   "metadata": {},
   "source": [
    "### Семейство dbm"
   ]
  },
  {
   "cell_type": "markdown",
   "metadata": {},
   "source": [
    "Форматы dbm существовали задолго до того, как появился NoSQL. \n",
    "\n",
    "Они представляют собой хранилища, работающие по принципу «ключ — значение», их часто встраивают в приложения вроде браузеров, чтобы поддерживать различные настройки. \n",
    "\n",
    "База данных dbm очень похожа на обычный словарь.\n",
    "\n",
    " Вы присваиваете значение ключу, и оно автоматически сохраняется в базе данных на диске.\n",
    "\n",
    " Вы можете получить значение с помощью ключа.\n",
    "\n",
    "Рассмотрим простой пример. Второй аргумент следующего метода open() может принимать значения 'r' для чтения, 'w' для записи и 'c' для того и другого, создавая файл, если его не существует:"
   ]
  },
  {
   "cell_type": "code",
   "execution_count": null,
   "metadata": {},
   "outputs": [],
   "source": [
    "import dbm\n",
    "db = dbm.open('definitions', 'c')\n"
   ]
  },
  {
   "cell_type": "markdown",
   "metadata": {},
   "source": [
    "Для того чтобы создать пары «ключ — значение», просто присвойте значение ключу, как если бы вы работали со словарем:"
   ]
  },
  {
   "cell_type": "code",
   "execution_count": null,
   "metadata": {},
   "outputs": [],
   "source": [
    "db['mustard'] = 'yellow'\n",
    "db['ketchup'] = 'red'\n",
    "db['pesto'] = 'green'\n"
   ]
  },
  {
   "cell_type": "markdown",
   "metadata": {},
   "source": [
    "Приостановимся и посмотрим, что мы уже имеем:"
   ]
  },
  {
   "cell_type": "code",
   "execution_count": null,
   "metadata": {},
   "outputs": [],
   "source": [
    "len(db)"
   ]
  },
  {
   "cell_type": "code",
   "execution_count": null,
   "metadata": {},
   "outputs": [],
   "source": [
    "db['pesto']"
   ]
  },
  {
   "cell_type": "markdown",
   "metadata": {},
   "source": [
    "Теперь закроем файл и откроем его снова, чтобы убедиться, что наши данные действительно были сохранены:"
   ]
  },
  {
   "cell_type": "code",
   "execution_count": null,
   "metadata": {},
   "outputs": [],
   "source": [
    "db.close()\n",
    "db = dbm.open('definitions', 'r')\n",
    "db['mustard']"
   ]
  },
  {
   "cell_type": "markdown",
   "metadata": {},
   "source": [
    "Ключи и значения сохраняются как байты. Вы не можете итерировать по объектам базы данных db, но можете получить количество ключей с помощью функции len(). \n",
    "\n",
    "Обратите внимание на то, что функции get() и setdefault() работают точно так же, как и для словарей."
   ]
  },
  {
   "cell_type": "markdown",
   "metadata": {},
   "source": [
    "## Memcached"
   ]
  },
  {
   "cell_type": "markdown",
   "metadata": {},
   "source": [
    "memcached (http://memcached.org/) — это быстрый сервер кэширования, располагающийся в памяти и работающий по принципу «ключ — значение». \n",
    "\n",
    "Его часто размещают перед базой данных, также он может использоваться для хранения данных сессии веб-сервера. \n",
    "\n",
    "Вы можете загрузить версии для Linux, OSX (http://bit.ly/install-osx)\n",
    "и Windows (http://bit.ly/memcache-win). \n",
    "\n",
    "Если вы хотите попробовать запустить примеры, показанные в этом разделе, вам понадобятся сервер memcached и драйвер Python.\n",
    "\n",
    "Существует множество драйверов Python, тот, что работает с Python 3, называется python3-memcached (https://github.com/eguven/python3-memcached), вы можете\n",
    "установить его с помощью этой команды:\n"
   ]
  },
  {
   "cell_type": "code",
   "execution_count": null,
   "metadata": {},
   "outputs": [],
   "source": [
    "$ pip install python-memcached"
   ]
  },
  {
   "cell_type": "markdown",
   "metadata": {},
   "source": [
    "Для того чтобы использовать его, подключитесь к серверу memcached, после чего можете:\n",
    "\n",
    " устанавливать и получать значения ключей;\n",
    "\n",
    " увеличивать и уменьшать значения;\n",
    "\n",
    " удалять ключи.\n",
    "\n",
    "Данные, хранимые в базе, неустойчивы, они могут исчезнуть.\n",
    "\n",
    "Это происходит из-за того, что memcached является сервером кэша. \n",
    "\n",
    "Он избегает ситуаций, когда у него заканчивается память, стирая старые данные.\n",
    "\n",
    "Вы можете подключиться к нескольким серверам memcached одновременно.\n",
    "\n",
    "В следующем примере мы беседуем с одним и тем же компьютером:\n"
   ]
  },
  {
   "cell_type": "code",
   "execution_count": null,
   "metadata": {},
   "outputs": [],
   "source": [
    "import memcache\n",
    "db = memcache.Client(['127.0.0.1:11211'])\n",
    "db.set('marco', 'polo')"
   ]
  },
  {
   "cell_type": "code",
   "execution_count": null,
   "metadata": {},
   "outputs": [],
   "source": [
    "db.get('marco')"
   ]
  },
  {
   "cell_type": "code",
   "execution_count": null,
   "metadata": {},
   "outputs": [],
   "source": [
    "db.set('ducks', 0)"
   ]
  },
  {
   "cell_type": "code",
   "execution_count": null,
   "metadata": {},
   "outputs": [],
   "source": [
    "db.get('ducks')"
   ]
  },
  {
   "cell_type": "code",
   "execution_count": null,
   "metadata": {},
   "outputs": [],
   "source": [
    "db.incr('ducks', 2)\n"
   ]
  },
  {
   "cell_type": "code",
   "execution_count": null,
   "metadata": {},
   "outputs": [],
   "source": [
    "db.get('ducks')"
   ]
  },
  {
   "cell_type": "markdown",
   "metadata": {},
   "source": [
    "### Redis"
   ]
  },
  {
   "cell_type": "markdown",
   "metadata": {},
   "source": [
    "Redis — это сервер структур данных. \n",
    "\n",
    "Как и в случае с memcached, все данные сервера Redis должны поместиться в память (хотя у нас имеется возможность сохранить все данные на диск). \n",
    "\n",
    "В отличие от memcached Redis может делать следующее:\n",
    "\n",
    " сохранять данные на диск для надежности в случае перезагрузки;\n",
    "\n",
    " хранить старые данные;\n",
    "\n",
    " предоставлять более сложные структуры данных, нежели строки.\n",
    "\n",
    "Типы данных, используемые Redis, похожи на типы данных, используемые в Python, и сервер Redis может быть применен в качестве промежуточного решения для того, чтобы одно или несколько приложений делились данными друг с другом.\n",
    "\n",
    "Я нахожу это настолько полезным, что посвящу этому небольшой фрагмент этой книги.\n",
    "\n",
    "Исходный код драйвера Python redis-py и тесты находятся на GitHub \n",
    "(https://github.com/andymccurdy/redis-py), \n",
    "\n",
    "вы также можете найти документацию по нему\n",
    "(http://bit.ly/redis-py-docs). \n",
    "\n",
    "Можно установить этот драйвер с помощью следующей\n",
    "команды:"
   ]
  },
  {
   "cell_type": "code",
   "execution_count": null,
   "metadata": {},
   "outputs": [],
   "source": [
    "$ pip install redis"
   ]
  },
  {
   "cell_type": "markdown",
   "metadata": {},
   "source": [
    "Сам по себе сервер Redis (http://redis.io/) хорошо задокументирован. \n",
    "\n",
    "Если вы установите и запустите его на своем локальном компьютере, который имеет сетевое имя localhost, можете попробовать запустить программы из следующих разделов."
   ]
  },
  {
   "cell_type": "markdown",
   "metadata": {},
   "source": [
    "### Строки"
   ]
  },
  {
   "cell_type": "markdown",
   "metadata": {},
   "source": [
    "Ключ, имеющий одно значение, является строкой Redis. \n",
    "\n",
    "Простые типы данных Python автоматически преобразовываются. \n",
    "\n",
    "Подключимся к серверу Redis, расположенному на некотором хосте (по умолчанию localhost) и порте (по умолчанию 6379):"
   ]
  },
  {
   "cell_type": "code",
   "execution_count": null,
   "metadata": {},
   "outputs": [],
   "source": [
    "import redis\n",
    "conn = redis.Redis()"
   ]
  },
  {
   "cell_type": "markdown",
   "metadata": {},
   "source": [
    "Строки redis.Redis('localhost') или redis.Redis('localhost', 6379) дадут тот же\n",
    "результат.\n",
    "\n",
    "Перечислим все ключи (которых пока нет):"
   ]
  },
  {
   "cell_type": "code",
   "execution_count": null,
   "metadata": {},
   "outputs": [],
   "source": [
    "conn.keys('*')"
   ]
  },
  {
   "cell_type": "markdown",
   "metadata": {},
   "source": [
    "Создадим простую строку (с ключом 'secret'), целое число (с ключом 'carats') и число с плавающей точкой (с ключом 'fever'):"
   ]
  },
  {
   "cell_type": "code",
   "execution_count": null,
   "metadata": {},
   "outputs": [],
   "source": [
    "conn.set('secret', 'ni!')"
   ]
  },
  {
   "cell_type": "code",
   "execution_count": null,
   "metadata": {},
   "outputs": [],
   "source": [
    " conn.set('carats', 24)"
   ]
  },
  {
   "cell_type": "code",
   "execution_count": null,
   "metadata": {},
   "outputs": [],
   "source": [
    "conn.set('fever', '101.5')"
   ]
  },
  {
   "cell_type": "markdown",
   "metadata": {},
   "source": [
    "Получим значения согласно заданным ключам:"
   ]
  },
  {
   "cell_type": "code",
   "execution_count": null,
   "metadata": {},
   "outputs": [],
   "source": [
    "conn.get('secret')"
   ]
  },
  {
   "cell_type": "code",
   "execution_count": null,
   "metadata": {},
   "outputs": [],
   "source": [
    "conn.get('carats')"
   ]
  },
  {
   "cell_type": "code",
   "execution_count": null,
   "metadata": {},
   "outputs": [],
   "source": [
    "conn.get('fever')"
   ]
  },
  {
   "cell_type": "markdown",
   "metadata": {},
   "source": [
    "Метод setnx() устанавливает значение, но только если ключа не существует:"
   ]
  },
  {
   "cell_type": "code",
   "execution_count": null,
   "metadata": {},
   "outputs": [],
   "source": [
    "conn.setnx('secret', 'icky-icky-icky-ptang-zoop-boing!')"
   ]
  },
  {
   "cell_type": "markdown",
   "metadata": {},
   "source": [
    "Метод не сработал, поскольку мы уже определили ключ 'secret':"
   ]
  },
  {
   "cell_type": "code",
   "execution_count": null,
   "metadata": {},
   "outputs": [],
   "source": [
    "conn.get('secret')"
   ]
  },
  {
   "cell_type": "markdown",
   "metadata": {},
   "source": [
    "Метод getset() возвращает старое значение и одновременно устанавливает новое:"
   ]
  },
  {
   "cell_type": "code",
   "execution_count": null,
   "metadata": {},
   "outputs": [],
   "source": [
    "conn.getset('secret', 'icky-icky-icky-ptang-zoop-boing!')"
   ]
  },
  {
   "cell_type": "markdown",
   "metadata": {},
   "source": [
    "Не будем сильно забегать вперед. Это сработало?"
   ]
  },
  {
   "cell_type": "code",
   "execution_count": null,
   "metadata": {},
   "outputs": [],
   "source": [
    "conn.get('secret')"
   ]
  },
  {
   "cell_type": "markdown",
   "metadata": {},
   "source": [
    "Теперь мы получим подстроку с помощью метода getrange() (как и в Python, смещение обозначается как 0 для начала списка и -1 для конца):"
   ]
  },
  {
   "cell_type": "code",
   "execution_count": null,
   "metadata": {},
   "outputs": [],
   "source": [
    "conn.getrange('secret', -6, -1)"
   ]
  },
  {
   "cell_type": "markdown",
   "metadata": {},
   "source": [
    "Заменим подстроку с помощью метода setrange() (используя смещение, которое начинается с нуля):"
   ]
  },
  {
   "cell_type": "code",
   "execution_count": null,
   "metadata": {},
   "outputs": [],
   "source": [
    "conn.setrange('secret', 0, 'ICKY')"
   ]
  },
  {
   "cell_type": "code",
   "execution_count": null,
   "metadata": {},
   "outputs": [],
   "source": [
    "conn.get('secret')"
   ]
  },
  {
   "cell_type": "markdown",
   "metadata": {},
   "source": [
    "Далее установим значения сразу нескольких ключей с помощью метода mset():"
   ]
  },
  {
   "cell_type": "code",
   "execution_count": null,
   "metadata": {},
   "outputs": [],
   "source": [
    "conn.mset({'pie': 'cherry', 'cordial': 'sherry'})"
   ]
  },
  {
   "cell_type": "markdown",
   "metadata": {},
   "source": [
    "Получим более одного значения с помощью метода mget():"
   ]
  },
  {
   "cell_type": "code",
   "execution_count": null,
   "metadata": {},
   "outputs": [],
   "source": [
    "conn.mget(['fever', 'carats'])"
   ]
  },
  {
   "cell_type": "markdown",
   "metadata": {},
   "source": [
    "Удалим ключ с помощью метода delete():"
   ]
  },
  {
   "cell_type": "code",
   "execution_count": null,
   "metadata": {},
   "outputs": [],
   "source": [
    "conn.delete('fever')"
   ]
  },
  {
   "cell_type": "markdown",
   "metadata": {},
   "source": [
    "Выполним инкремент с помощью команд incr() и incrbyfloat() и декремент с помощью команды decr():"
   ]
  },
  {
   "cell_type": "code",
   "execution_count": null,
   "metadata": {},
   "outputs": [],
   "source": [
    "conn.incr('carats')"
   ]
  },
  {
   "cell_type": "code",
   "execution_count": null,
   "metadata": {},
   "outputs": [],
   "source": [
    "conn.incr('carats', 10)"
   ]
  },
  {
   "cell_type": "code",
   "execution_count": null,
   "metadata": {},
   "outputs": [],
   "source": [
    "conn.decr('carats')"
   ]
  },
  {
   "cell_type": "code",
   "execution_count": null,
   "metadata": {},
   "outputs": [],
   "source": [
    " conn.decr('carats', 15)"
   ]
  },
  {
   "cell_type": "code",
   "execution_count": null,
   "metadata": {},
   "outputs": [],
   "source": [
    "conn.set('fever', '101.5')"
   ]
  },
  {
   "cell_type": "code",
   "execution_count": null,
   "metadata": {},
   "outputs": [],
   "source": [
    "conn.incrbyfloat('fever')"
   ]
  },
  {
   "cell_type": "code",
   "execution_count": null,
   "metadata": {},
   "outputs": [],
   "source": [
    "conn.incrbyfloat('fever', 0.5)"
   ]
  },
  {
   "cell_type": "markdown",
   "metadata": {},
   "source": [
    "Команды decrbyfloat() не существует. \n",
    "\n",
    "Используйте отрицательный инкремент, чтобы уменьшить значение ключа fever:"
   ]
  },
  {
   "cell_type": "code",
   "execution_count": null,
   "metadata": {},
   "outputs": [],
   "source": [
    "conn.incrbyfloat('fever', -2.0)"
   ]
  },
  {
   "cell_type": "markdown",
   "metadata": {},
   "source": [
    "### Списки"
   ]
  },
  {
   "cell_type": "markdown",
   "metadata": {},
   "source": [
    "Списки Redis могут содержать только строки. \n",
    "\n",
    "Список создается, когда вы добавляете первые данные.\n",
    "\n",
    "Добавим данные в начало списка с помощью метода lpush():"
   ]
  },
  {
   "cell_type": "code",
   "execution_count": null,
   "metadata": {},
   "outputs": [],
   "source": [
    "conn.lpush('zoo', 'bear')\n"
   ]
  },
  {
   "cell_type": "markdown",
   "metadata": {},
   "source": [
    "Добавим в начало списка более одного элемента:"
   ]
  },
  {
   "cell_type": "code",
   "execution_count": null,
   "metadata": {},
   "outputs": [],
   "source": [
    "conn.lpush('zoo', 'alligator', 'duck')"
   ]
  },
  {
   "cell_type": "markdown",
   "metadata": {},
   "source": [
    "Добавим один элемент до или после другого с помощью метода linsert()"
   ]
  },
  {
   "cell_type": "code",
   "execution_count": null,
   "metadata": {},
   "outputs": [],
   "source": [
    "conn.linsert('zoo', 'before', 'bear', 'beaver')"
   ]
  },
  {
   "cell_type": "code",
   "execution_count": null,
   "metadata": {},
   "outputs": [],
   "source": [
    "conn.linsert('zoo', 'after', 'bear', 'cassowary')"
   ]
  },
  {
   "cell_type": "markdown",
   "metadata": {},
   "source": [
    "Добавим элемент, указав смещение для него, с помощью метода lset() (список уже должен существовать):"
   ]
  },
  {
   "cell_type": "code",
   "execution_count": null,
   "metadata": {},
   "outputs": [],
   "source": [
    "conn.lset('zoo', 2, 'marmoset')"
   ]
  },
  {
   "cell_type": "markdown",
   "metadata": {},
   "source": [
    "Добавим элемент в конец с помощью метода rpush():"
   ]
  },
  {
   "cell_type": "code",
   "execution_count": null,
   "metadata": {},
   "outputs": [],
   "source": [
    "conn.rpush('zoo', 'yak')"
   ]
  },
  {
   "cell_type": "markdown",
   "metadata": {},
   "source": [
    "Получим элемент по заданному смещению с помощью метода lindex():"
   ]
  },
  {
   "cell_type": "code",
   "execution_count": null,
   "metadata": {},
   "outputs": [],
   "source": [
    "conn.lindex('zoo', 3)"
   ]
  },
  {
   "cell_type": "markdown",
   "metadata": {},
   "source": [
    "Получим все элементы, находящиеся в диапазоне смещений, с помощью метода lrange() (можно использовать любой индекс от 0 до –1):"
   ]
  },
  {
   "cell_type": "code",
   "execution_count": null,
   "metadata": {},
   "outputs": [],
   "source": [
    "conn.lrange('zoo', 0, 2)"
   ]
  },
  {
   "cell_type": "markdown",
   "metadata": {},
   "source": [
    "Обрежем список с помощью метода ltrim(), сохранив только элементы в заданном диапазоне:"
   ]
  },
  {
   "cell_type": "code",
   "execution_count": null,
   "metadata": {},
   "outputs": [],
   "source": [
    "conn.ltrim('zoo', 1, 4)"
   ]
  },
  {
   "cell_type": "markdown",
   "metadata": {},
   "source": [
    "Получим диапазон значений (можно использовать любой индекс от 0 до –1) с помощью метода lrange():"
   ]
  },
  {
   "cell_type": "code",
   "execution_count": null,
   "metadata": {},
   "outputs": [],
   "source": [
    "conn.lrange('zoo', 0, -1)"
   ]
  },
  {
   "cell_type": "markdown",
   "metadata": {},
   "source": [
    "В главе 10 будет показано, как использовать списки Redis и механизм публикации-подписки, чтобы реализовать очереди задач."
   ]
  },
  {
   "cell_type": "markdown",
   "metadata": {},
   "source": [
    "### Хеши"
   ]
  },
  {
   "cell_type": "markdown",
   "metadata": {},
   "source": [
    "Хеши Redis похожи на словари в Python, но они могут содержать только строки.\n",
    "\n",
    "Поэтому вы можете создать только одномерный словарь. \n",
    "\n",
    "Рассмотрим примеры, в которых создается и изменяется хеш с именем song.\n",
    "\n",
    "Установим в хеше song значения полей do и re одновременно с помощью метода hmset():"
   ]
  },
  {
   "cell_type": "code",
   "execution_count": null,
   "metadata": {},
   "outputs": [],
   "source": [
    "conn.hmset('song', {'do': 'a deer', 're': 'about a deer'})"
   ]
  },
  {
   "cell_type": "markdown",
   "metadata": {},
   "source": [
    "Установим значение одного поля хеша с помощью метода hset():"
   ]
  },
  {
   "cell_type": "code",
   "execution_count": null,
   "metadata": {},
   "outputs": [],
   "source": [
    "conn.hset('song', 'mi', 'a note to follow re')"
   ]
  },
  {
   "cell_type": "markdown",
   "metadata": {},
   "source": [
    "Получим значение одного поля с помощью метода hget():"
   ]
  },
  {
   "cell_type": "code",
   "execution_count": null,
   "metadata": {},
   "outputs": [],
   "source": [
    " conn.hget('song', 'mi')"
   ]
  },
  {
   "cell_type": "markdown",
   "metadata": {},
   "source": [
    "Получим значение нескольких полей с помощью метода hmget():"
   ]
  },
  {
   "cell_type": "code",
   "execution_count": null,
   "metadata": {},
   "outputs": [],
   "source": [
    "conn.hmget('song', 're', 'do')"
   ]
  },
  {
   "cell_type": "markdown",
   "metadata": {},
   "source": [
    "Получим ключи всех полей хеша с помощью метода hkeys():"
   ]
  },
  {
   "cell_type": "code",
   "execution_count": null,
   "metadata": {},
   "outputs": [],
   "source": [
    "conn.hkeys('song')"
   ]
  },
  {
   "cell_type": "markdown",
   "metadata": {},
   "source": [
    "Получим значения всех полей хеша с помощью метода hvals():"
   ]
  },
  {
   "cell_type": "code",
   "execution_count": null,
   "metadata": {},
   "outputs": [],
   "source": [
    "conn.hvals('song')"
   ]
  },
  {
   "cell_type": "markdown",
   "metadata": {},
   "source": [
    "Получим количество полей хеша с помощью функции hlen():"
   ]
  },
  {
   "cell_type": "code",
   "execution_count": null,
   "metadata": {},
   "outputs": [],
   "source": [
    "conn.hlen('song')"
   ]
  },
  {
   "cell_type": "markdown",
   "metadata": {},
   "source": [
    "Получим ключи и значения всех полей хеша с помощью метода hgetall():"
   ]
  },
  {
   "cell_type": "code",
   "execution_count": null,
   "metadata": {},
   "outputs": [],
   "source": [
    "conn.hgetall('song')"
   ]
  },
  {
   "cell_type": "markdown",
   "metadata": {},
   "source": [
    "Создадим поле, если его ключ не существует, с помощью метода hsetnx():"
   ]
  },
  {
   "cell_type": "code",
   "execution_count": null,
   "metadata": {},
   "outputs": [],
   "source": [
    "conn.hsetnx('song', 'fa', 'a note that rhymes with la')\n"
   ]
  },
  {
   "cell_type": "markdown",
   "metadata": {},
   "source": [
    "### Множества"
   ]
  },
  {
   "cell_type": "markdown",
   "metadata": {},
   "source": [
    "Множества Redis похожи на множества Python, как вы можете увидеть в следующих примерах.\n",
    "\n",
    "Добавим одно или несколько значений множества:"
   ]
  },
  {
   "cell_type": "code",
   "execution_count": null,
   "metadata": {},
   "outputs": [],
   "source": [
    "conn.sadd('zoo', 'duck', 'goat', 'turkey')"
   ]
  },
  {
   "cell_type": "markdown",
   "metadata": {},
   "source": [
    "Получим количество значений множества:"
   ]
  },
  {
   "cell_type": "code",
   "execution_count": null,
   "metadata": {},
   "outputs": [],
   "source": [
    "conn.scard('zoo')"
   ]
  },
  {
   "cell_type": "markdown",
   "metadata": {},
   "source": [
    "Получим все значения множества:"
   ]
  },
  {
   "cell_type": "code",
   "execution_count": null,
   "metadata": {},
   "outputs": [],
   "source": [
    "conn.smembers('zoo')"
   ]
  },
  {
   "cell_type": "markdown",
   "metadata": {},
   "source": [
    "Удалим значение из множества:"
   ]
  },
  {
   "cell_type": "code",
   "execution_count": null,
   "metadata": {},
   "outputs": [],
   "source": [
    "conn.srem('zoo', 'turkey')"
   ]
  },
  {
   "cell_type": "markdown",
   "metadata": {},
   "source": [
    "Создадим второе множество, чтобы продемонстрировать некоторые операции:"
   ]
  },
  {
   "cell_type": "code",
   "execution_count": null,
   "metadata": {},
   "outputs": [],
   "source": [
    "conn.sadd('better_zoo', 'tiger', 'wolf', 'duck')"
   ]
  },
  {
   "cell_type": "markdown",
   "metadata": {},
   "source": [
    "Пересечение множеств (получение общих членов) zoo и better_zoo:"
   ]
  },
  {
   "cell_type": "code",
   "execution_count": null,
   "metadata": {},
   "outputs": [],
   "source": [
    "conn.sinter('zoo', 'better_zoo')"
   ]
  },
  {
   "cell_type": "markdown",
   "metadata": {},
   "source": [
    "Выполним пересечение множеств zoo и better_zoo и сохраним результат в множестве fowl_zoo:"
   ]
  },
  {
   "cell_type": "code",
   "execution_count": null,
   "metadata": {},
   "outputs": [],
   "source": [
    "conn.sinterstore('fowl_zoo', 'zoo', 'better_zoo')"
   ]
  },
  {
   "cell_type": "markdown",
   "metadata": {},
   "source": [
    "Есть кто живой?"
   ]
  },
  {
   "cell_type": "code",
   "execution_count": null,
   "metadata": {},
   "outputs": [],
   "source": [
    "conn.smembers('fowl_zoo')"
   ]
  },
  {
   "cell_type": "markdown",
   "metadata": {},
   "source": [
    "Выполним объединение (всех членов) множеств zoo и better_zoo:"
   ]
  },
  {
   "cell_type": "code",
   "execution_count": null,
   "metadata": {},
   "outputs": [],
   "source": [
    "conn.sunion('zoo', 'better_zoo')"
   ]
  },
  {
   "cell_type": "markdown",
   "metadata": {},
   "source": [
    "Сохраним результат этого пересечения в множестве fabulous_zoo:"
   ]
  },
  {
   "cell_type": "code",
   "execution_count": null,
   "metadata": {},
   "outputs": [],
   "source": [
    "conn.sunionstore('fabulous_zoo', 'zoo', 'better_zoo')"
   ]
  },
  {
   "cell_type": "code",
   "execution_count": null,
   "metadata": {},
   "outputs": [],
   "source": [
    "conn.smembers('fabulous_zoo')"
   ]
  },
  {
   "cell_type": "markdown",
   "metadata": {},
   "source": [
    "Какие элементы присутствуют в множестве zoo и отсутствуют в множестве better_zoo? \n",
    "\n",
    "Используйте метод sdiff(), чтобы получить разность множеств, иметод sdiffstore(), чтобы сохранить ее в множестве zoo_sale:"
   ]
  },
  {
   "cell_type": "code",
   "execution_count": null,
   "metadata": {},
   "outputs": [],
   "source": [
    "conn.sdiff('zoo', 'better_zoo')"
   ]
  },
  {
   "cell_type": "code",
   "execution_count": null,
   "metadata": {},
   "outputs": [],
   "source": [
    "conn.sdiffstore('zoo_sale', 'zoo', 'better_zoo')"
   ]
  },
  {
   "cell_type": "code",
   "execution_count": null,
   "metadata": {},
   "outputs": [],
   "source": [
    "conn.smembers('zoo_sale')"
   ]
  },
  {
   "cell_type": "markdown",
   "metadata": {},
   "source": [
    "### Упорядоченные множества"
   ]
  },
  {
   "cell_type": "markdown",
   "metadata": {},
   "source": [
    "Один из самых гибких типов данных Redis — это упорядоченные множества, или zset.\n",
    "\n",
    "Они представляют собой набор уникальных значений, но каждое значение связано с дробным счетчиком. \n",
    "\n",
    "Вы можете получить доступ к каждому элементу с помощью\n",
    "его значения или счетчика. \n",
    "\n",
    "Упорядоченные множества применяются в качестве:\n",
    "\n",
    " списков лидеров;\n",
    "\n",
    " вторичных индексов;\n",
    "\n",
    " временных рядов, где отметки времени используются как счетчик.\n",
    "\n",
    "Мы рассмотрим последний вариант применения, отслеживая логины пользователей с помощью временных меток. \n",
    "\n",
    "Мы будем использовать значение времени epoch (подробнее об этом — в главе 10), которое возвращает функция time():"
   ]
  },
  {
   "cell_type": "code",
   "execution_count": null,
   "metadata": {},
   "outputs": [],
   "source": [
    "import time\n",
    "now = time.time()\n",
    "now"
   ]
  },
  {
   "cell_type": "markdown",
   "metadata": {},
   "source": [
    "Добавим первого гостя (он немного нервничает):"
   ]
  },
  {
   "cell_type": "code",
   "execution_count": null,
   "metadata": {},
   "outputs": [],
   "source": [
    "conn.zadd('logins', 'smeagol', now)"
   ]
  },
  {
   "cell_type": "markdown",
   "metadata": {},
   "source": [
    "Пять минут спустя добавим второго гостя:"
   ]
  },
  {
   "cell_type": "code",
   "execution_count": null,
   "metadata": {},
   "outputs": [],
   "source": [
    "conn.zadd('logins', 'sauron', now+(5*60))"
   ]
  },
  {
   "cell_type": "markdown",
   "metadata": {},
   "source": [
    "Через два часа:"
   ]
  },
  {
   "cell_type": "code",
   "execution_count": null,
   "metadata": {},
   "outputs": [],
   "source": [
    "conn.zadd('logins', 'bilbo', now+(2*60*60))"
   ]
  },
  {
   "cell_type": "code",
   "execution_count": null,
   "metadata": {},
   "outputs": [],
   "source": [
    "Еще один гость не торопился и пришел спустя сутки:"
   ]
  },
  {
   "cell_type": "code",
   "execution_count": null,
   "metadata": {},
   "outputs": [],
   "source": [
    "conn.zadd('logins', 'treebeard', now+(24*60*60))"
   ]
  },
  {
   "cell_type": "markdown",
   "metadata": {},
   "source": [
    "Каким по счету пришел bilbo?"
   ]
  },
  {
   "cell_type": "code",
   "execution_count": null,
   "metadata": {},
   "outputs": [],
   "source": [
    "conn.zrank('logins', 'bilbo')"
   ]
  },
  {
   "cell_type": "markdown",
   "metadata": {},
   "source": [
    "Когда это было?"
   ]
  },
  {
   "cell_type": "code",
   "execution_count": null,
   "metadata": {},
   "outputs": [],
   "source": [
    "conn.zscore('logins', 'bilbo')"
   ]
  },
  {
   "cell_type": "markdown",
   "metadata": {},
   "source": [
    "Посмотрим, каким по счету пришел каждый гость:"
   ]
  },
  {
   "cell_type": "code",
   "execution_count": null,
   "metadata": {},
   "outputs": [],
   "source": [
    "conn.zrange('logins', 0, -1)"
   ]
  },
  {
   "cell_type": "markdown",
   "metadata": {},
   "source": [
    "И когда:"
   ]
  },
  {
   "cell_type": "code",
   "execution_count": null,
   "metadata": {},
   "outputs": [],
   "source": [
    "conn.zrange('logins', 0, -1, withscores=True)"
   ]
  },
  {
   "cell_type": "markdown",
   "metadata": {},
   "source": [
    "### Биты"
   ]
  },
  {
   "cell_type": "markdown",
   "metadata": {},
   "source": [
    "Биты — это очень эффективный (с точки зрения занимаемого места) и быстрый способ обработать большое множество чисел. \n",
    "\n",
    "Предположим, у вас есть сайт, на котором регистрируются пользователи. \n",
    "\n",
    "Вы хотите отслеживать, как часто люди авторизуются, сколько пользователей посещает сайт в конкретный день, как часто один и тот же пользователь посещает сайт в следующие дни и т. д.\n",
    "\n",
    "Вы могли бы использовать множества Redis, но если вы присваиваете пользователям увеличивающиеся числовые ID, биты помогут вам быстрее и компактнее решить эту задачу.\n",
    "\n",
    "Начнем с создания последовательности битов для каждого дня. Для этой проверки мы используем всего три дня и несколько ID:"
   ]
  },
  {
   "cell_type": "code",
   "execution_count": null,
   "metadata": {},
   "outputs": [],
   "source": [
    "days = ['2013-02-25', '2013-02-26', '2013-02-27']\n",
    "big_spender = 1089\n",
    "tire_kicker = 40459\n",
    "late_joiner = 550212"
   ]
  },
  {
   "cell_type": "markdown",
   "metadata": {},
   "source": [
    "Каждая дата является отдельным ключом. \n",
    "\n",
    "Установим бит для конкретного пользователя в эту дату. \n",
    "\n",
    "Например, в первую дату (2013-02-25) у нас есть посещения\n",
    "от big_spender (ID 1089) и tire_kicker (ID 40459):"
   ]
  },
  {
   "cell_type": "code",
   "execution_count": null,
   "metadata": {},
   "outputs": [],
   "source": [
    "conn.setbit(days[0], big_spender, 1)"
   ]
  },
  {
   "cell_type": "code",
   "execution_count": null,
   "metadata": {},
   "outputs": [],
   "source": [
    "conn.setbit(days[0], tire_kicker, 1)"
   ]
  },
  {
   "cell_type": "markdown",
   "metadata": {},
   "source": [
    "На следующий день big_spender вернулся:"
   ]
  },
  {
   "cell_type": "code",
   "execution_count": null,
   "metadata": {},
   "outputs": [],
   "source": [
    "conn.setbit(days[1], big_spender, 1)"
   ]
  },
  {
   "cell_type": "markdown",
   "metadata": {},
   "source": [
    "На следующий день у нас снова появился наш друг big_spender, а также новый человек, которого мы назвали late_joiner:\n"
   ]
  },
  {
   "cell_type": "code",
   "execution_count": null,
   "metadata": {},
   "outputs": [],
   "source": [
    "conn.setbit(days[2], big_spender, 1)"
   ]
  },
  {
   "cell_type": "code",
   "execution_count": null,
   "metadata": {},
   "outputs": [],
   "source": [
    "conn.setbit(days[2], late_joiner, 1)"
   ]
  },
  {
   "cell_type": "code",
   "execution_count": null,
   "metadata": {},
   "outputs": [],
   "source": [
    "Получим счетчик ежедневных посещений за эти три дня:"
   ]
  },
  {
   "cell_type": "code",
   "execution_count": null,
   "metadata": {},
   "outputs": [],
   "source": [
    "for day in days:\n",
    "    conn.bitcount(day)"
   ]
  },
  {
   "cell_type": "markdown",
   "metadata": {},
   "source": [
    "Посещал ли сайт заданный пользователь в указанный день?"
   ]
  },
  {
   "cell_type": "code",
   "execution_count": null,
   "metadata": {},
   "outputs": [],
   "source": [
    "conn.getbit(days[1], tire_kicker)"
   ]
  },
  {
   "cell_type": "markdown",
   "metadata": {},
   "source": [
    "Значит, tire_kicker не посещал сайт во второй день.\n",
    "Сколько пользователей посещает сайт каждый день?"
   ]
  },
  {
   "cell_type": "code",
   "execution_count": null,
   "metadata": {},
   "outputs": [],
   "source": [
    "conn.bitop('and', 'everyday', *days)"
   ]
  },
  {
   "cell_type": "code",
   "execution_count": null,
   "metadata": {},
   "outputs": [],
   "source": [
    "conn.bitcount('everyday')"
   ]
  },
  {
   "cell_type": "markdown",
   "metadata": {},
   "source": [
    "Угадайте с трех попыток, кто это:"
   ]
  },
  {
   "cell_type": "code",
   "execution_count": null,
   "metadata": {},
   "outputs": [],
   "source": [
    "conn.getbit('everyday', big_spender)"
   ]
  },
  {
   "cell_type": "markdown",
   "metadata": {},
   "source": [
    "Наконец, сколько уникальных пользователей посетили сайт за эти три дня?"
   ]
  },
  {
   "cell_type": "code",
   "execution_count": null,
   "metadata": {},
   "outputs": [],
   "source": [
    "conn.bitop('or', 'alldays', *days)"
   ]
  },
  {
   "cell_type": "code",
   "execution_count": null,
   "metadata": {},
   "outputs": [],
   "source": [
    "conn.bitcount('alldays')"
   ]
  },
  {
   "cell_type": "markdown",
   "metadata": {},
   "source": [
    "### Кэши и истечение срока действия"
   ]
  },
  {
   "cell_type": "markdown",
   "metadata": {},
   "source": [
    "У всех ключей Redis есть время жизни, или дата истечения срока действия. \n",
    "\n",
    "По умолчанию этот срок длится вечно. \n",
    "\n",
    "Мы можем использовать функцию expire(), чтобы указать Redis, как долго хранить заданный ключ. \n",
    "\n",
    "Как показано далее, значением является количество секунд:"
   ]
  },
  {
   "cell_type": "code",
   "execution_count": null,
   "metadata": {},
   "outputs": [],
   "source": [
    "import time\n",
    "key = 'now you see it'\n",
    "conn.set(key, 'but not for long')"
   ]
  },
  {
   "cell_type": "code",
   "execution_count": null,
   "metadata": {},
   "outputs": [],
   "source": [
    "conn.expire(key, 5)"
   ]
  },
  {
   "cell_type": "code",
   "execution_count": null,
   "metadata": {},
   "outputs": [],
   "source": [
    "conn.ttl(key)"
   ]
  },
  {
   "cell_type": "code",
   "execution_count": null,
   "metadata": {},
   "outputs": [],
   "source": [
    "conn.get(key)"
   ]
  },
  {
   "cell_type": "code",
   "execution_count": null,
   "metadata": {},
   "outputs": [],
   "source": [
    "time.sleep(6)\n",
    "conn.get(key)"
   ]
  },
  {
   "cell_type": "markdown",
   "metadata": {},
   "source": [
    "Команда expireat() указывает, что действие ключа истекает в заданное время эпохи Unix. \n",
    "\n",
    "Это может оказаться полезным для того, чтобы кэш оставался свежим и чтобы ограничить сессии авторизации."
   ]
  },
  {
   "cell_type": "markdown",
   "metadata": {},
   "source": [
    "### Прочие серверы NoSQL"
   ]
  },
  {
   "cell_type": "markdown",
   "metadata": {},
   "source": [
    "Серверы NoSQL, перечисленные здесь, могут работать с данными, объем которых превышает объем доступной памяти, и многие из них требуют использования нескольких компьютеров. \n",
    "\n",
    "В табл. 8.6 показаны наиболее популярные серверы и их\n",
    "библиотеки Python."
   ]
  },
  {
   "cell_type": "markdown",
   "metadata": {},
   "source": [
    "Базы данных NoSQL\n",
    "\n",
    "Сайт                  Python API\n",
    "\n",
    "Cassandra             pycassa\n",
    "\n",
    "CouchDB               couchdb-python\n",
    "\n",
    "HBase                 happybase\n",
    "\n",
    "Kyoto                 kyotocabinet\n",
    "\n",
    "MongoDB               mongodb\n",
    "\n",
    "Riak                  riak-python-client"
   ]
  },
  {
   "cell_type": "markdown",
   "metadata": {},
   "source": [
    "### Full-Text Databases"
   ]
  },
  {
   "cell_type": "markdown",
   "metadata": {},
   "source": [
    "Наконец, существует особая категория баз данных для полнотекстового поиска.\n",
    "\n",
    "Они индексируют все, поэтому вы легко можете найти то стихотворение, в котором говорится о ветряных мельницах и гигантских головках сыра. \n",
    "\n",
    "Вы можете увидеть популярные примеры таких баз данных с открытым исходным кодом и их Python API в табл. 8.7."
   ]
  },
  {
   "cell_type": "markdown",
   "metadata": {},
   "source": [
    "Полнотекстовые базы данных\n",
    "\n",
    "Сайт              Python API\n",
    "\n",
    "Lucene            pylucene\n",
    "\n",
    "Solr              SolPython\n",
    "\n",
    "ElasticSearch     pyes\n",
    "\n",
    "Sphinx            sphinxapi\n",
    "\n",
    "Xapian            xappy\n",
    "\n",
    "Whoosh            Написан на Python, уже содержит API"
   ]
  }
 ],
 "metadata": {
  "kernelspec": {
   "display_name": "Python 3",
   "language": "python",
   "name": "python3"
  },
  "language_info": {
   "codemirror_mode": {
    "name": "ipython",
    "version": 3
   },
   "file_extension": ".py",
   "mimetype": "text/x-python",
   "name": "python",
   "nbconvert_exporter": "python",
   "pygments_lexer": "ipython3",
   "version": "3.7.7"
  }
 },
 "nbformat": 4,
 "nbformat_minor": 2
}
